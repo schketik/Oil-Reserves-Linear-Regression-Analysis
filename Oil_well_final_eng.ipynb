{
 "cells": [
  {
   "cell_type": "markdown",
   "metadata": {},
   "source": [
    "# Oil wells reserach"
   ]
  },
  {
   "cell_type": "markdown",
   "metadata": {},
   "source": [
    "##  Business problem descitption and plan of work "
   ]
  },
  {
   "cell_type": "markdown",
   "metadata": {},
   "source": [
    "**Business Task:**\n",
    "\n",
    "The company \"GlavRosGosNeft\" faces the task of determining where to drill a new well.\n",
    "\n",
    "Oil samples from three regions have been provided for analysis: each region has 10,000 oil fields where the quality of the oil and its reserves have been measured. The goal is to build a machine learning model that will help identify the region where extraction will yield the highest profit. Then, the potential profit and risks should be analyzed using the *Bootstrap* technique.\n",
    "\n",
    "Steps for selecting a location:\n",
    "\n",
    "- In the chosen region, identify the oil fields and determine the feature values for each.\n",
    "- Build a model and estimate the reserves.\n",
    "- Select the oil fields with the highest estimated values. The number of selected fields depends on the company's budget and the cost of developing a single well.\n",
    "- Profit equals the total profit from the selected fields.\n",
    "\n",
    "**Work Plan:**\n",
    "\n",
    "1) Data Loading:\n",
    "   - Import datasets for analysis.\n",
    "   - Import libraries.\n",
    "\n",
    "2) Data Preprocessing:\n",
    "   - Perform data cleaning to handle missing values and remove duplicates.\n",
    "   - Convert data types as necessary.\n",
    "\n",
    "3) Exploratory Data Analysis:\n",
    "   - Correlation analysis.\n",
    "   - Statistical analysis.\n",
    "\n",
    "4) Calculate profit for the best oil fields.\n",
    "5) Analyze profit and risks using the Bootstrap technique.\n",
    "6) Final conclusions.\n",
    "\n",
    "**Datasets:**\n",
    "\n",
    "**geo_data_0.csv**\n",
    "**geo_data_1.csv**\n",
    "**geo_data_2.csv**\n",
    "- Contains data from geological surveys across three regions.\n",
    "- f0, f1, f2 — three features of the points.\n",
    "- Contains the target feature `product` (volume of reserves in the well).\n"
   ]
  },
  {
   "cell_type": "markdown",
   "metadata": {},
   "source": [
    "## Data loading and wrangling"
   ]
  },
  {
   "cell_type": "markdown",
   "metadata": {},
   "source": [
    "### Load data "
   ]
  },
  {
   "cell_type": "code",
   "execution_count": 6,
   "metadata": {},
   "outputs": [],
   "source": [
    "# import libraries\n",
    "import pandas as pd\n",
    "import matplotlib.pyplot as plt\n",
    "import seaborn as sns\n",
    "import numpy as np\n",
    "import os #dataset import\n",
    "\n",
    "#import statsmodels.api as sm\n",
    "from sklearn.model_selection import train_test_split, cross_val_score\n",
    "# data prepara\n",
    "\n",
    "# models\n",
    "from sklearn.linear_model import LinearRegression\n",
    "\n",
    "from statsmodels.stats.outliers_influence import variance_inflation_factor\n",
    "\n",
    "# metrics\n",
    "from sklearn.metrics import  mean_squared_error\n",
    "             \n",
    "import warnings\n",
    "warnings.filterwarnings(\"ignore\", message=\".*keepdims.*\", category=FutureWarning)"
   ]
  },
  {
   "cell_type": "code",
   "execution_count": 7,
   "metadata": {},
   "outputs": [],
   "source": [
    "pth1_geo_data_0 = 'geo_data_0.csv'\n",
    "pth2_geo_data_0 = '/datasets/geo_data_0.csv'\n",
    "\n",
    "pth1_geo_data_1 = 'geo_data_1.csv'\n",
    "pth2_geo_data_1 = '/datasets/geo_data_1.csv'\n",
    "\n",
    "pth1_geo_data_2 = 'geo_data_2.csv'\n",
    "pth2_geo_data_2 = '/datasets/geo_data_2.csv'\n",
    "\n",
    "# read files \n",
    "if os.path.exists(pth1_geo_data_0):\n",
    "    df_geo_data_0 = pd.read_csv(pth1_geo_data_0)\n",
    "elif os.path.exists(pth2_geo_data_0):\n",
    "    df_geo_data_0 = pd.read_csv(pth2_geo_data_0)\n",
    "else:\n",
    "    print('Something is wrong with geo_data_0.csv')\n",
    "\n",
    "if os.path.exists(pth1_geo_data_1):\n",
    "    df_geo_data_1 = pd.read_csv(pth1_geo_data_1)\n",
    "elif os.path.exists(pth2_geo_data_1):\n",
    "    df_geo_data_1 = pd.read_csv(pth2_geo_data_1)\n",
    "else:\n",
    "    print('Something is wrong with geo_data_1.csv')\n",
    "\n",
    "if os.path.exists(pth1_geo_data_2):\n",
    "    df_geo_data_2 = pd.read_csv(pth1_geo_data_2)\n",
    "elif os.path.exists(pth2_geo_data_2):\n",
    "    df_geo_data_2 = pd.read_csv(pth2_geo_data_2)\n",
    "else:\n",
    "    print('Something is wrong with geo_data_2.csv')\n"
   ]
  },
  {
   "cell_type": "code",
   "execution_count": 8,
   "metadata": {},
   "outputs": [
    {
     "data": {
      "text/html": [
       "<div>\n",
       "<style scoped>\n",
       "    .dataframe tbody tr th:only-of-type {\n",
       "        vertical-align: middle;\n",
       "    }\n",
       "\n",
       "    .dataframe tbody tr th {\n",
       "        vertical-align: top;\n",
       "    }\n",
       "\n",
       "    .dataframe thead th {\n",
       "        text-align: right;\n",
       "    }\n",
       "</style>\n",
       "<table border=\"1\" class=\"dataframe\">\n",
       "  <thead>\n",
       "    <tr style=\"text-align: right;\">\n",
       "      <th></th>\n",
       "      <th>id</th>\n",
       "      <th>f0</th>\n",
       "      <th>f1</th>\n",
       "      <th>f2</th>\n",
       "      <th>product</th>\n",
       "    </tr>\n",
       "  </thead>\n",
       "  <tbody>\n",
       "    <tr>\n",
       "      <th>0</th>\n",
       "      <td>txEyH</td>\n",
       "      <td>0.705745</td>\n",
       "      <td>-0.497823</td>\n",
       "      <td>1.221170</td>\n",
       "      <td>105.280062</td>\n",
       "    </tr>\n",
       "    <tr>\n",
       "      <th>1</th>\n",
       "      <td>2acmU</td>\n",
       "      <td>1.334711</td>\n",
       "      <td>-0.340164</td>\n",
       "      <td>4.365080</td>\n",
       "      <td>73.037750</td>\n",
       "    </tr>\n",
       "    <tr>\n",
       "      <th>2</th>\n",
       "      <td>409Wp</td>\n",
       "      <td>1.022732</td>\n",
       "      <td>0.151990</td>\n",
       "      <td>1.419926</td>\n",
       "      <td>85.265647</td>\n",
       "    </tr>\n",
       "  </tbody>\n",
       "</table>\n",
       "</div>"
      ],
      "text/plain": [
       "      id        f0        f1        f2     product\n",
       "0  txEyH  0.705745 -0.497823  1.221170  105.280062\n",
       "1  2acmU  1.334711 -0.340164  4.365080   73.037750\n",
       "2  409Wp  1.022732  0.151990  1.419926   85.265647"
      ]
     },
     "execution_count": 8,
     "metadata": {},
     "output_type": "execute_result"
    }
   ],
   "source": [
    "df_geo_data_0.head(3)"
   ]
  },
  {
   "cell_type": "code",
   "execution_count": 9,
   "metadata": {},
   "outputs": [
    {
     "data": {
      "text/html": [
       "<div>\n",
       "<style scoped>\n",
       "    .dataframe tbody tr th:only-of-type {\n",
       "        vertical-align: middle;\n",
       "    }\n",
       "\n",
       "    .dataframe tbody tr th {\n",
       "        vertical-align: top;\n",
       "    }\n",
       "\n",
       "    .dataframe thead th {\n",
       "        text-align: right;\n",
       "    }\n",
       "</style>\n",
       "<table border=\"1\" class=\"dataframe\">\n",
       "  <thead>\n",
       "    <tr style=\"text-align: right;\">\n",
       "      <th></th>\n",
       "      <th>id</th>\n",
       "      <th>f0</th>\n",
       "      <th>f1</th>\n",
       "      <th>f2</th>\n",
       "      <th>product</th>\n",
       "    </tr>\n",
       "  </thead>\n",
       "  <tbody>\n",
       "    <tr>\n",
       "      <th>0</th>\n",
       "      <td>kBEdx</td>\n",
       "      <td>-15.001348</td>\n",
       "      <td>-8.276000</td>\n",
       "      <td>-0.005876</td>\n",
       "      <td>3.179103</td>\n",
       "    </tr>\n",
       "    <tr>\n",
       "      <th>1</th>\n",
       "      <td>62mP7</td>\n",
       "      <td>14.272088</td>\n",
       "      <td>-3.475083</td>\n",
       "      <td>0.999183</td>\n",
       "      <td>26.953261</td>\n",
       "    </tr>\n",
       "    <tr>\n",
       "      <th>2</th>\n",
       "      <td>vyE1P</td>\n",
       "      <td>6.263187</td>\n",
       "      <td>-5.948386</td>\n",
       "      <td>5.001160</td>\n",
       "      <td>134.766305</td>\n",
       "    </tr>\n",
       "  </tbody>\n",
       "</table>\n",
       "</div>"
      ],
      "text/plain": [
       "      id         f0        f1        f2     product\n",
       "0  kBEdx -15.001348 -8.276000 -0.005876    3.179103\n",
       "1  62mP7  14.272088 -3.475083  0.999183   26.953261\n",
       "2  vyE1P   6.263187 -5.948386  5.001160  134.766305"
      ]
     },
     "execution_count": 9,
     "metadata": {},
     "output_type": "execute_result"
    }
   ],
   "source": [
    "df_geo_data_1.head(3)"
   ]
  },
  {
   "cell_type": "code",
   "execution_count": 10,
   "metadata": {},
   "outputs": [
    {
     "data": {
      "text/html": [
       "<div>\n",
       "<style scoped>\n",
       "    .dataframe tbody tr th:only-of-type {\n",
       "        vertical-align: middle;\n",
       "    }\n",
       "\n",
       "    .dataframe tbody tr th {\n",
       "        vertical-align: top;\n",
       "    }\n",
       "\n",
       "    .dataframe thead th {\n",
       "        text-align: right;\n",
       "    }\n",
       "</style>\n",
       "<table border=\"1\" class=\"dataframe\">\n",
       "  <thead>\n",
       "    <tr style=\"text-align: right;\">\n",
       "      <th></th>\n",
       "      <th>id</th>\n",
       "      <th>f0</th>\n",
       "      <th>f1</th>\n",
       "      <th>f2</th>\n",
       "      <th>product</th>\n",
       "    </tr>\n",
       "  </thead>\n",
       "  <tbody>\n",
       "    <tr>\n",
       "      <th>0</th>\n",
       "      <td>fwXo0</td>\n",
       "      <td>-1.146987</td>\n",
       "      <td>0.963328</td>\n",
       "      <td>-0.828965</td>\n",
       "      <td>27.758673</td>\n",
       "    </tr>\n",
       "    <tr>\n",
       "      <th>1</th>\n",
       "      <td>WJtFt</td>\n",
       "      <td>0.262778</td>\n",
       "      <td>0.269839</td>\n",
       "      <td>-2.530187</td>\n",
       "      <td>56.069697</td>\n",
       "    </tr>\n",
       "    <tr>\n",
       "      <th>2</th>\n",
       "      <td>ovLUW</td>\n",
       "      <td>0.194587</td>\n",
       "      <td>0.289035</td>\n",
       "      <td>-5.586433</td>\n",
       "      <td>62.871910</td>\n",
       "    </tr>\n",
       "  </tbody>\n",
       "</table>\n",
       "</div>"
      ],
      "text/plain": [
       "      id        f0        f1        f2    product\n",
       "0  fwXo0 -1.146987  0.963328 -0.828965  27.758673\n",
       "1  WJtFt  0.262778  0.269839 -2.530187  56.069697\n",
       "2  ovLUW  0.194587  0.289035 -5.586433  62.871910"
      ]
     },
     "execution_count": 10,
     "metadata": {},
     "output_type": "execute_result"
    }
   ],
   "source": [
    "df_geo_data_2.head(3)"
   ]
  },
  {
   "cell_type": "markdown",
   "metadata": {},
   "source": [
    "### Data Wrangling"
   ]
  },
  {
   "cell_type": "code",
   "execution_count": 12,
   "metadata": {},
   "outputs": [
    {
     "name": "stdout",
     "output_type": "stream",
     "text": [
      "<class 'pandas.core.frame.DataFrame'>\n",
      "RangeIndex: 100000 entries, 0 to 99999\n",
      "Data columns (total 5 columns):\n",
      " #   Column   Non-Null Count   Dtype  \n",
      "---  ------   --------------   -----  \n",
      " 0   id       100000 non-null  object \n",
      " 1   f0       100000 non-null  float64\n",
      " 2   f1       100000 non-null  float64\n",
      " 3   f2       100000 non-null  float64\n",
      " 4   product  100000 non-null  float64\n",
      "dtypes: float64(4), object(1)\n",
      "memory usage: 3.8+ MB\n"
     ]
    }
   ],
   "source": [
    "df_geo_data_0.info()"
   ]
  },
  {
   "cell_type": "code",
   "execution_count": 13,
   "metadata": {},
   "outputs": [
    {
     "name": "stdout",
     "output_type": "stream",
     "text": [
      "<class 'pandas.core.frame.DataFrame'>\n",
      "RangeIndex: 100000 entries, 0 to 99999\n",
      "Data columns (total 5 columns):\n",
      " #   Column   Non-Null Count   Dtype  \n",
      "---  ------   --------------   -----  \n",
      " 0   id       100000 non-null  object \n",
      " 1   f0       100000 non-null  float64\n",
      " 2   f1       100000 non-null  float64\n",
      " 3   f2       100000 non-null  float64\n",
      " 4   product  100000 non-null  float64\n",
      "dtypes: float64(4), object(1)\n",
      "memory usage: 3.8+ MB\n"
     ]
    }
   ],
   "source": [
    "df_geo_data_1.info()"
   ]
  },
  {
   "cell_type": "code",
   "execution_count": 14,
   "metadata": {},
   "outputs": [
    {
     "name": "stdout",
     "output_type": "stream",
     "text": [
      "<class 'pandas.core.frame.DataFrame'>\n",
      "RangeIndex: 100000 entries, 0 to 99999\n",
      "Data columns (total 5 columns):\n",
      " #   Column   Non-Null Count   Dtype  \n",
      "---  ------   --------------   -----  \n",
      " 0   id       100000 non-null  object \n",
      " 1   f0       100000 non-null  float64\n",
      " 2   f1       100000 non-null  float64\n",
      " 3   f2       100000 non-null  float64\n",
      " 4   product  100000 non-null  float64\n",
      "dtypes: float64(4), object(1)\n",
      "memory usage: 3.8+ MB\n"
     ]
    }
   ],
   "source": [
    "df_geo_data_2.info()"
   ]
  },
  {
   "cell_type": "code",
   "execution_count": 15,
   "metadata": {},
   "outputs": [
    {
     "name": "stdout",
     "output_type": "stream",
     "text": [
      "0\n",
      "0\n",
      "0\n"
     ]
    }
   ],
   "source": [
    "# Проверим на дупликаты\n",
    "print(df_geo_data_0.duplicated().sum())\n",
    "print(df_geo_data_1.duplicated().sum())\n",
    "print(df_geo_data_2.duplicated().sum())"
   ]
  },
  {
   "cell_type": "code",
   "execution_count": 16,
   "metadata": {},
   "outputs": [
    {
     "name": "stdout",
     "output_type": "stream",
     "text": [
      "10\n",
      "4\n",
      "4\n"
     ]
    }
   ],
   "source": [
    "print(df_geo_data_0['id'].duplicated().sum())\n",
    "print(df_geo_data_1['id'].duplicated().sum())\n",
    "print(df_geo_data_2['id'].duplicated().sum())"
   ]
  },
  {
   "cell_type": "markdown",
   "metadata": {},
   "source": [
    "\n",
    "**Conclusion:**\n",
    "\n",
    "- The datasets contain 1,000,000 observations, 4 features, plus an ID.\n",
    "- No missing values were found.\n",
    "- A check for duplicates was performed; duplicate IDs were found, but since their number is small, we will not delete them.\n",
    "- Data types are in order.\n"
   ]
  },
  {
   "cell_type": "markdown",
   "metadata": {},
   "source": [
    "### Statistical analysis"
   ]
  },
  {
   "cell_type": "code",
   "execution_count": 19,
   "metadata": {},
   "outputs": [
    {
     "data": {
      "text/html": [
       "<div>\n",
       "<style scoped>\n",
       "    .dataframe tbody tr th:only-of-type {\n",
       "        vertical-align: middle;\n",
       "    }\n",
       "\n",
       "    .dataframe tbody tr th {\n",
       "        vertical-align: top;\n",
       "    }\n",
       "\n",
       "    .dataframe thead th {\n",
       "        text-align: right;\n",
       "    }\n",
       "</style>\n",
       "<table border=\"1\" class=\"dataframe\">\n",
       "  <thead>\n",
       "    <tr style=\"text-align: right;\">\n",
       "      <th></th>\n",
       "      <th>f0</th>\n",
       "      <th>f1</th>\n",
       "      <th>f2</th>\n",
       "      <th>product</th>\n",
       "    </tr>\n",
       "  </thead>\n",
       "  <tbody>\n",
       "    <tr>\n",
       "      <th>count</th>\n",
       "      <td>100000.000000</td>\n",
       "      <td>100000.000000</td>\n",
       "      <td>100000.000000</td>\n",
       "      <td>100000.000000</td>\n",
       "    </tr>\n",
       "    <tr>\n",
       "      <th>mean</th>\n",
       "      <td>0.500419</td>\n",
       "      <td>0.250143</td>\n",
       "      <td>2.502647</td>\n",
       "      <td>92.500000</td>\n",
       "    </tr>\n",
       "    <tr>\n",
       "      <th>std</th>\n",
       "      <td>0.871832</td>\n",
       "      <td>0.504433</td>\n",
       "      <td>3.248248</td>\n",
       "      <td>44.288691</td>\n",
       "    </tr>\n",
       "    <tr>\n",
       "      <th>min</th>\n",
       "      <td>-1.408605</td>\n",
       "      <td>-0.848218</td>\n",
       "      <td>-12.088328</td>\n",
       "      <td>0.000000</td>\n",
       "    </tr>\n",
       "    <tr>\n",
       "      <th>25%</th>\n",
       "      <td>-0.072580</td>\n",
       "      <td>-0.200881</td>\n",
       "      <td>0.287748</td>\n",
       "      <td>56.497507</td>\n",
       "    </tr>\n",
       "    <tr>\n",
       "      <th>50%</th>\n",
       "      <td>0.502360</td>\n",
       "      <td>0.250252</td>\n",
       "      <td>2.515969</td>\n",
       "      <td>91.849972</td>\n",
       "    </tr>\n",
       "    <tr>\n",
       "      <th>75%</th>\n",
       "      <td>1.073581</td>\n",
       "      <td>0.700646</td>\n",
       "      <td>4.715088</td>\n",
       "      <td>128.564089</td>\n",
       "    </tr>\n",
       "    <tr>\n",
       "      <th>max</th>\n",
       "      <td>2.362331</td>\n",
       "      <td>1.343769</td>\n",
       "      <td>16.003790</td>\n",
       "      <td>185.364347</td>\n",
       "    </tr>\n",
       "  </tbody>\n",
       "</table>\n",
       "</div>"
      ],
      "text/plain": [
       "                  f0             f1             f2        product\n",
       "count  100000.000000  100000.000000  100000.000000  100000.000000\n",
       "mean        0.500419       0.250143       2.502647      92.500000\n",
       "std         0.871832       0.504433       3.248248      44.288691\n",
       "min        -1.408605      -0.848218     -12.088328       0.000000\n",
       "25%        -0.072580      -0.200881       0.287748      56.497507\n",
       "50%         0.502360       0.250252       2.515969      91.849972\n",
       "75%         1.073581       0.700646       4.715088     128.564089\n",
       "max         2.362331       1.343769      16.003790     185.364347"
      ]
     },
     "execution_count": 19,
     "metadata": {},
     "output_type": "execute_result"
    }
   ],
   "source": [
    "df_geo_data_0.describe()"
   ]
  },
  {
   "cell_type": "code",
   "execution_count": 20,
   "metadata": {},
   "outputs": [
    {
     "data": {
      "text/html": [
       "<div>\n",
       "<style scoped>\n",
       "    .dataframe tbody tr th:only-of-type {\n",
       "        vertical-align: middle;\n",
       "    }\n",
       "\n",
       "    .dataframe tbody tr th {\n",
       "        vertical-align: top;\n",
       "    }\n",
       "\n",
       "    .dataframe thead th {\n",
       "        text-align: right;\n",
       "    }\n",
       "</style>\n",
       "<table border=\"1\" class=\"dataframe\">\n",
       "  <thead>\n",
       "    <tr style=\"text-align: right;\">\n",
       "      <th></th>\n",
       "      <th>f0</th>\n",
       "      <th>f1</th>\n",
       "      <th>f2</th>\n",
       "      <th>product</th>\n",
       "    </tr>\n",
       "  </thead>\n",
       "  <tbody>\n",
       "    <tr>\n",
       "      <th>count</th>\n",
       "      <td>100000.000000</td>\n",
       "      <td>100000.000000</td>\n",
       "      <td>100000.000000</td>\n",
       "      <td>100000.000000</td>\n",
       "    </tr>\n",
       "    <tr>\n",
       "      <th>mean</th>\n",
       "      <td>1.141296</td>\n",
       "      <td>-4.796579</td>\n",
       "      <td>2.494541</td>\n",
       "      <td>68.825000</td>\n",
       "    </tr>\n",
       "    <tr>\n",
       "      <th>std</th>\n",
       "      <td>8.965932</td>\n",
       "      <td>5.119872</td>\n",
       "      <td>1.703572</td>\n",
       "      <td>45.944423</td>\n",
       "    </tr>\n",
       "    <tr>\n",
       "      <th>min</th>\n",
       "      <td>-31.609576</td>\n",
       "      <td>-26.358598</td>\n",
       "      <td>-0.018144</td>\n",
       "      <td>0.000000</td>\n",
       "    </tr>\n",
       "    <tr>\n",
       "      <th>25%</th>\n",
       "      <td>-6.298551</td>\n",
       "      <td>-8.267985</td>\n",
       "      <td>1.000021</td>\n",
       "      <td>26.953261</td>\n",
       "    </tr>\n",
       "    <tr>\n",
       "      <th>50%</th>\n",
       "      <td>1.153055</td>\n",
       "      <td>-4.813172</td>\n",
       "      <td>2.011479</td>\n",
       "      <td>57.085625</td>\n",
       "    </tr>\n",
       "    <tr>\n",
       "      <th>75%</th>\n",
       "      <td>8.621015</td>\n",
       "      <td>-1.332816</td>\n",
       "      <td>3.999904</td>\n",
       "      <td>107.813044</td>\n",
       "    </tr>\n",
       "    <tr>\n",
       "      <th>max</th>\n",
       "      <td>29.421755</td>\n",
       "      <td>18.734063</td>\n",
       "      <td>5.019721</td>\n",
       "      <td>137.945408</td>\n",
       "    </tr>\n",
       "  </tbody>\n",
       "</table>\n",
       "</div>"
      ],
      "text/plain": [
       "                  f0             f1             f2        product\n",
       "count  100000.000000  100000.000000  100000.000000  100000.000000\n",
       "mean        1.141296      -4.796579       2.494541      68.825000\n",
       "std         8.965932       5.119872       1.703572      45.944423\n",
       "min       -31.609576     -26.358598      -0.018144       0.000000\n",
       "25%        -6.298551      -8.267985       1.000021      26.953261\n",
       "50%         1.153055      -4.813172       2.011479      57.085625\n",
       "75%         8.621015      -1.332816       3.999904     107.813044\n",
       "max        29.421755      18.734063       5.019721     137.945408"
      ]
     },
     "execution_count": 20,
     "metadata": {},
     "output_type": "execute_result"
    }
   ],
   "source": [
    "df_geo_data_1.describe()"
   ]
  },
  {
   "cell_type": "code",
   "execution_count": 21,
   "metadata": {},
   "outputs": [
    {
     "data": {
      "text/html": [
       "<div>\n",
       "<style scoped>\n",
       "    .dataframe tbody tr th:only-of-type {\n",
       "        vertical-align: middle;\n",
       "    }\n",
       "\n",
       "    .dataframe tbody tr th {\n",
       "        vertical-align: top;\n",
       "    }\n",
       "\n",
       "    .dataframe thead th {\n",
       "        text-align: right;\n",
       "    }\n",
       "</style>\n",
       "<table border=\"1\" class=\"dataframe\">\n",
       "  <thead>\n",
       "    <tr style=\"text-align: right;\">\n",
       "      <th></th>\n",
       "      <th>f0</th>\n",
       "      <th>f1</th>\n",
       "      <th>f2</th>\n",
       "      <th>product</th>\n",
       "    </tr>\n",
       "  </thead>\n",
       "  <tbody>\n",
       "    <tr>\n",
       "      <th>count</th>\n",
       "      <td>100000.000000</td>\n",
       "      <td>100000.000000</td>\n",
       "      <td>100000.000000</td>\n",
       "      <td>100000.000000</td>\n",
       "    </tr>\n",
       "    <tr>\n",
       "      <th>mean</th>\n",
       "      <td>0.002023</td>\n",
       "      <td>-0.002081</td>\n",
       "      <td>2.495128</td>\n",
       "      <td>95.000000</td>\n",
       "    </tr>\n",
       "    <tr>\n",
       "      <th>std</th>\n",
       "      <td>1.732045</td>\n",
       "      <td>1.730417</td>\n",
       "      <td>3.473445</td>\n",
       "      <td>44.749921</td>\n",
       "    </tr>\n",
       "    <tr>\n",
       "      <th>min</th>\n",
       "      <td>-8.760004</td>\n",
       "      <td>-7.084020</td>\n",
       "      <td>-11.970335</td>\n",
       "      <td>0.000000</td>\n",
       "    </tr>\n",
       "    <tr>\n",
       "      <th>25%</th>\n",
       "      <td>-1.162288</td>\n",
       "      <td>-1.174820</td>\n",
       "      <td>0.130359</td>\n",
       "      <td>59.450441</td>\n",
       "    </tr>\n",
       "    <tr>\n",
       "      <th>50%</th>\n",
       "      <td>0.009424</td>\n",
       "      <td>-0.009482</td>\n",
       "      <td>2.484236</td>\n",
       "      <td>94.925613</td>\n",
       "    </tr>\n",
       "    <tr>\n",
       "      <th>75%</th>\n",
       "      <td>1.158535</td>\n",
       "      <td>1.163678</td>\n",
       "      <td>4.858794</td>\n",
       "      <td>130.595027</td>\n",
       "    </tr>\n",
       "    <tr>\n",
       "      <th>max</th>\n",
       "      <td>7.238262</td>\n",
       "      <td>7.844801</td>\n",
       "      <td>16.739402</td>\n",
       "      <td>190.029838</td>\n",
       "    </tr>\n",
       "  </tbody>\n",
       "</table>\n",
       "</div>"
      ],
      "text/plain": [
       "                  f0             f1             f2        product\n",
       "count  100000.000000  100000.000000  100000.000000  100000.000000\n",
       "mean        0.002023      -0.002081       2.495128      95.000000\n",
       "std         1.732045       1.730417       3.473445      44.749921\n",
       "min        -8.760004      -7.084020     -11.970335       0.000000\n",
       "25%        -1.162288      -1.174820       0.130359      59.450441\n",
       "50%         0.009424      -0.009482       2.484236      94.925613\n",
       "75%         1.158535       1.163678       4.858794     130.595027\n",
       "max         7.238262       7.844801      16.739402     190.029838"
      ]
     },
     "execution_count": 21,
     "metadata": {},
     "output_type": "execute_result"
    }
   ],
   "source": [
    "df_geo_data_2.describe()"
   ]
  },
  {
   "cell_type": "code",
   "execution_count": 22,
   "metadata": {},
   "outputs": [
    {
     "name": "stdout",
     "output_type": "stream",
     "text": [
      "1\n",
      "8235\n",
      "1\n"
     ]
    }
   ],
   "source": [
    "print((df_geo_data_0['product'] == 0).sum())\n",
    "print((df_geo_data_1['product'] == 0).sum())\n",
    "print((df_geo_data_2['product'] == 0).sum())"
   ]
  },
  {
   "cell_type": "markdown",
   "metadata": {},
   "source": [
    "В датасете df_geo_data_1 можно наблюдать много нулевых значений. Не будем их удалять или заполнять, так как они несут в себе важную информацию о том, что объем запасов нефти в этих точках нулевой. "
   ]
  },
  {
   "cell_type": "code",
   "execution_count": 24,
   "metadata": {},
   "outputs": [
    {
     "data": {
      "image/png": "[encoded data removed]",
      "text/plain": [
       "<Figure size 1400x1000 with 3 Axes>"
      ]
     },
     "metadata": {},
     "output_type": "display_data"
    }
   ],
   "source": [
    "plt.figure(figsize=(14,10))\n",
    "\n",
    "plt.subplot(2,2,1)\n",
    "df_geo_data_0['product'].hist(bins=60)\n",
    "plt.title('Distribution of oil volume at Region_1')\n",
    "plt.xlabel('product')\n",
    "plt.ylabel('Count')\n",
    "\n",
    "plt.subplot(2,2,2)\n",
    "df_geo_data_1['product'].hist(bins = 30)\n",
    "plt.title('Distribution of oil volume at Region_2')\n",
    "plt.xlabel('product')\n",
    "plt.ylabel('Count')\n",
    "\n",
    "plt.subplot(2,2,3)\n",
    "df_geo_data_2['product'].hist(bins=60)\n",
    "plt.title('Distribution of oil volume at Region_3')\n",
    "plt.xlabel('product')\n",
    "plt.ylabel('Count')\n",
    "\n",
    "\n",
    "plt.show()"
   ]
  },
  {
   "cell_type": "markdown",
   "metadata": {},
   "source": [
    "\n",
    "- The distribution for region 2 does not appear as normal as for regions 1 and 3.\n",
    "- The distribution for region 2 is multimodal, with most of the data concentrated in specific chunks.\n"
   ]
  },
  {
   "cell_type": "markdown",
   "metadata": {},
   "source": [
    "Lets check the boxplot:"
   ]
  },
  {
   "cell_type": "code",
   "execution_count": 27,
   "metadata": {},
   "outputs": [
    {
     "data": {
      "image/png": "[encoded data removed]",
      "text/plain": [
       "<Figure size 800x200 with 1 Axes>"
      ]
     },
     "metadata": {},
     "output_type": "display_data"
    },
    {
     "data": {
      "image/png": "[encoded data removed]",
      "text/plain": [
       "<Figure size 800x200 with 1 Axes>"
      ]
     },
     "metadata": {},
     "output_type": "display_data"
    },
    {
     "data": {
      "image/png": "[encoded data removed]",
      "text/plain": [
       "<Figure size 800x200 with 1 Axes>"
      ]
     },
     "metadata": {},
     "output_type": "display_data"
    },
    {
     "data": {
      "image/png": "[encoded data removed]",
      "text/plain": [
       "<Figure size 800x200 with 1 Axes>"
      ]
     },
     "metadata": {},
     "output_type": "display_data"
    },
    {
     "data": {
      "image/png": "[encoded data removed]",
      "text/plain": [
       "<Figure size 800x200 with 1 Axes>"
      ]
     },
     "metadata": {},
     "output_type": "display_data"
    },
    {
     "data": {
      "image/png": "[encoded data removed]",
      "text/plain": [
       "<Figure size 800x200 with 1 Axes>"
      ]
     },
     "metadata": {},
     "output_type": "display_data"
    },
    {
     "data": {
      "image/png": "[encoded data removed]",
      "text/plain": [
       "<Figure size 800x200 with 1 Axes>"
      ]
     },
     "metadata": {},
     "output_type": "display_data"
    },
    {
     "data": {
      "image/png": "[encoded data removed]",
      "text/plain": [
       "<Figure size 800x200 with 1 Axes>"
      ]
     },
     "metadata": {},
     "output_type": "display_data"
    },
    {
     "data": {
      "image/png": "[encoded data removed]",
      "text/plain": [
       "<Figure size 800x200 with 1 Axes>"
      ]
     },
     "metadata": {},
     "output_type": "display_data"
    }
   ],
   "source": [
    "datasets = {\n",
    "    'Reg1': df_geo_data_0,\n",
    "    'Reg2': df_geo_data_1,\n",
    "    'Reg3': df_geo_data_2\n",
    "}\n",
    "\n",
    "features = ['f0', 'f1', 'f2']\n",
    "\n",
    "for region, df in datasets.items():\n",
    "    for feature in features:\n",
    "        plt.figure(figsize=(8, 2))\n",
    "        plt.boxplot(df[feature], vert=False)\n",
    "        plt.xlabel('Data')\n",
    "        plt.title(f'Stats {feature} {region}')\n",
    "        plt.show()"
   ]
  },
  {
   "cell_type": "code",
   "execution_count": 28,
   "metadata": {},
   "outputs": [
    {
     "name": "stdout",
     "output_type": "stream",
     "text": [
      "(100000, 5)\n",
      "(99249, 5)\n"
     ]
    }
   ],
   "source": [
    "print(df_geo_data_0.shape)\n",
    "df_geo_data_0 = df_geo_data_0[(df_geo_data_0['f2'] > -6) & (df_geo_data_0['f2'] < 11)]\n",
    "print(df_geo_data_0.shape)"
   ]
  },
  {
   "cell_type": "code",
   "execution_count": 29,
   "metadata": {},
   "outputs": [
    {
     "name": "stdout",
     "output_type": "stream",
     "text": [
      "(100000, 5)\n",
      "(99194, 5)\n"
     ]
    }
   ],
   "source": [
    "print(df_geo_data_1.shape)\n",
    "df_geo_data_1 = df_geo_data_1[(df_geo_data_1['f1'] > -18) & (df_geo_data_1['f1'] < 9)]\n",
    "print(df_geo_data_1.shape)"
   ]
  },
  {
   "cell_type": "code",
   "execution_count": 30,
   "metadata": {},
   "outputs": [
    {
     "name": "stdout",
     "output_type": "stream",
     "text": [
      "(100000, 5)\n",
      "(94947, 5)\n"
     ]
    }
   ],
   "source": [
    "print(df_geo_data_2.shape)\n",
    "df_geo_data_2 = df_geo_data_2[\n",
    "                (df_geo_data_2['f0'] > -4) &\n",
    "                 (df_geo_data_2['f0'] < 4) &\n",
    "                 (df_geo_data_2['f1'] > -4) &\n",
    "                 (df_geo_data_2['f1'] < 4) &\n",
    "                (df_geo_data_2['f2'] > -6) &\n",
    "                 (df_geo_data_2['f2'] < 12) ]\n",
    "                    \n",
    "print(df_geo_data_2.shape)"
   ]
  },
  {
   "cell_type": "markdown",
   "metadata": {},
   "source": [
    "### Correlation analysis"
   ]
  },
  {
   "cell_type": "code",
   "execution_count": 32,
   "metadata": {},
   "outputs": [],
   "source": [
    "df_geo_data_0 = df_geo_data_0.set_index('id')"
   ]
  },
  {
   "cell_type": "code",
   "execution_count": 33,
   "metadata": {},
   "outputs": [
    {
     "data": {
      "text/html": [
       "<div>\n",
       "<style scoped>\n",
       "    .dataframe tbody tr th:only-of-type {\n",
       "        vertical-align: middle;\n",
       "    }\n",
       "\n",
       "    .dataframe tbody tr th {\n",
       "        vertical-align: top;\n",
       "    }\n",
       "\n",
       "    .dataframe thead th {\n",
       "        text-align: right;\n",
       "    }\n",
       "</style>\n",
       "<table border=\"1\" class=\"dataframe\">\n",
       "  <thead>\n",
       "    <tr style=\"text-align: right;\">\n",
       "      <th></th>\n",
       "      <th>f0</th>\n",
       "      <th>f1</th>\n",
       "      <th>f2</th>\n",
       "      <th>product</th>\n",
       "    </tr>\n",
       "  </thead>\n",
       "  <tbody>\n",
       "    <tr>\n",
       "      <th>f0</th>\n",
       "      <td>1.000000</td>\n",
       "      <td>-0.440770</td>\n",
       "      <td>-0.003119</td>\n",
       "      <td>0.143698</td>\n",
       "    </tr>\n",
       "    <tr>\n",
       "      <th>f1</th>\n",
       "      <td>-0.440770</td>\n",
       "      <td>1.000000</td>\n",
       "      <td>0.001008</td>\n",
       "      <td>-0.192877</td>\n",
       "    </tr>\n",
       "    <tr>\n",
       "      <th>f2</th>\n",
       "      <td>-0.003119</td>\n",
       "      <td>0.001008</td>\n",
       "      <td>1.000000</td>\n",
       "      <td>0.478095</td>\n",
       "    </tr>\n",
       "    <tr>\n",
       "      <th>product</th>\n",
       "      <td>0.143698</td>\n",
       "      <td>-0.192877</td>\n",
       "      <td>0.478095</td>\n",
       "      <td>1.000000</td>\n",
       "    </tr>\n",
       "  </tbody>\n",
       "</table>\n",
       "</div>"
      ],
      "text/plain": [
       "               f0        f1        f2   product\n",
       "f0       1.000000 -0.440770 -0.003119  0.143698\n",
       "f1      -0.440770  1.000000  0.001008 -0.192877\n",
       "f2      -0.003119  0.001008  1.000000  0.478095\n",
       "product  0.143698 -0.192877  0.478095  1.000000"
      ]
     },
     "execution_count": 33,
     "metadata": {},
     "output_type": "execute_result"
    }
   ],
   "source": [
    "#region 1\n",
    "reg1 = df_geo_data_0.corr()\n",
    "reg1"
   ]
  },
  {
   "cell_type": "code",
   "execution_count": 34,
   "metadata": {},
   "outputs": [
    {
     "data": {
      "image/png": "[encoded data removed]",
      "text/plain": [
       "<Figure size 640x480 with 2 Axes>"
      ]
     },
     "metadata": {},
     "output_type": "display_data"
    }
   ],
   "source": [
    "sns.heatmap(reg1, annot=True, cmap='coolwarm', vmin=-1)\n",
    "plt.title('Correlation between features')\n",
    "plt.show()"
   ]
  },
  {
   "cell_type": "code",
   "execution_count": 35,
   "metadata": {},
   "outputs": [],
   "source": [
    "df_geo_data_1 = df_geo_data_1.set_index('id')"
   ]
  },
  {
   "cell_type": "code",
   "execution_count": 36,
   "metadata": {},
   "outputs": [
    {
     "data": {
      "text/html": [
       "<div>\n",
       "<style scoped>\n",
       "    .dataframe tbody tr th:only-of-type {\n",
       "        vertical-align: middle;\n",
       "    }\n",
       "\n",
       "    .dataframe tbody tr th {\n",
       "        vertical-align: top;\n",
       "    }\n",
       "\n",
       "    .dataframe thead th {\n",
       "        text-align: right;\n",
       "    }\n",
       "</style>\n",
       "<table border=\"1\" class=\"dataframe\">\n",
       "  <thead>\n",
       "    <tr style=\"text-align: right;\">\n",
       "      <th></th>\n",
       "      <th>f0</th>\n",
       "      <th>f1</th>\n",
       "      <th>f2</th>\n",
       "      <th>product</th>\n",
       "    </tr>\n",
       "  </thead>\n",
       "  <tbody>\n",
       "    <tr>\n",
       "      <th>f0</th>\n",
       "      <td>1.000000</td>\n",
       "      <td>0.178281</td>\n",
       "      <td>-0.001509</td>\n",
       "      <td>-0.030228</td>\n",
       "    </tr>\n",
       "    <tr>\n",
       "      <th>f1</th>\n",
       "      <td>0.178281</td>\n",
       "      <td>1.000000</td>\n",
       "      <td>-0.002183</td>\n",
       "      <td>-0.009581</td>\n",
       "    </tr>\n",
       "    <tr>\n",
       "      <th>f2</th>\n",
       "      <td>-0.001509</td>\n",
       "      <td>-0.002183</td>\n",
       "      <td>1.000000</td>\n",
       "      <td>0.999397</td>\n",
       "    </tr>\n",
       "    <tr>\n",
       "      <th>product</th>\n",
       "      <td>-0.030228</td>\n",
       "      <td>-0.009581</td>\n",
       "      <td>0.999397</td>\n",
       "      <td>1.000000</td>\n",
       "    </tr>\n",
       "  </tbody>\n",
       "</table>\n",
       "</div>"
      ],
      "text/plain": [
       "               f0        f1        f2   product\n",
       "f0       1.000000  0.178281 -0.001509 -0.030228\n",
       "f1       0.178281  1.000000 -0.002183 -0.009581\n",
       "f2      -0.001509 -0.002183  1.000000  0.999397\n",
       "product -0.030228 -0.009581  0.999397  1.000000"
      ]
     },
     "execution_count": 36,
     "metadata": {},
     "output_type": "execute_result"
    }
   ],
   "source": [
    "#region 2\n",
    "reg2 = df_geo_data_1.corr()\n",
    "reg2"
   ]
  },
  {
   "cell_type": "code",
   "execution_count": 37,
   "metadata": {},
   "outputs": [
    {
     "data": {
      "image/png": "[encoded data removed]",
      "text/plain": [
       "<Figure size 640x480 with 2 Axes>"
      ]
     },
     "metadata": {},
     "output_type": "display_data"
    }
   ],
   "source": [
    "sns.heatmap(reg2, annot=True, cmap='coolwarm', vmin=-1)\n",
    "plt.title('Correlation between features')\n",
    "plt.show()"
   ]
  },
  {
   "cell_type": "code",
   "execution_count": 38,
   "metadata": {},
   "outputs": [],
   "source": [
    "df_geo_data_2 = df_geo_data_2.set_index('id')"
   ]
  },
  {
   "cell_type": "code",
   "execution_count": 39,
   "metadata": {},
   "outputs": [
    {
     "data": {
      "text/html": [
       "<div>\n",
       "<style scoped>\n",
       "    .dataframe tbody tr th:only-of-type {\n",
       "        vertical-align: middle;\n",
       "    }\n",
       "\n",
       "    .dataframe tbody tr th {\n",
       "        vertical-align: top;\n",
       "    }\n",
       "\n",
       "    .dataframe thead th {\n",
       "        text-align: right;\n",
       "    }\n",
       "</style>\n",
       "<table border=\"1\" class=\"dataframe\">\n",
       "  <thead>\n",
       "    <tr style=\"text-align: right;\">\n",
       "      <th></th>\n",
       "      <th>f0</th>\n",
       "      <th>f1</th>\n",
       "      <th>f2</th>\n",
       "      <th>product</th>\n",
       "    </tr>\n",
       "  </thead>\n",
       "  <tbody>\n",
       "    <tr>\n",
       "      <th>f0</th>\n",
       "      <td>1.000000</td>\n",
       "      <td>0.000977</td>\n",
       "      <td>-0.000233</td>\n",
       "      <td>-0.003288</td>\n",
       "    </tr>\n",
       "    <tr>\n",
       "      <th>f1</th>\n",
       "      <td>0.000977</td>\n",
       "      <td>1.000000</td>\n",
       "      <td>0.002348</td>\n",
       "      <td>0.000772</td>\n",
       "    </tr>\n",
       "    <tr>\n",
       "      <th>f2</th>\n",
       "      <td>-0.000233</td>\n",
       "      <td>0.002348</td>\n",
       "      <td>1.000000</td>\n",
       "      <td>0.438084</td>\n",
       "    </tr>\n",
       "    <tr>\n",
       "      <th>product</th>\n",
       "      <td>-0.003288</td>\n",
       "      <td>0.000772</td>\n",
       "      <td>0.438084</td>\n",
       "      <td>1.000000</td>\n",
       "    </tr>\n",
       "  </tbody>\n",
       "</table>\n",
       "</div>"
      ],
      "text/plain": [
       "               f0        f1        f2   product\n",
       "f0       1.000000  0.000977 -0.000233 -0.003288\n",
       "f1       0.000977  1.000000  0.002348  0.000772\n",
       "f2      -0.000233  0.002348  1.000000  0.438084\n",
       "product -0.003288  0.000772  0.438084  1.000000"
      ]
     },
     "execution_count": 39,
     "metadata": {},
     "output_type": "execute_result"
    }
   ],
   "source": [
    "#region 3\n",
    "reg3 = df_geo_data_2.corr()\n",
    "reg3"
   ]
  },
  {
   "cell_type": "code",
   "execution_count": 40,
   "metadata": {},
   "outputs": [
    {
     "data": {
      "image/png": "[encoded data removed]",
      "text/plain": [
       "<Figure size 640x480 with 2 Axes>"
      ]
     },
     "metadata": {},
     "output_type": "display_data"
    }
   ],
   "source": [
    "sns.heatmap(reg3, annot=True, cmap='coolwarm', vmin=-1)\n",
    "plt.title('Correlation between features')\n",
    "plt.show()"
   ]
  },
  {
   "cell_type": "markdown",
   "metadata": {},
   "source": [
    "\n",
    "\n",
    "- A high correlation can be observed for region 2 between feature f2 and the target feature product (0.99).\n",
    "- In the other regions, a similar situation is observed— the correlation between f2 and product is much higher than between other features.\n",
    "- We can conclude that f2 is a very important feature and will have a strong impact on the target parameter.\n",
    "\n"
   ]
  },
  {
   "cell_type": "markdown",
   "metadata": {},
   "source": [
    "## Model Training "
   ]
  },
  {
   "cell_type": "code",
   "execution_count": 43,
   "metadata": {},
   "outputs": [],
   "source": [
    "\"\"\"\n",
    "datasets - dictionary for all datasets (3 regions) \n",
    "res - dictionary for storing the results \n",
    "final_result_df - dataframe for storing the results \n",
    "\"\"\"\n",
    "datasets = {'region_1': df_geo_data_0,\n",
    "            'region_2': df_geo_data_1,\n",
    "            'region_3': df_geo_data_2}\n",
    "res = {}\n",
    "final_result_df = pd.DataFrame()"
   ]
  },
  {
   "cell_type": "code",
   "execution_count": 44,
   "metadata": {},
   "outputs": [],
   "source": [
    "for region, df in datasets.items():\n",
    "    # split data to train and validation \n",
    "    X = df.drop(columns = ['product'])\n",
    "    y = df['product']\n",
    "\n",
    "    X_train, X_valid, y_train, y_valid = train_test_split(X, y, test_size = 0.25, random_state = 42)\n",
    "\n",
    "    # train model using Linear Regression  \n",
    "    model = LinearRegression()\n",
    "    model.fit(X_train, y_train)\n",
    "\n",
    "    #predict on validation sample  \n",
    "    y_pred = model.predict(X_valid)\n",
    "\n",
    "    #calculate mean value for prediction  \n",
    "    mean_pred = np.mean(y_pred)\n",
    "\n",
    "    #calculate rmse metric\n",
    "    rmse = np.sqrt(mean_squared_error(y_valid, y_pred))\n",
    "    # store the results in the dictionary res\n",
    "    res[region] = {\n",
    "        'mean_pred': mean_pred, \n",
    "        'rmse': rmse\n",
    "    }\n",
    "    \n",
    "    result_df = pd.DataFrame({\n",
    "        'region': region,\n",
    "        'actual': y_valid, \n",
    "        'predicted': y_pred})\n",
    "    \n",
    "    final_result_df = pd.concat([final_result_df, result_df] )\n",
    "    "
   ]
  },
  {
   "cell_type": "code",
   "execution_count": 45,
   "metadata": {},
   "outputs": [
    {
     "name": "stdout",
     "output_type": "stream",
     "text": [
      "Region: region_1\n",
      "Mean predicted reserve volume: 92.5217350230591\n",
      "RMSE: 37.680290611151165\n",
      "-----------------------\n",
      "Region: region_2\n",
      "Mean predicted reserve volume: 68.58231044861962\n",
      "RMSE: 0.8956835106487105\n",
      "-----------------------\n",
      "Region: region_3\n",
      "Mean predicted reserve volume: 94.88195475323693\n",
      "RMSE: 40.17277018812719\n",
      "-----------------------\n"
     ]
    }
   ],
   "source": [
    "#diaply the results\n",
    "for region, metrics in res.items():\n",
    "    print(f'Region: {region}')\n",
    "    print(f'Mean predicted reserve volume: {metrics[\"mean_pred\"]}')\n",
    "    print(f'RMSE: {metrics[\"rmse\"]}')\n",
    "    print('-----------------------')"
   ]
  },
  {
   "cell_type": "markdown",
   "metadata": {},
   "source": [
    "**Results**\n",
    "- The RMSE metric shows that, on average, the deviation from the true value is 37 and 40 thousand barrels, which is quite significant compared to the predicted values.\n",
    "- At the same time, region 2 shows a good result, with an RMSE of only 0.89, which is a very low deviation, indicating that the prediction result is very good."
   ]
  },
  {
   "cell_type": "markdown",
   "metadata": {},
   "source": [
    "## Revenue calculation "
   ]
  },
  {
   "cell_type": "markdown",
   "metadata": {},
   "source": [
    "The business has provided some additional data: \n",
    "- budget for the well drilling in the region is 10 billion rubles\n",
    "- income from 1000 barrel is 450 000 rubles "
   ]
  },
  {
   "cell_type": "code",
   "execution_count": 49,
   "metadata": {},
   "outputs": [],
   "source": [
    "project_budget = 10_000_000_000\n",
    "income_barrel = 450_000"
   ]
  },
  {
   "cell_type": "markdown",
   "metadata": {},
   "source": [
    "Now we calculate the required volume of resources for the break-even development of a new well"
   ]
  },
  {
   "cell_type": "markdown",
   "metadata": {},
   "source": [
    "During the exploration of the region, 500 locations are studied, from which the 200 best sites for development are selected using machine learning"
   ]
  },
  {
   "cell_type": "code",
   "execution_count": 52,
   "metadata": {},
   "outputs": [],
   "source": [
    "required_volume = project_budget / income_barrel /200"
   ]
  },
  {
   "cell_type": "code",
   "execution_count": 53,
   "metadata": {},
   "outputs": [
    {
     "name": "stdout",
     "output_type": "stream",
     "text": [
      "Required volume of resources for break-even: 111 thousand barrels\n"
     ]
    }
   ],
   "source": [
    "print(f\"Required volume of resources for break-even: {round(required_volume)} thousand barrels\")"
   ]
  },
  {
   "cell_type": "markdown",
   "metadata": {},
   "source": [
    "\n",
    "- With a budget of 10 billion rubles, 111 thousand barrels of oil need to be extracted for the project to break even.\n",
    "- When compared with the predictions for the regions, the average extraction will be 92, 68, and 94 thousand barrels, which is below the minimum extraction required to cover the budget.\n",
    "- This indicates a high likelihood of losses in developing wells in these regions.\n"
   ]
  },
  {
   "cell_type": "markdown",
   "metadata": {},
   "source": [
    "## Calculation of revenue and risks"
   ]
  },
  {
   "cell_type": "markdown",
   "metadata": {},
   "source": [
    "Let’s create a function to calculate the profit based on the selected wells and the model’s predictions."
   ]
  },
  {
   "cell_type": "code",
   "execution_count": 57,
   "metadata": {},
   "outputs": [
    {
     "data": {
      "text/html": [
       "<div>\n",
       "<style scoped>\n",
       "    .dataframe tbody tr th:only-of-type {\n",
       "        vertical-align: middle;\n",
       "    }\n",
       "\n",
       "    .dataframe tbody tr th {\n",
       "        vertical-align: top;\n",
       "    }\n",
       "\n",
       "    .dataframe thead th {\n",
       "        text-align: right;\n",
       "    }\n",
       "</style>\n",
       "<table border=\"1\" class=\"dataframe\">\n",
       "  <thead>\n",
       "    <tr style=\"text-align: right;\">\n",
       "      <th></th>\n",
       "      <th>id</th>\n",
       "      <th>region</th>\n",
       "      <th>actual</th>\n",
       "      <th>predicted</th>\n",
       "    </tr>\n",
       "  </thead>\n",
       "  <tbody>\n",
       "    <tr>\n",
       "      <th>0</th>\n",
       "      <td>6SS8F</td>\n",
       "      <td>region_1</td>\n",
       "      <td>80.626136</td>\n",
       "      <td>64.044429</td>\n",
       "    </tr>\n",
       "    <tr>\n",
       "      <th>1</th>\n",
       "      <td>bYdnp</td>\n",
       "      <td>region_1</td>\n",
       "      <td>3.935675</td>\n",
       "      <td>70.104344</td>\n",
       "    </tr>\n",
       "  </tbody>\n",
       "</table>\n",
       "</div>"
      ],
      "text/plain": [
       "      id    region     actual  predicted\n",
       "0  6SS8F  region_1  80.626136  64.044429\n",
       "1  bYdnp  region_1   3.935675  70.104344"
      ]
     },
     "execution_count": 57,
     "metadata": {},
     "output_type": "execute_result"
    }
   ],
   "source": [
    "final_result_df = final_result_df.reset_index()\n",
    "final_result_df.head(2)"
   ]
  },
  {
   "cell_type": "code",
   "execution_count": 58,
   "metadata": {},
   "outputs": [
    {
     "ename": "IndentationError",
     "evalue": "unexpected indent (3108110132.py, line 22)",
     "output_type": "error",
     "traceback": [
      "\u001b[0;36m  Cell \u001b[0;32mIn[58], line 22\u001b[0;36m\u001b[0m\n\u001b[0;31m    rev_total = (selected_wells.sum() * income_barrel) - budget\u001b[0m\n\u001b[0m    ^\u001b[0m\n\u001b[0;31mIndentationError\u001b[0m\u001b[0;31m:\u001b[0m unexpected indent\n"
     ]
    }
   ],
   "source": [
    "\"\"\"\n",
    "Parameters: \n",
    "target - target values (actual volume of resources)\n",
    "prediction - predicted by model values \n",
    "сount - number of wells with the highest predictions\n",
    "income_barrel - income from barrel in rub\n",
    "budget - project budjet (costs)\n",
    "rev_total - total revenue for selected wells\n",
    "\"\"\"\n",
    "def revenue(target, prediction, count, income_barrel, budget):\n",
    "    target_reset = target.reset_index(drop=True)\n",
    "    prediction_reset = prediction.reset_index(drop=True)\n",
    "    \n",
    "    pred_sorted = prediction_reset.sort_values(ascending=False)\n",
    "    selected_wells = target_reset.loc[pred_sorted.index[:count]]\n",
    "\"\"\"\n",
    "To calculate the profit from the wells, \n",
    "we multiply the sum of barrels from the top wells \n",
    "by the price per 1,000 barrels and subtract the costs\n",
    "\"\"\"\n",
    "     \n",
    "    rev_total = (selected_wells.sum() * income_barrel) - budget\n",
    "    return rev_total"
   ]
  },
  {
   "cell_type": "markdown",
   "metadata": {},
   "source": [
    "Now we calculate the risks and profit for each region.\n",
    "We will apply the Bootstrap technique with 1,000 samples"
   ]
  },
  {
   "cell_type": "code",
   "execution_count": null,
   "metadata": {},
   "outputs": [],
   "source": [
    " \n",
    "\"\"\"\n",
    "Parameters:\n",
    "top_well - top wells\n",
    "n_boot / - number of bootstrap samples\n",
    "region_results - dictionary for the results\n",
    "profits_visual - dictionary for storing profits for visaulisation \n",
    "\"\"\"\n",
    "top_wells = 200  \n",
    "n_boot = 1000  \n",
    "region_results = {}\n",
    "profits_visual = {} \n",
    "\n",
    "\n",
    "# in the first loop we go trhough regions in final_result_df\n",
    "regions = final_result_df['region'].unique()\n",
    "for region in regions:\n",
    "    # storing data in two df: target и probabilities\n",
    "    region_df = final_result_df[final_result_df['region'] == region]\n",
    "    target = region_df['actual']\n",
    "    predictions = region_df['predicted']\n",
    "\n",
    "    # calculate revenue using Bootstrap with 1000 samplings\n",
    "    state = np.random.RandomState(12345)\n",
    "    profits = []\n",
    "\n",
    "    for i in range(n_boot):\n",
    "        target_subsample = target.sample(n=500, replace=True, random_state=state)\n",
    "        pred_subsample = predictions.loc[target_subsample.index]\n",
    "        \n",
    "        rev = revenue(target_subsample, pred_subsample, top_wells, income_barrel, project_budget)\n",
    "        profits.append(rev)\n",
    "    \"\"\"\n",
    "    Convert the results to Series and calculate:\n",
    "    # - mean revenue\n",
    "    # - 95% confidence interval with 0.975 and 0.025 quantiles\n",
    "    # - risk of loss\n",
    "    \"\"\"\n",
    "    profits_s = pd.Series(profits)\n",
    "    mean_profit = profits_s.mean()\n",
    "    upper = profits_s.quantile(0.975)\n",
    "    lower = profits_s.quantile(0.025)\n",
    "    loss_risk = (profits_s < 0).mean()\n",
    "\n",
    "    # storing the results to dictionary \n",
    "    region_results[region] = {\n",
    "        'mean_profit': mean_profit,\n",
    "        'upper_bound': upper,\n",
    "        'lower_bound': lower,\n",
    "        'risk_of_loss': loss_risk\n",
    "    }\n",
    "    \n",
    "    profits_visual[region] = profits\n",
    "    "
   ]
  },
  {
   "cell_type": "code",
   "execution_count": null,
   "metadata": {},
   "outputs": [],
   "source": [
    "# display results pre region \n",
    "for region, metrics in region_results.items():\n",
    "    print(f'Region: {region}')\n",
    "    print(f'  Mean Profit: {metrics[\"mean_profit\"]} RUB')\n",
    "    print(f'  Confidence interval: {metrics[\"lower_bound\"]} - {metrics[\"upper_bound\"]} RUB')\n",
    "    print(f'  Risk of loss: {metrics[\"risk_of_loss\"] * 100}%')\n",
    "        "
   ]
  },
  {
   "cell_type": "markdown",
   "metadata": {},
   "source": [
    "Let’s visualize the results for each region using a histogram"
   ]
  },
  {
   "cell_type": "code",
   "execution_count": null,
   "metadata": {},
   "outputs": [],
   "source": [
    "\n",
    "fig, axes = plt.subplots(nrows=len(regions), ncols = 1, figsize =(10,5*len(regions)))\n",
    "    \n",
    "for ax, region in zip(axes, regions):\n",
    "    ax.hist(profits_visual[region], bins=30, alpha = 0.6, color ='blue')\n",
    "    ax.axvline(region_results[region]['lower_bound'], color ='red', linestyle = '--', label='lower')\n",
    "    ax.axvline(region_results[region]['upper_bound'], color = 'red', linestyle ='--', label ='upper')\n",
    "    ax.set_title(f'Revenue distribution for {region}')\n",
    "    ax.set_xlabel('Revenue (rub)')\n",
    "    ax.set_ylabel('Density')\n",
    "    ax.legend()\n",
    "        \n",
    "plt.tight_layout()\n",
    "plt.show()\n",
    "    "
   ]
  },
  {
   "cell_type": "markdown",
   "metadata": {},
   "source": [
    "\n",
    "**The best region for well development: the second region**\n",
    "- The highest average profit: 432 million rubles\n",
    "- The lowest risk of losses: 1.9%\n",
    "- The 95% confidence interval is quite wide, ranging between 32 million and 829 million rubles, which indicates an unreliable or not very accurate profit prediction.\n",
    "\n"
   ]
  }
 ],
 "metadata": {
  "ExecuteTimeLog": [
   {
    "duration": 1343,
    "start_time": "2024-08-25T20:34:57.277Z"
   },
   {
    "duration": 0,
    "start_time": "2024-08-25T20:34:58.625Z"
   },
   {
    "duration": 0,
    "start_time": "2024-08-25T20:34:58.626Z"
   },
   {
    "duration": 0,
    "start_time": "2024-08-25T20:34:58.627Z"
   },
   {
    "duration": 0,
    "start_time": "2024-08-25T20:34:58.628Z"
   },
   {
    "duration": 0,
    "start_time": "2024-08-25T20:34:58.629Z"
   },
   {
    "duration": 0,
    "start_time": "2024-08-25T20:34:58.630Z"
   },
   {
    "duration": 0,
    "start_time": "2024-08-25T20:34:58.631Z"
   },
   {
    "duration": 0,
    "start_time": "2024-08-25T20:34:58.632Z"
   },
   {
    "duration": 0,
    "start_time": "2024-08-25T20:34:58.633Z"
   },
   {
    "duration": 0,
    "start_time": "2024-08-25T20:34:58.634Z"
   },
   {
    "duration": 0,
    "start_time": "2024-08-25T20:34:58.635Z"
   },
   {
    "duration": 0,
    "start_time": "2024-08-25T20:34:58.636Z"
   },
   {
    "duration": 0,
    "start_time": "2024-08-25T20:34:58.637Z"
   },
   {
    "duration": 0,
    "start_time": "2024-08-25T20:34:58.638Z"
   },
   {
    "duration": 0,
    "start_time": "2024-08-25T20:34:58.639Z"
   },
   {
    "duration": 0,
    "start_time": "2024-08-25T20:34:58.641Z"
   },
   {
    "duration": 0,
    "start_time": "2024-08-25T20:34:58.641Z"
   },
   {
    "duration": 0,
    "start_time": "2024-08-25T20:34:58.642Z"
   },
   {
    "duration": 0,
    "start_time": "2024-08-25T20:34:58.643Z"
   },
   {
    "duration": 1,
    "start_time": "2024-08-25T20:34:58.644Z"
   },
   {
    "duration": 0,
    "start_time": "2024-08-25T20:34:58.646Z"
   },
   {
    "duration": 0,
    "start_time": "2024-08-25T20:34:58.646Z"
   },
   {
    "duration": 0,
    "start_time": "2024-08-25T20:34:58.647Z"
   },
   {
    "duration": 0,
    "start_time": "2024-08-25T20:34:58.648Z"
   },
   {
    "duration": 0,
    "start_time": "2024-08-25T20:34:58.649Z"
   },
   {
    "duration": 0,
    "start_time": "2024-08-25T20:34:58.650Z"
   },
   {
    "duration": 0,
    "start_time": "2024-08-25T20:34:58.651Z"
   },
   {
    "duration": 0,
    "start_time": "2024-08-25T20:34:58.652Z"
   },
   {
    "duration": 1,
    "start_time": "2024-08-25T20:34:58.653Z"
   },
   {
    "duration": 0,
    "start_time": "2024-08-25T20:34:58.655Z"
   },
   {
    "duration": 0,
    "start_time": "2024-08-25T20:34:58.656Z"
   },
   {
    "duration": 0,
    "start_time": "2024-08-25T20:34:58.657Z"
   },
   {
    "duration": 0,
    "start_time": "2024-08-25T20:34:58.658Z"
   },
   {
    "duration": 0,
    "start_time": "2024-08-25T20:34:58.659Z"
   },
   {
    "duration": 0,
    "start_time": "2024-08-25T20:34:58.660Z"
   },
   {
    "duration": 0,
    "start_time": "2024-08-25T20:34:58.661Z"
   },
   {
    "duration": 63,
    "start_time": "2024-08-25T20:35:23.734Z"
   },
   {
    "duration": 0,
    "start_time": "2024-08-25T20:35:23.800Z"
   },
   {
    "duration": 0,
    "start_time": "2024-08-25T20:35:23.802Z"
   },
   {
    "duration": 0,
    "start_time": "2024-08-25T20:35:23.803Z"
   },
   {
    "duration": 0,
    "start_time": "2024-08-25T20:35:23.804Z"
   },
   {
    "duration": 0,
    "start_time": "2024-08-25T20:35:23.806Z"
   },
   {
    "duration": 0,
    "start_time": "2024-08-25T20:35:23.807Z"
   },
   {
    "duration": 0,
    "start_time": "2024-08-25T20:35:23.809Z"
   },
   {
    "duration": 0,
    "start_time": "2024-08-25T20:35:23.810Z"
   },
   {
    "duration": 0,
    "start_time": "2024-08-25T20:35:23.811Z"
   },
   {
    "duration": 0,
    "start_time": "2024-08-25T20:35:23.812Z"
   },
   {
    "duration": 0,
    "start_time": "2024-08-25T20:35:23.814Z"
   },
   {
    "duration": 0,
    "start_time": "2024-08-25T20:35:23.815Z"
   },
   {
    "duration": 0,
    "start_time": "2024-08-25T20:35:23.817Z"
   },
   {
    "duration": 0,
    "start_time": "2024-08-25T20:35:23.818Z"
   },
   {
    "duration": 0,
    "start_time": "2024-08-25T20:35:23.819Z"
   },
   {
    "duration": 0,
    "start_time": "2024-08-25T20:35:23.820Z"
   },
   {
    "duration": 0,
    "start_time": "2024-08-25T20:35:23.822Z"
   },
   {
    "duration": 0,
    "start_time": "2024-08-25T20:35:23.823Z"
   },
   {
    "duration": 0,
    "start_time": "2024-08-25T20:35:23.824Z"
   },
   {
    "duration": 0,
    "start_time": "2024-08-25T20:35:23.826Z"
   },
   {
    "duration": 0,
    "start_time": "2024-08-25T20:35:23.827Z"
   },
   {
    "duration": 0,
    "start_time": "2024-08-25T20:35:23.829Z"
   },
   {
    "duration": 0,
    "start_time": "2024-08-25T20:35:23.829Z"
   },
   {
    "duration": 0,
    "start_time": "2024-08-25T20:35:23.830Z"
   },
   {
    "duration": 0,
    "start_time": "2024-08-25T20:35:23.832Z"
   },
   {
    "duration": 0,
    "start_time": "2024-08-25T20:35:23.833Z"
   },
   {
    "duration": 0,
    "start_time": "2024-08-25T20:35:23.834Z"
   },
   {
    "duration": 1,
    "start_time": "2024-08-25T20:35:23.835Z"
   },
   {
    "duration": 0,
    "start_time": "2024-08-25T20:35:23.837Z"
   },
   {
    "duration": 0,
    "start_time": "2024-08-25T20:35:23.838Z"
   },
   {
    "duration": 0,
    "start_time": "2024-08-25T20:35:23.840Z"
   },
   {
    "duration": 0,
    "start_time": "2024-08-25T20:35:23.841Z"
   },
   {
    "duration": 98,
    "start_time": "2024-08-25T20:35:23.845Z"
   },
   {
    "duration": 0,
    "start_time": "2024-08-25T20:35:23.944Z"
   },
   {
    "duration": 0,
    "start_time": "2024-08-25T20:35:23.945Z"
   },
   {
    "duration": 0,
    "start_time": "2024-08-25T20:35:23.946Z"
   },
   {
    "duration": 0,
    "start_time": "2024-08-25T20:35:23.947Z"
   },
   {
    "duration": 3281,
    "start_time": "2024-08-25T20:35:36.636Z"
   },
   {
    "duration": 1717,
    "start_time": "2024-08-25T20:35:39.919Z"
   },
   {
    "duration": 1886,
    "start_time": "2024-08-25T20:35:41.638Z"
   },
   {
    "duration": 13,
    "start_time": "2024-08-25T20:35:43.525Z"
   },
   {
    "duration": 9,
    "start_time": "2024-08-25T20:35:43.540Z"
   },
   {
    "duration": 11,
    "start_time": "2024-08-25T20:35:43.550Z"
   },
   {
    "duration": 14,
    "start_time": "2024-08-25T20:35:43.562Z"
   },
   {
    "duration": 13,
    "start_time": "2024-08-25T20:35:43.577Z"
   },
   {
    "duration": 38,
    "start_time": "2024-08-25T20:35:43.591Z"
   },
   {
    "duration": 128,
    "start_time": "2024-08-25T20:35:43.632Z"
   },
   {
    "duration": 35,
    "start_time": "2024-08-25T20:35:43.762Z"
   },
   {
    "duration": 46,
    "start_time": "2024-08-25T20:35:43.798Z"
   },
   {
    "duration": 32,
    "start_time": "2024-08-25T20:35:43.845Z"
   },
   {
    "duration": 7,
    "start_time": "2024-08-25T20:35:43.878Z"
   },
   {
    "duration": 622,
    "start_time": "2024-08-25T20:35:43.886Z"
   },
   {
    "duration": 789,
    "start_time": "2024-08-25T20:35:44.509Z"
   },
   {
    "duration": 12,
    "start_time": "2024-08-25T20:35:45.299Z"
   },
   {
    "duration": 22,
    "start_time": "2024-08-25T20:35:45.312Z"
   },
   {
    "duration": 18,
    "start_time": "2024-08-25T20:35:45.336Z"
   },
   {
    "duration": 10,
    "start_time": "2024-08-25T20:35:45.355Z"
   },
   {
    "duration": 15,
    "start_time": "2024-08-25T20:35:45.366Z"
   },
   {
    "duration": 348,
    "start_time": "2024-08-25T20:35:45.382Z"
   },
   {
    "duration": 8,
    "start_time": "2024-08-25T20:35:45.732Z"
   },
   {
    "duration": 37,
    "start_time": "2024-08-25T20:35:45.742Z"
   },
   {
    "duration": 304,
    "start_time": "2024-08-25T20:35:45.781Z"
   },
   {
    "duration": 8,
    "start_time": "2024-08-25T20:35:46.086Z"
   },
   {
    "duration": 51,
    "start_time": "2024-08-25T20:35:46.095Z"
   },
   {
    "duration": 288,
    "start_time": "2024-08-25T20:35:46.150Z"
   },
   {
    "duration": 3,
    "start_time": "2024-08-25T20:35:46.440Z"
   },
   {
    "duration": 684,
    "start_time": "2024-08-25T20:35:46.445Z"
   },
   {
    "duration": 9,
    "start_time": "2024-08-25T20:35:47.131Z"
   },
   {
    "duration": 43,
    "start_time": "2024-08-25T20:35:47.141Z"
   },
   {
    "duration": 3,
    "start_time": "2024-08-25T20:35:47.185Z"
   },
   {
    "duration": 12,
    "start_time": "2024-08-25T20:35:47.189Z"
   },
   {
    "duration": 17,
    "start_time": "2024-08-25T20:35:47.203Z"
   },
   {
    "duration": 4,
    "start_time": "2024-08-25T20:35:47.221Z"
   },
   {
    "duration": 8247,
    "start_time": "2024-08-25T20:35:47.227Z"
   },
   {
    "duration": 4,
    "start_time": "2024-08-25T20:35:55.475Z"
   },
   {
    "duration": 4,
    "start_time": "2024-08-25T20:37:12.703Z"
   },
   {
    "duration": 9275,
    "start_time": "2024-08-25T20:37:13.587Z"
   },
   {
    "duration": 4,
    "start_time": "2024-08-25T20:37:22.864Z"
   },
   {
    "duration": 8,
    "start_time": "2024-08-25T20:42:32.143Z"
   },
   {
    "duration": 9,
    "start_time": "2024-08-25T20:42:48.632Z"
   },
   {
    "duration": 49,
    "start_time": "2024-08-26T07:30:26.846Z"
   },
   {
    "duration": 3240,
    "start_time": "2024-08-26T07:30:42.999Z"
   },
   {
    "duration": 1564,
    "start_time": "2024-08-26T07:30:46.243Z"
   },
   {
    "duration": 1060,
    "start_time": "2024-08-26T07:30:47.808Z"
   },
   {
    "duration": 12,
    "start_time": "2024-08-26T07:30:48.870Z"
   },
   {
    "duration": 9,
    "start_time": "2024-08-26T07:30:48.884Z"
   },
   {
    "duration": 96,
    "start_time": "2024-08-26T07:30:48.894Z"
   },
   {
    "duration": 19,
    "start_time": "2024-08-26T07:30:48.991Z"
   },
   {
    "duration": 15,
    "start_time": "2024-08-26T07:30:49.011Z"
   },
   {
    "duration": 15,
    "start_time": "2024-08-26T07:30:49.027Z"
   },
   {
    "duration": 118,
    "start_time": "2024-08-26T07:30:49.044Z"
   },
   {
    "duration": 14,
    "start_time": "2024-08-26T07:30:49.164Z"
   },
   {
    "duration": 35,
    "start_time": "2024-08-26T07:30:49.179Z"
   },
   {
    "duration": 50,
    "start_time": "2024-08-26T07:30:49.216Z"
   },
   {
    "duration": 32,
    "start_time": "2024-08-26T07:30:49.269Z"
   },
   {
    "duration": 7,
    "start_time": "2024-08-26T07:30:49.302Z"
   },
   {
    "duration": 705,
    "start_time": "2024-08-26T07:30:49.310Z"
   },
   {
    "duration": 806,
    "start_time": "2024-08-26T07:30:50.017Z"
   },
   {
    "duration": 14,
    "start_time": "2024-08-26T07:30:50.825Z"
   },
   {
    "duration": 10,
    "start_time": "2024-08-26T07:30:50.840Z"
   },
   {
    "duration": 11,
    "start_time": "2024-08-26T07:30:50.852Z"
   },
   {
    "duration": 14,
    "start_time": "2024-08-26T07:30:50.865Z"
   },
   {
    "duration": 18,
    "start_time": "2024-08-26T07:30:50.880Z"
   },
   {
    "duration": 392,
    "start_time": "2024-08-26T07:30:50.899Z"
   },
   {
    "duration": 8,
    "start_time": "2024-08-26T07:30:51.292Z"
   },
   {
    "duration": 16,
    "start_time": "2024-08-26T07:30:51.301Z"
   },
   {
    "duration": 362,
    "start_time": "2024-08-26T07:30:51.318Z"
   },
   {
    "duration": 7,
    "start_time": "2024-08-26T07:30:51.681Z"
   },
   {
    "duration": 19,
    "start_time": "2024-08-26T07:30:51.689Z"
   },
   {
    "duration": 337,
    "start_time": "2024-08-26T07:30:51.709Z"
   },
   {
    "duration": 3,
    "start_time": "2024-08-26T07:30:52.047Z"
   },
   {
    "duration": 586,
    "start_time": "2024-08-26T07:30:52.052Z"
   },
   {
    "duration": 99,
    "start_time": "2024-08-26T07:30:52.640Z"
   },
   {
    "duration": 21,
    "start_time": "2024-08-26T07:30:52.741Z"
   },
   {
    "duration": 15,
    "start_time": "2024-08-26T07:30:52.763Z"
   },
   {
    "duration": 18,
    "start_time": "2024-08-26T07:30:52.779Z"
   },
   {
    "duration": 3,
    "start_time": "2024-08-26T07:30:52.799Z"
   },
   {
    "duration": 7,
    "start_time": "2024-08-26T07:30:52.804Z"
   },
   {
    "duration": 7,
    "start_time": "2024-08-26T07:30:52.812Z"
   },
   {
    "duration": 10,
    "start_time": "2024-08-26T07:30:52.821Z"
   },
   {
    "duration": 9078,
    "start_time": "2024-08-26T07:30:52.832Z"
   },
   {
    "duration": 4,
    "start_time": "2024-08-26T07:31:01.913Z"
   },
   {
    "duration": 51038,
    "start_time": "2024-08-26T07:36:34.158Z"
   },
   {
    "duration": 2363,
    "start_time": "2024-08-26T07:40:09.539Z"
   },
   {
    "duration": 1418,
    "start_time": "2024-08-26T07:40:11.904Z"
   },
   {
    "duration": 486,
    "start_time": "2024-08-26T07:40:13.324Z"
   },
   {
    "duration": 12,
    "start_time": "2024-08-26T07:40:13.812Z"
   },
   {
    "duration": 13,
    "start_time": "2024-08-26T07:40:13.826Z"
   },
   {
    "duration": 10,
    "start_time": "2024-08-26T07:40:13.841Z"
   },
   {
    "duration": 16,
    "start_time": "2024-08-26T07:40:13.852Z"
   },
   {
    "duration": 12,
    "start_time": "2024-08-26T07:40:13.870Z"
   },
   {
    "duration": 14,
    "start_time": "2024-08-26T07:40:13.883Z"
   },
   {
    "duration": 124,
    "start_time": "2024-08-26T07:40:13.899Z"
   },
   {
    "duration": 41,
    "start_time": "2024-08-26T07:40:14.025Z"
   },
   {
    "duration": 35,
    "start_time": "2024-08-26T07:40:14.067Z"
   },
   {
    "duration": 52,
    "start_time": "2024-08-26T07:40:14.104Z"
   },
   {
    "duration": 32,
    "start_time": "2024-08-26T07:40:14.160Z"
   },
   {
    "duration": 7,
    "start_time": "2024-08-26T07:40:14.193Z"
   },
   {
    "duration": 632,
    "start_time": "2024-08-26T07:40:14.201Z"
   },
   {
    "duration": 821,
    "start_time": "2024-08-26T07:40:14.842Z"
   },
   {
    "duration": 10,
    "start_time": "2024-08-26T07:40:15.665Z"
   },
   {
    "duration": 46,
    "start_time": "2024-08-26T07:40:15.677Z"
   },
   {
    "duration": 18,
    "start_time": "2024-08-26T07:40:15.725Z"
   },
   {
    "duration": 8,
    "start_time": "2024-08-26T07:40:15.745Z"
   },
   {
    "duration": 33,
    "start_time": "2024-08-26T07:40:15.755Z"
   },
   {
    "duration": 330,
    "start_time": "2024-08-26T07:40:15.790Z"
   },
   {
    "duration": 19,
    "start_time": "2024-08-26T07:40:16.122Z"
   },
   {
    "duration": 15,
    "start_time": "2024-08-26T07:40:16.142Z"
   },
   {
    "duration": 334,
    "start_time": "2024-08-26T07:40:16.159Z"
   },
   {
    "duration": 8,
    "start_time": "2024-08-26T07:40:16.495Z"
   },
   {
    "duration": 34,
    "start_time": "2024-08-26T07:40:16.508Z"
   },
   {
    "duration": 298,
    "start_time": "2024-08-26T07:40:16.543Z"
   },
   {
    "duration": 4,
    "start_time": "2024-08-26T07:40:16.843Z"
   },
   {
    "duration": 690,
    "start_time": "2024-08-26T07:40:16.848Z"
   },
   {
    "duration": 10,
    "start_time": "2024-08-26T07:40:17.540Z"
   },
   {
    "duration": 21,
    "start_time": "2024-08-26T07:40:17.552Z"
   },
   {
    "duration": 9,
    "start_time": "2024-08-26T07:40:17.575Z"
   },
   {
    "duration": 16,
    "start_time": "2024-08-26T07:40:17.586Z"
   },
   {
    "duration": 5,
    "start_time": "2024-08-26T07:40:17.603Z"
   },
   {
    "duration": 4,
    "start_time": "2024-08-26T07:40:17.609Z"
   },
   {
    "duration": 18,
    "start_time": "2024-08-26T07:40:17.614Z"
   },
   {
    "duration": 6,
    "start_time": "2024-08-26T07:40:17.633Z"
   },
   {
    "duration": 9356,
    "start_time": "2024-08-26T07:40:17.641Z"
   },
   {
    "duration": 4,
    "start_time": "2024-08-26T07:40:27.000Z"
   },
   {
    "duration": 47,
    "start_time": "2024-08-26T13:21:23.941Z"
   },
   {
    "duration": 7,
    "start_time": "2024-08-26T13:21:24.402Z"
   },
   {
    "duration": 3411,
    "start_time": "2024-08-26T13:21:32.416Z"
   },
   {
    "duration": 1658,
    "start_time": "2024-08-26T13:21:35.830Z"
   },
   {
    "duration": 1094,
    "start_time": "2024-08-26T13:21:37.490Z"
   },
   {
    "duration": 13,
    "start_time": "2024-08-26T13:21:38.586Z"
   },
   {
    "duration": 8,
    "start_time": "2024-08-26T13:21:38.601Z"
   },
   {
    "duration": 17,
    "start_time": "2024-08-26T13:21:38.610Z"
   },
   {
    "duration": 17,
    "start_time": "2024-08-26T13:21:38.629Z"
   },
   {
    "duration": 14,
    "start_time": "2024-08-26T13:21:38.647Z"
   },
   {
    "duration": 13,
    "start_time": "2024-08-26T13:21:38.662Z"
   },
   {
    "duration": 149,
    "start_time": "2024-08-26T13:21:38.679Z"
   },
   {
    "duration": 46,
    "start_time": "2024-08-26T13:21:38.830Z"
   },
   {
    "duration": 46,
    "start_time": "2024-08-26T13:21:38.878Z"
   },
   {
    "duration": 48,
    "start_time": "2024-08-26T13:21:38.926Z"
   },
   {
    "duration": 48,
    "start_time": "2024-08-26T13:21:38.977Z"
   },
   {
    "duration": 20,
    "start_time": "2024-08-26T13:21:39.027Z"
   },
   {
    "duration": 729,
    "start_time": "2024-08-26T13:21:39.049Z"
   },
   {
    "duration": 803,
    "start_time": "2024-08-26T13:21:39.780Z"
   },
   {
    "duration": 11,
    "start_time": "2024-08-26T13:21:40.585Z"
   },
   {
    "duration": 11,
    "start_time": "2024-08-26T13:21:40.597Z"
   },
   {
    "duration": 41,
    "start_time": "2024-08-26T13:21:40.610Z"
   },
   {
    "duration": 8,
    "start_time": "2024-08-26T13:21:40.653Z"
   },
   {
    "duration": 16,
    "start_time": "2024-08-26T13:21:40.663Z"
   },
   {
    "duration": 448,
    "start_time": "2024-08-26T13:21:40.681Z"
   },
   {
    "duration": 19,
    "start_time": "2024-08-26T13:21:41.131Z"
   },
   {
    "duration": 17,
    "start_time": "2024-08-26T13:21:41.152Z"
   },
   {
    "duration": 333,
    "start_time": "2024-08-26T13:21:41.171Z"
   },
   {
    "duration": 6,
    "start_time": "2024-08-26T13:21:41.506Z"
   },
   {
    "duration": 16,
    "start_time": "2024-08-26T13:21:41.515Z"
   },
   {
    "duration": 316,
    "start_time": "2024-08-26T13:21:41.547Z"
   },
   {
    "duration": 4,
    "start_time": "2024-08-26T13:21:41.865Z"
   },
   {
    "duration": 680,
    "start_time": "2024-08-26T13:21:41.870Z"
   },
   {
    "duration": 97,
    "start_time": "2024-08-26T13:21:42.552Z"
   },
   {
    "duration": 24,
    "start_time": "2024-08-26T13:21:42.651Z"
   },
   {
    "duration": 15,
    "start_time": "2024-08-26T13:21:42.676Z"
   },
   {
    "duration": 17,
    "start_time": "2024-08-26T13:21:42.693Z"
   },
   {
    "duration": 9,
    "start_time": "2024-08-26T13:21:42.712Z"
   },
   {
    "duration": 13,
    "start_time": "2024-08-26T13:21:42.723Z"
   },
   {
    "duration": 63,
    "start_time": "2024-08-26T13:21:42.739Z"
   },
   {
    "duration": 25,
    "start_time": "2024-08-26T13:21:42.804Z"
   },
   {
    "duration": 10475,
    "start_time": "2024-08-26T13:21:42.831Z"
   },
   {
    "duration": 5,
    "start_time": "2024-08-26T13:21:53.308Z"
   },
   {
    "duration": 2410,
    "start_time": "2024-08-26T13:38:51.429Z"
   },
   {
    "duration": 1432,
    "start_time": "2024-08-26T13:38:53.842Z"
   },
   {
    "duration": 497,
    "start_time": "2024-08-26T13:38:55.276Z"
   },
   {
    "duration": 12,
    "start_time": "2024-08-26T13:38:55.776Z"
   },
   {
    "duration": 7,
    "start_time": "2024-08-26T13:38:55.789Z"
   },
   {
    "duration": 21,
    "start_time": "2024-08-26T13:38:55.798Z"
   },
   {
    "duration": 20,
    "start_time": "2024-08-26T13:38:55.820Z"
   },
   {
    "duration": 13,
    "start_time": "2024-08-26T13:38:55.848Z"
   },
   {
    "duration": 13,
    "start_time": "2024-08-26T13:38:55.862Z"
   },
   {
    "duration": 138,
    "start_time": "2024-08-26T13:38:55.878Z"
   },
   {
    "duration": 46,
    "start_time": "2024-08-26T13:38:56.017Z"
   },
   {
    "duration": 39,
    "start_time": "2024-08-26T13:38:56.065Z"
   },
   {
    "duration": 44,
    "start_time": "2024-08-26T13:38:56.105Z"
   },
   {
    "duration": 34,
    "start_time": "2024-08-26T13:38:56.150Z"
   },
   {
    "duration": 7,
    "start_time": "2024-08-26T13:38:56.185Z"
   },
   {
    "duration": 643,
    "start_time": "2024-08-26T13:38:56.193Z"
   },
   {
    "duration": 856,
    "start_time": "2024-08-26T13:38:56.838Z"
   },
   {
    "duration": 11,
    "start_time": "2024-08-26T13:38:57.695Z"
   },
   {
    "duration": 26,
    "start_time": "2024-08-26T13:38:57.707Z"
   },
   {
    "duration": 31,
    "start_time": "2024-08-26T13:38:57.735Z"
   },
   {
    "duration": 8,
    "start_time": "2024-08-26T13:38:57.768Z"
   },
   {
    "duration": 14,
    "start_time": "2024-08-26T13:38:57.777Z"
   },
   {
    "duration": 302,
    "start_time": "2024-08-26T13:38:57.793Z"
   },
   {
    "duration": 7,
    "start_time": "2024-08-26T13:38:58.097Z"
   },
   {
    "duration": 19,
    "start_time": "2024-08-26T13:38:58.105Z"
   },
   {
    "duration": 329,
    "start_time": "2024-08-26T13:38:58.126Z"
   },
   {
    "duration": 6,
    "start_time": "2024-08-26T13:38:58.457Z"
   },
   {
    "duration": 14,
    "start_time": "2024-08-26T13:38:58.467Z"
   },
   {
    "duration": 328,
    "start_time": "2024-08-26T13:38:58.483Z"
   },
   {
    "duration": 4,
    "start_time": "2024-08-26T13:38:58.813Z"
   },
   {
    "duration": 730,
    "start_time": "2024-08-26T13:38:58.819Z"
   },
   {
    "duration": 98,
    "start_time": "2024-08-26T13:38:59.552Z"
   },
   {
    "duration": 12,
    "start_time": "2024-08-26T13:38:59.652Z"
   },
   {
    "duration": 2,
    "start_time": "2024-08-26T13:38:59.666Z"
   },
   {
    "duration": 7,
    "start_time": "2024-08-26T13:38:59.670Z"
   },
   {
    "duration": 4,
    "start_time": "2024-08-26T13:38:59.678Z"
   },
   {
    "duration": 4,
    "start_time": "2024-08-26T13:38:59.684Z"
   },
   {
    "duration": 7,
    "start_time": "2024-08-26T13:38:59.689Z"
   },
   {
    "duration": 5,
    "start_time": "2024-08-26T13:38:59.698Z"
   },
   {
    "duration": 10403,
    "start_time": "2024-08-26T13:38:59.705Z"
   },
   {
    "duration": 5,
    "start_time": "2024-08-26T13:39:10.110Z"
   },
   {
    "duration": 2362,
    "start_time": "2024-08-26T13:50:25.216Z"
   },
   {
    "duration": 1381,
    "start_time": "2024-08-26T13:50:27.580Z"
   },
   {
    "duration": 503,
    "start_time": "2024-08-26T13:50:28.963Z"
   },
   {
    "duration": 12,
    "start_time": "2024-08-26T13:50:29.469Z"
   },
   {
    "duration": 26,
    "start_time": "2024-08-26T13:50:29.483Z"
   },
   {
    "duration": 12,
    "start_time": "2024-08-26T13:50:29.511Z"
   },
   {
    "duration": 23,
    "start_time": "2024-08-26T13:50:29.524Z"
   },
   {
    "duration": 15,
    "start_time": "2024-08-26T13:50:29.548Z"
   },
   {
    "duration": 14,
    "start_time": "2024-08-26T13:50:29.565Z"
   },
   {
    "duration": 144,
    "start_time": "2024-08-26T13:50:29.581Z"
   },
   {
    "duration": 45,
    "start_time": "2024-08-26T13:50:29.727Z"
   },
   {
    "duration": 36,
    "start_time": "2024-08-26T13:50:29.773Z"
   },
   {
    "duration": 52,
    "start_time": "2024-08-26T13:50:29.811Z"
   },
   {
    "duration": 32,
    "start_time": "2024-08-26T13:50:29.865Z"
   },
   {
    "duration": 7,
    "start_time": "2024-08-26T13:50:29.899Z"
   },
   {
    "duration": 698,
    "start_time": "2024-08-26T13:50:29.908Z"
   },
   {
    "duration": 897,
    "start_time": "2024-08-26T13:50:30.608Z"
   },
   {
    "duration": 11,
    "start_time": "2024-08-26T13:50:31.507Z"
   },
   {
    "duration": 28,
    "start_time": "2024-08-26T13:50:31.520Z"
   },
   {
    "duration": 13,
    "start_time": "2024-08-26T13:50:31.550Z"
   },
   {
    "duration": 24,
    "start_time": "2024-08-26T13:50:31.565Z"
   },
   {
    "duration": 17,
    "start_time": "2024-08-26T13:50:31.591Z"
   },
   {
    "duration": 365,
    "start_time": "2024-08-26T13:50:31.610Z"
   },
   {
    "duration": 8,
    "start_time": "2024-08-26T13:50:31.977Z"
   },
   {
    "duration": 15,
    "start_time": "2024-08-26T13:50:31.986Z"
   },
   {
    "duration": 352,
    "start_time": "2024-08-26T13:50:32.002Z"
   },
   {
    "duration": 7,
    "start_time": "2024-08-26T13:50:32.356Z"
   },
   {
    "duration": 28,
    "start_time": "2024-08-26T13:50:32.366Z"
   },
   {
    "duration": 373,
    "start_time": "2024-08-26T13:50:32.395Z"
   },
   {
    "duration": 3,
    "start_time": "2024-08-26T13:50:32.770Z"
   },
   {
    "duration": 776,
    "start_time": "2024-08-26T13:50:32.775Z"
   },
   {
    "duration": 9,
    "start_time": "2024-08-26T13:50:33.553Z"
   },
   {
    "duration": 20,
    "start_time": "2024-08-26T13:50:33.563Z"
   },
   {
    "duration": 5,
    "start_time": "2024-08-26T13:50:33.585Z"
   },
   {
    "duration": 31,
    "start_time": "2024-08-26T13:50:33.591Z"
   },
   {
    "duration": 12,
    "start_time": "2024-08-26T13:50:33.623Z"
   },
   {
    "duration": 7,
    "start_time": "2024-08-26T13:50:33.637Z"
   },
   {
    "duration": 17,
    "start_time": "2024-08-26T13:50:33.645Z"
   },
   {
    "duration": 20,
    "start_time": "2024-08-26T13:50:33.664Z"
   },
   {
    "duration": 11970,
    "start_time": "2024-08-26T13:50:33.686Z"
   },
   {
    "duration": 5,
    "start_time": "2024-08-26T13:50:45.657Z"
   },
   {
    "duration": 3297,
    "start_time": "2024-08-27T11:28:51.283Z"
   },
   {
    "duration": 1572,
    "start_time": "2024-08-27T11:28:54.583Z"
   },
   {
    "duration": 2000,
    "start_time": "2024-08-27T11:28:56.157Z"
   },
   {
    "duration": 13,
    "start_time": "2024-08-27T11:28:58.159Z"
   },
   {
    "duration": 8,
    "start_time": "2024-08-27T11:28:58.173Z"
   },
   {
    "duration": 9,
    "start_time": "2024-08-27T11:28:58.183Z"
   },
   {
    "duration": 33,
    "start_time": "2024-08-27T11:28:58.194Z"
   },
   {
    "duration": 15,
    "start_time": "2024-08-27T11:28:58.229Z"
   },
   {
    "duration": 14,
    "start_time": "2024-08-27T11:28:58.245Z"
   },
   {
    "duration": 164,
    "start_time": "2024-08-27T11:28:58.261Z"
   },
   {
    "duration": 42,
    "start_time": "2024-08-27T11:28:58.427Z"
   },
   {
    "duration": 61,
    "start_time": "2024-08-27T11:28:58.470Z"
   },
   {
    "duration": 42,
    "start_time": "2024-08-27T11:28:58.533Z"
   },
   {
    "duration": 52,
    "start_time": "2024-08-27T11:28:58.577Z"
   },
   {
    "duration": 6,
    "start_time": "2024-08-27T11:28:58.630Z"
   },
   {
    "duration": 695,
    "start_time": "2024-08-27T11:28:58.638Z"
   },
   {
    "duration": 910,
    "start_time": "2024-08-27T11:28:59.335Z"
   },
   {
    "duration": 12,
    "start_time": "2024-08-27T11:29:00.247Z"
   },
   {
    "duration": 12,
    "start_time": "2024-08-27T11:29:00.262Z"
   },
   {
    "duration": 14,
    "start_time": "2024-08-27T11:29:00.276Z"
   },
   {
    "duration": 38,
    "start_time": "2024-08-27T11:29:00.292Z"
   },
   {
    "duration": 16,
    "start_time": "2024-08-27T11:29:00.332Z"
   },
   {
    "duration": 414,
    "start_time": "2024-08-27T11:29:00.350Z"
   },
   {
    "duration": 7,
    "start_time": "2024-08-27T11:29:00.765Z"
   },
   {
    "duration": 15,
    "start_time": "2024-08-27T11:29:00.774Z"
   },
   {
    "duration": 351,
    "start_time": "2024-08-27T11:29:00.791Z"
   },
   {
    "duration": 7,
    "start_time": "2024-08-27T11:29:01.144Z"
   },
   {
    "duration": 55,
    "start_time": "2024-08-27T11:29:01.155Z"
   },
   {
    "duration": 330,
    "start_time": "2024-08-27T11:29:01.211Z"
   },
   {
    "duration": 4,
    "start_time": "2024-08-27T11:29:01.543Z"
   },
   {
    "duration": 688,
    "start_time": "2024-08-27T11:29:01.549Z"
   },
   {
    "duration": 8,
    "start_time": "2024-08-27T11:29:02.325Z"
   },
   {
    "duration": 6,
    "start_time": "2024-08-27T11:29:02.335Z"
   },
   {
    "duration": 16,
    "start_time": "2024-08-27T11:29:02.342Z"
   },
   {
    "duration": 66,
    "start_time": "2024-08-27T11:29:02.360Z"
   },
   {
    "duration": 10,
    "start_time": "2024-08-27T11:29:02.427Z"
   },
   {
    "duration": 5,
    "start_time": "2024-08-27T11:29:02.438Z"
   },
   {
    "duration": 16,
    "start_time": "2024-08-27T11:29:02.444Z"
   },
   {
    "duration": 6,
    "start_time": "2024-08-27T11:29:02.462Z"
   },
   {
    "duration": 76,
    "start_time": "2024-08-27T11:29:02.469Z"
   },
   {
    "duration": 1,
    "start_time": "2024-08-27T11:29:02.546Z"
   },
   {
    "duration": 4,
    "start_time": "2024-08-27T13:28:49.977Z"
   },
   {
    "duration": 68,
    "start_time": "2024-08-27T13:29:11.987Z"
   },
   {
    "duration": 5,
    "start_time": "2024-08-27T13:30:08.578Z"
   },
   {
    "duration": 7,
    "start_time": "2024-08-27T13:30:14.378Z"
   },
   {
    "duration": 68,
    "start_time": "2024-08-27T13:30:57.060Z"
   },
   {
    "duration": 6457,
    "start_time": "2024-08-27T13:31:34.273Z"
   },
   {
    "duration": 10822,
    "start_time": "2024-08-27T13:32:49.224Z"
   },
   {
    "duration": 2639,
    "start_time": "2024-08-27T13:33:08.160Z"
   },
   {
    "duration": 1603,
    "start_time": "2024-08-27T13:33:10.802Z"
   },
   {
    "duration": 532,
    "start_time": "2024-08-27T13:33:12.407Z"
   },
   {
    "duration": 14,
    "start_time": "2024-08-27T13:33:12.941Z"
   },
   {
    "duration": 11,
    "start_time": "2024-08-27T13:33:12.957Z"
   },
   {
    "duration": 14,
    "start_time": "2024-08-27T13:33:12.970Z"
   },
   {
    "duration": 54,
    "start_time": "2024-08-27T13:33:12.985Z"
   },
   {
    "duration": 16,
    "start_time": "2024-08-27T13:33:13.040Z"
   },
   {
    "duration": 16,
    "start_time": "2024-08-27T13:33:13.057Z"
   },
   {
    "duration": 167,
    "start_time": "2024-08-27T13:33:13.075Z"
   },
   {
    "duration": 47,
    "start_time": "2024-08-27T13:33:13.243Z"
   },
   {
    "duration": 58,
    "start_time": "2024-08-27T13:33:13.292Z"
   },
   {
    "duration": 36,
    "start_time": "2024-08-27T13:33:13.352Z"
   },
   {
    "duration": 58,
    "start_time": "2024-08-27T13:33:13.390Z"
   },
   {
    "duration": 35,
    "start_time": "2024-08-27T13:33:13.449Z"
   },
   {
    "duration": 715,
    "start_time": "2024-08-27T13:33:13.485Z"
   },
   {
    "duration": 887,
    "start_time": "2024-08-27T13:33:14.202Z"
   },
   {
    "duration": 11,
    "start_time": "2024-08-27T13:33:15.092Z"
   },
   {
    "duration": 80,
    "start_time": "2024-08-27T13:33:15.105Z"
   },
   {
    "duration": 28,
    "start_time": "2024-08-27T13:33:15.187Z"
   },
   {
    "duration": 10,
    "start_time": "2024-08-27T13:33:15.216Z"
   },
   {
    "duration": 28,
    "start_time": "2024-08-27T13:33:15.228Z"
   },
   {
    "duration": 336,
    "start_time": "2024-08-27T13:33:15.258Z"
   },
   {
    "duration": 8,
    "start_time": "2024-08-27T13:33:15.596Z"
   },
   {
    "duration": 32,
    "start_time": "2024-08-27T13:33:15.606Z"
   },
   {
    "duration": 328,
    "start_time": "2024-08-27T13:33:15.640Z"
   },
   {
    "duration": 7,
    "start_time": "2024-08-27T13:33:15.970Z"
   },
   {
    "duration": 18,
    "start_time": "2024-08-27T13:33:15.980Z"
   },
   {
    "duration": 356,
    "start_time": "2024-08-27T13:33:16.000Z"
   },
   {
    "duration": 4,
    "start_time": "2024-08-27T13:33:16.358Z"
   },
   {
    "duration": 766,
    "start_time": "2024-08-27T13:33:16.364Z"
   },
   {
    "duration": 8,
    "start_time": "2024-08-27T13:33:17.131Z"
   },
   {
    "duration": 20,
    "start_time": "2024-08-27T13:33:17.140Z"
   },
   {
    "duration": 21,
    "start_time": "2024-08-27T13:33:17.161Z"
   },
   {
    "duration": 8,
    "start_time": "2024-08-27T13:33:17.183Z"
   },
   {
    "duration": 4,
    "start_time": "2024-08-27T13:33:17.194Z"
   },
   {
    "duration": 5,
    "start_time": "2024-08-27T13:33:17.199Z"
   },
   {
    "duration": 8,
    "start_time": "2024-08-27T13:33:17.206Z"
   },
   {
    "duration": 6,
    "start_time": "2024-08-27T13:33:17.226Z"
   },
   {
    "duration": 11054,
    "start_time": "2024-08-27T13:33:17.234Z"
   },
   {
    "duration": 6,
    "start_time": "2024-08-27T13:33:28.290Z"
   },
   {
    "duration": 2458,
    "start_time": "2024-08-27T13:34:55.254Z"
   },
   {
    "duration": 1596,
    "start_time": "2024-08-27T13:34:57.715Z"
   },
   {
    "duration": 560,
    "start_time": "2024-08-27T13:34:59.313Z"
   },
   {
    "duration": 13,
    "start_time": "2024-08-27T13:34:59.876Z"
   },
   {
    "duration": 9,
    "start_time": "2024-08-27T13:34:59.890Z"
   },
   {
    "duration": 26,
    "start_time": "2024-08-27T13:34:59.901Z"
   },
   {
    "duration": 21,
    "start_time": "2024-08-27T13:34:59.929Z"
   },
   {
    "duration": 14,
    "start_time": "2024-08-27T13:34:59.951Z"
   },
   {
    "duration": 14,
    "start_time": "2024-08-27T13:34:59.967Z"
   },
   {
    "duration": 178,
    "start_time": "2024-08-27T13:34:59.984Z"
   },
   {
    "duration": 66,
    "start_time": "2024-08-27T13:35:00.164Z"
   },
   {
    "duration": 71,
    "start_time": "2024-08-27T13:35:00.233Z"
   },
   {
    "duration": 48,
    "start_time": "2024-08-27T13:35:00.306Z"
   },
   {
    "duration": 37,
    "start_time": "2024-08-27T13:35:00.356Z"
   },
   {
    "duration": 6,
    "start_time": "2024-08-27T13:35:00.395Z"
   },
   {
    "duration": 757,
    "start_time": "2024-08-27T13:35:00.402Z"
   },
   {
    "duration": 867,
    "start_time": "2024-08-27T13:35:01.160Z"
   },
   {
    "duration": 12,
    "start_time": "2024-08-27T13:35:02.029Z"
   },
   {
    "duration": 11,
    "start_time": "2024-08-27T13:35:02.042Z"
   },
   {
    "duration": 18,
    "start_time": "2024-08-27T13:35:02.054Z"
   },
   {
    "duration": 8,
    "start_time": "2024-08-27T13:35:02.074Z"
   },
   {
    "duration": 45,
    "start_time": "2024-08-27T13:35:02.084Z"
   },
   {
    "duration": 339,
    "start_time": "2024-08-27T13:35:02.131Z"
   },
   {
    "duration": 8,
    "start_time": "2024-08-27T13:35:02.471Z"
   },
   {
    "duration": 14,
    "start_time": "2024-08-27T13:35:02.481Z"
   },
   {
    "duration": 359,
    "start_time": "2024-08-27T13:35:02.497Z"
   },
   {
    "duration": 6,
    "start_time": "2024-08-27T13:35:02.858Z"
   },
   {
    "duration": 14,
    "start_time": "2024-08-27T13:35:02.867Z"
   },
   {
    "duration": 377,
    "start_time": "2024-08-27T13:35:02.883Z"
   },
   {
    "duration": 4,
    "start_time": "2024-08-27T13:35:03.261Z"
   },
   {
    "duration": 759,
    "start_time": "2024-08-27T13:35:03.266Z"
   },
   {
    "duration": 8,
    "start_time": "2024-08-27T13:35:04.027Z"
   },
   {
    "duration": 6,
    "start_time": "2024-08-27T13:35:04.036Z"
   },
   {
    "duration": 5,
    "start_time": "2024-08-27T13:35:04.044Z"
   },
   {
    "duration": 12,
    "start_time": "2024-08-27T13:35:04.050Z"
   },
   {
    "duration": 5,
    "start_time": "2024-08-27T13:35:04.063Z"
   },
   {
    "duration": 4,
    "start_time": "2024-08-27T13:35:04.070Z"
   },
   {
    "duration": 10,
    "start_time": "2024-08-27T13:35:04.076Z"
   },
   {
    "duration": 41,
    "start_time": "2024-08-27T13:35:04.087Z"
   },
   {
    "duration": 6730,
    "start_time": "2024-08-27T13:35:04.130Z"
   },
   {
    "duration": 5,
    "start_time": "2024-08-27T13:35:10.862Z"
   },
   {
    "duration": 4,
    "start_time": "2024-08-27T13:35:37.483Z"
   },
   {
    "duration": 3,
    "start_time": "2024-08-27T13:36:27.044Z"
   },
   {
    "duration": 4,
    "start_time": "2024-08-27T13:37:14.075Z"
   },
   {
    "duration": 2520,
    "start_time": "2024-08-27T13:46:47.064Z"
   },
   {
    "duration": 2013,
    "start_time": "2024-08-27T13:46:49.587Z"
   },
   {
    "duration": 562,
    "start_time": "2024-08-27T13:46:51.602Z"
   },
   {
    "duration": 13,
    "start_time": "2024-08-27T13:46:52.167Z"
   },
   {
    "duration": 10,
    "start_time": "2024-08-27T13:46:52.183Z"
   },
   {
    "duration": 9,
    "start_time": "2024-08-27T13:46:52.195Z"
   },
   {
    "duration": 24,
    "start_time": "2024-08-27T13:46:52.225Z"
   },
   {
    "duration": 20,
    "start_time": "2024-08-27T13:46:52.251Z"
   },
   {
    "duration": 15,
    "start_time": "2024-08-27T13:46:52.273Z"
   },
   {
    "duration": 164,
    "start_time": "2024-08-27T13:46:52.290Z"
   },
   {
    "duration": 46,
    "start_time": "2024-08-27T13:46:52.456Z"
   },
   {
    "duration": 70,
    "start_time": "2024-08-27T13:46:52.504Z"
   },
   {
    "duration": 63,
    "start_time": "2024-08-27T13:46:52.576Z"
   },
   {
    "duration": 43,
    "start_time": "2024-08-27T13:46:52.643Z"
   },
   {
    "duration": 7,
    "start_time": "2024-08-27T13:46:52.687Z"
   },
   {
    "duration": 694,
    "start_time": "2024-08-27T13:46:52.696Z"
   },
   {
    "duration": 938,
    "start_time": "2024-08-27T13:46:53.392Z"
   },
   {
    "duration": 15,
    "start_time": "2024-08-27T13:46:54.331Z"
   },
   {
    "duration": 14,
    "start_time": "2024-08-27T13:46:54.348Z"
   },
   {
    "duration": 14,
    "start_time": "2024-08-27T13:46:54.363Z"
   },
   {
    "duration": 9,
    "start_time": "2024-08-27T13:46:54.380Z"
   },
   {
    "duration": 49,
    "start_time": "2024-08-27T13:46:54.391Z"
   },
   {
    "duration": 339,
    "start_time": "2024-08-27T13:46:54.443Z"
   },
   {
    "duration": 9,
    "start_time": "2024-08-27T13:46:54.784Z"
   },
   {
    "duration": 32,
    "start_time": "2024-08-27T13:46:54.794Z"
   },
   {
    "duration": 368,
    "start_time": "2024-08-27T13:46:54.829Z"
   },
   {
    "duration": 9,
    "start_time": "2024-08-27T13:46:55.199Z"
   },
   {
    "duration": 32,
    "start_time": "2024-08-27T13:46:55.210Z"
   },
   {
    "duration": 323,
    "start_time": "2024-08-27T13:46:55.243Z"
   },
   {
    "duration": 3,
    "start_time": "2024-08-27T13:46:55.568Z"
   },
   {
    "duration": 860,
    "start_time": "2024-08-27T13:46:55.573Z"
   },
   {
    "duration": 12,
    "start_time": "2024-08-27T13:46:56.435Z"
   },
   {
    "duration": 18,
    "start_time": "2024-08-27T13:46:56.449Z"
   },
   {
    "duration": 3,
    "start_time": "2024-08-27T13:46:56.471Z"
   },
   {
    "duration": 80,
    "start_time": "2024-08-27T13:46:56.476Z"
   },
   {
    "duration": 6,
    "start_time": "2024-08-27T13:46:56.558Z"
   },
   {
    "duration": 7,
    "start_time": "2024-08-27T13:46:56.566Z"
   },
   {
    "duration": 14,
    "start_time": "2024-08-27T13:46:56.575Z"
   },
   {
    "duration": 8,
    "start_time": "2024-08-27T13:46:56.590Z"
   },
   {
    "duration": 157,
    "start_time": "2024-08-27T13:46:56.600Z"
   },
   {
    "duration": 0,
    "start_time": "2024-08-27T13:46:56.759Z"
   },
   {
    "duration": 2797,
    "start_time": "2024-08-27T13:48:28.847Z"
   },
   {
    "duration": 1483,
    "start_time": "2024-08-27T13:48:31.646Z"
   },
   {
    "duration": 545,
    "start_time": "2024-08-27T13:48:33.131Z"
   },
   {
    "duration": 12,
    "start_time": "2024-08-27T13:48:33.678Z"
   },
   {
    "duration": 13,
    "start_time": "2024-08-27T13:48:33.692Z"
   },
   {
    "duration": 10,
    "start_time": "2024-08-27T13:48:33.706Z"
   },
   {
    "duration": 37,
    "start_time": "2024-08-27T13:48:33.717Z"
   },
   {
    "duration": 14,
    "start_time": "2024-08-27T13:48:33.755Z"
   },
   {
    "duration": 14,
    "start_time": "2024-08-27T13:48:33.770Z"
   },
   {
    "duration": 132,
    "start_time": "2024-08-27T13:48:33.787Z"
   },
   {
    "duration": 40,
    "start_time": "2024-08-27T13:48:33.920Z"
   },
   {
    "duration": 41,
    "start_time": "2024-08-27T13:48:33.961Z"
   },
   {
    "duration": 51,
    "start_time": "2024-08-27T13:48:34.004Z"
   },
   {
    "duration": 33,
    "start_time": "2024-08-27T13:48:34.057Z"
   },
   {
    "duration": 6,
    "start_time": "2024-08-27T13:48:34.092Z"
   },
   {
    "duration": 718,
    "start_time": "2024-08-27T13:48:34.100Z"
   },
   {
    "duration": 907,
    "start_time": "2024-08-27T13:48:34.820Z"
   },
   {
    "duration": 12,
    "start_time": "2024-08-27T13:48:35.728Z"
   },
   {
    "duration": 11,
    "start_time": "2024-08-27T13:48:35.742Z"
   },
   {
    "duration": 14,
    "start_time": "2024-08-27T13:48:35.755Z"
   },
   {
    "duration": 9,
    "start_time": "2024-08-27T13:48:35.771Z"
   },
   {
    "duration": 56,
    "start_time": "2024-08-27T13:48:35.782Z"
   },
   {
    "duration": 330,
    "start_time": "2024-08-27T13:48:35.841Z"
   },
   {
    "duration": 7,
    "start_time": "2024-08-27T13:48:36.173Z"
   },
   {
    "duration": 16,
    "start_time": "2024-08-27T13:48:36.182Z"
   },
   {
    "duration": 366,
    "start_time": "2024-08-27T13:48:36.200Z"
   },
   {
    "duration": 7,
    "start_time": "2024-08-27T13:48:36.568Z"
   },
   {
    "duration": 16,
    "start_time": "2024-08-27T13:48:36.578Z"
   },
   {
    "duration": 366,
    "start_time": "2024-08-27T13:48:36.596Z"
   },
   {
    "duration": 3,
    "start_time": "2024-08-27T13:48:36.964Z"
   },
   {
    "duration": 667,
    "start_time": "2024-08-27T13:48:36.969Z"
   },
   {
    "duration": 89,
    "start_time": "2024-08-27T13:48:37.638Z"
   },
   {
    "duration": 5,
    "start_time": "2024-08-27T13:48:37.728Z"
   },
   {
    "duration": 9,
    "start_time": "2024-08-27T13:48:37.734Z"
   },
   {
    "duration": 7,
    "start_time": "2024-08-27T13:48:37.745Z"
   },
   {
    "duration": 4,
    "start_time": "2024-08-27T13:48:37.754Z"
   },
   {
    "duration": 7,
    "start_time": "2024-08-27T13:48:37.759Z"
   },
   {
    "duration": 10,
    "start_time": "2024-08-27T13:48:37.767Z"
   },
   {
    "duration": 12,
    "start_time": "2024-08-27T13:48:37.779Z"
   },
   {
    "duration": 169,
    "start_time": "2024-08-27T13:48:37.793Z"
   },
   {
    "duration": 0,
    "start_time": "2024-08-27T13:48:37.964Z"
   },
   {
    "duration": 2455,
    "start_time": "2024-08-27T13:52:30.100Z"
   },
   {
    "duration": 1470,
    "start_time": "2024-08-27T13:52:32.558Z"
   },
   {
    "duration": 522,
    "start_time": "2024-08-27T13:52:34.033Z"
   },
   {
    "duration": 12,
    "start_time": "2024-08-27T13:52:34.556Z"
   },
   {
    "duration": 20,
    "start_time": "2024-08-27T13:52:34.569Z"
   },
   {
    "duration": 26,
    "start_time": "2024-08-27T13:52:34.590Z"
   },
   {
    "duration": 20,
    "start_time": "2024-08-27T13:52:34.617Z"
   },
   {
    "duration": 14,
    "start_time": "2024-08-27T13:52:34.638Z"
   },
   {
    "duration": 14,
    "start_time": "2024-08-27T13:52:34.654Z"
   },
   {
    "duration": 160,
    "start_time": "2024-08-27T13:52:34.669Z"
   },
   {
    "duration": 46,
    "start_time": "2024-08-27T13:52:34.832Z"
   },
   {
    "duration": 54,
    "start_time": "2024-08-27T13:52:34.880Z"
   },
   {
    "duration": 35,
    "start_time": "2024-08-27T13:52:34.935Z"
   },
   {
    "duration": 34,
    "start_time": "2024-08-27T13:52:34.971Z"
   },
   {
    "duration": 8,
    "start_time": "2024-08-27T13:52:35.025Z"
   },
   {
    "duration": 699,
    "start_time": "2024-08-27T13:52:35.034Z"
   },
   {
    "duration": 827,
    "start_time": "2024-08-27T13:52:35.739Z"
   },
   {
    "duration": 10,
    "start_time": "2024-08-27T13:52:36.567Z"
   },
   {
    "duration": 10,
    "start_time": "2024-08-27T13:52:36.579Z"
   },
   {
    "duration": 37,
    "start_time": "2024-08-27T13:52:36.590Z"
   },
   {
    "duration": 8,
    "start_time": "2024-08-27T13:52:36.629Z"
   },
   {
    "duration": 14,
    "start_time": "2024-08-27T13:52:36.639Z"
   },
   {
    "duration": 315,
    "start_time": "2024-08-27T13:52:36.654Z"
   },
   {
    "duration": 7,
    "start_time": "2024-08-27T13:52:36.970Z"
   },
   {
    "duration": 15,
    "start_time": "2024-08-27T13:52:36.978Z"
   },
   {
    "duration": 356,
    "start_time": "2024-08-27T13:52:36.994Z"
   },
   {
    "duration": 6,
    "start_time": "2024-08-27T13:52:37.353Z"
   },
   {
    "duration": 23,
    "start_time": "2024-08-27T13:52:37.361Z"
   },
   {
    "duration": 362,
    "start_time": "2024-08-27T13:52:37.386Z"
   },
   {
    "duration": 4,
    "start_time": "2024-08-27T13:52:37.749Z"
   },
   {
    "duration": 671,
    "start_time": "2024-08-27T13:52:37.755Z"
   },
   {
    "duration": 8,
    "start_time": "2024-08-27T13:52:38.427Z"
   },
   {
    "duration": 47,
    "start_time": "2024-08-27T13:52:38.437Z"
   },
   {
    "duration": 2,
    "start_time": "2024-08-27T13:52:38.486Z"
   },
   {
    "duration": 8,
    "start_time": "2024-08-27T13:52:38.489Z"
   },
   {
    "duration": 4,
    "start_time": "2024-08-27T13:52:38.499Z"
   },
   {
    "duration": 4,
    "start_time": "2024-08-27T13:52:38.504Z"
   },
   {
    "duration": 8,
    "start_time": "2024-08-27T13:52:38.510Z"
   },
   {
    "duration": 6,
    "start_time": "2024-08-27T13:52:38.519Z"
   },
   {
    "duration": 142,
    "start_time": "2024-08-27T13:52:38.527Z"
   },
   {
    "duration": 0,
    "start_time": "2024-08-27T13:52:38.670Z"
   },
   {
    "duration": 2368,
    "start_time": "2024-08-27T14:04:29.452Z"
   },
   {
    "duration": 1394,
    "start_time": "2024-08-27T14:04:31.822Z"
   },
   {
    "duration": 518,
    "start_time": "2024-08-27T14:04:33.220Z"
   },
   {
    "duration": 14,
    "start_time": "2024-08-27T14:04:33.739Z"
   },
   {
    "duration": 8,
    "start_time": "2024-08-27T14:04:33.755Z"
   },
   {
    "duration": 8,
    "start_time": "2024-08-27T14:04:33.770Z"
   },
   {
    "duration": 20,
    "start_time": "2024-08-27T14:04:33.779Z"
   },
   {
    "duration": 31,
    "start_time": "2024-08-27T14:04:33.800Z"
   },
   {
    "duration": 14,
    "start_time": "2024-08-27T14:04:33.833Z"
   },
   {
    "duration": 140,
    "start_time": "2024-08-27T14:04:33.849Z"
   },
   {
    "duration": 47,
    "start_time": "2024-08-27T14:04:33.990Z"
   },
   {
    "duration": 37,
    "start_time": "2024-08-27T14:04:34.039Z"
   },
   {
    "duration": 50,
    "start_time": "2024-08-27T14:04:34.078Z"
   },
   {
    "duration": 34,
    "start_time": "2024-08-27T14:04:34.129Z"
   },
   {
    "duration": 6,
    "start_time": "2024-08-27T14:04:34.165Z"
   },
   {
    "duration": 659,
    "start_time": "2024-08-27T14:04:34.173Z"
   },
   {
    "duration": 830,
    "start_time": "2024-08-27T14:04:34.834Z"
   },
   {
    "duration": 9,
    "start_time": "2024-08-27T14:04:35.665Z"
   },
   {
    "duration": 22,
    "start_time": "2024-08-27T14:04:35.676Z"
   },
   {
    "duration": 16,
    "start_time": "2024-08-27T14:04:35.699Z"
   },
   {
    "duration": 13,
    "start_time": "2024-08-27T14:04:35.716Z"
   },
   {
    "duration": 32,
    "start_time": "2024-08-27T14:04:35.730Z"
   },
   {
    "duration": 316,
    "start_time": "2024-08-27T14:04:35.763Z"
   },
   {
    "duration": 8,
    "start_time": "2024-08-27T14:04:36.080Z"
   },
   {
    "duration": 14,
    "start_time": "2024-08-27T14:04:36.089Z"
   },
   {
    "duration": 330,
    "start_time": "2024-08-27T14:04:36.105Z"
   },
   {
    "duration": 6,
    "start_time": "2024-08-27T14:04:36.439Z"
   },
   {
    "duration": 70,
    "start_time": "2024-08-27T14:04:36.447Z"
   },
   {
    "duration": 314,
    "start_time": "2024-08-27T14:04:36.519Z"
   },
   {
    "duration": 3,
    "start_time": "2024-08-27T14:04:36.835Z"
   },
   {
    "duration": 687,
    "start_time": "2024-08-27T14:04:36.839Z"
   },
   {
    "duration": 9,
    "start_time": "2024-08-27T14:04:37.527Z"
   },
   {
    "duration": 18,
    "start_time": "2024-08-27T14:04:37.537Z"
   },
   {
    "duration": 5,
    "start_time": "2024-08-27T14:04:37.557Z"
   },
   {
    "duration": 7,
    "start_time": "2024-08-27T14:04:37.564Z"
   },
   {
    "duration": 3,
    "start_time": "2024-08-27T14:04:37.573Z"
   },
   {
    "duration": 5,
    "start_time": "2024-08-27T14:04:37.578Z"
   },
   {
    "duration": 8,
    "start_time": "2024-08-27T14:04:37.584Z"
   },
   {
    "duration": 33,
    "start_time": "2024-08-27T14:04:37.593Z"
   },
   {
    "duration": 145,
    "start_time": "2024-08-27T14:04:37.628Z"
   },
   {
    "duration": 0,
    "start_time": "2024-08-27T14:04:37.774Z"
   },
   {
    "duration": 2380,
    "start_time": "2024-08-27T14:06:24.893Z"
   },
   {
    "duration": 1421,
    "start_time": "2024-08-27T14:06:27.275Z"
   },
   {
    "duration": 512,
    "start_time": "2024-08-27T14:06:28.697Z"
   },
   {
    "duration": 15,
    "start_time": "2024-08-27T14:06:29.211Z"
   },
   {
    "duration": 8,
    "start_time": "2024-08-27T14:06:29.228Z"
   },
   {
    "duration": 28,
    "start_time": "2024-08-27T14:06:29.237Z"
   },
   {
    "duration": 29,
    "start_time": "2024-08-27T14:06:29.267Z"
   },
   {
    "duration": 14,
    "start_time": "2024-08-27T14:06:29.298Z"
   },
   {
    "duration": 14,
    "start_time": "2024-08-27T14:06:29.313Z"
   },
   {
    "duration": 131,
    "start_time": "2024-08-27T14:06:29.330Z"
   },
   {
    "duration": 43,
    "start_time": "2024-08-27T14:06:29.463Z"
   },
   {
    "duration": 51,
    "start_time": "2024-08-27T14:06:29.507Z"
   },
   {
    "duration": 44,
    "start_time": "2024-08-27T14:06:29.559Z"
   },
   {
    "duration": 56,
    "start_time": "2024-08-27T14:06:29.604Z"
   },
   {
    "duration": 6,
    "start_time": "2024-08-27T14:06:29.661Z"
   },
   {
    "duration": 683,
    "start_time": "2024-08-27T14:06:29.668Z"
   },
   {
    "duration": 828,
    "start_time": "2024-08-27T14:06:30.353Z"
   },
   {
    "duration": 11,
    "start_time": "2024-08-27T14:06:31.182Z"
   },
   {
    "duration": 52,
    "start_time": "2024-08-27T14:06:31.194Z"
   },
   {
    "duration": 12,
    "start_time": "2024-08-27T14:06:31.248Z"
   },
   {
    "duration": 9,
    "start_time": "2024-08-27T14:06:31.262Z"
   },
   {
    "duration": 16,
    "start_time": "2024-08-27T14:06:31.272Z"
   },
   {
    "duration": 344,
    "start_time": "2024-08-27T14:06:31.290Z"
   },
   {
    "duration": 7,
    "start_time": "2024-08-27T14:06:31.636Z"
   },
   {
    "duration": 15,
    "start_time": "2024-08-27T14:06:31.645Z"
   },
   {
    "duration": 299,
    "start_time": "2024-08-27T14:06:31.661Z"
   },
   {
    "duration": 6,
    "start_time": "2024-08-27T14:06:31.962Z"
   },
   {
    "duration": 15,
    "start_time": "2024-08-27T14:06:31.971Z"
   },
   {
    "duration": 345,
    "start_time": "2024-08-27T14:06:31.988Z"
   },
   {
    "duration": 4,
    "start_time": "2024-08-27T14:06:32.334Z"
   },
   {
    "duration": 690,
    "start_time": "2024-08-27T14:06:32.339Z"
   },
   {
    "duration": 8,
    "start_time": "2024-08-27T14:06:33.030Z"
   },
   {
    "duration": 5,
    "start_time": "2024-08-27T14:06:33.040Z"
   },
   {
    "duration": 3,
    "start_time": "2024-08-27T14:06:33.046Z"
   },
   {
    "duration": 17,
    "start_time": "2024-08-27T14:06:33.050Z"
   },
   {
    "duration": 4,
    "start_time": "2024-08-27T14:06:33.069Z"
   },
   {
    "duration": 11,
    "start_time": "2024-08-27T14:06:33.074Z"
   },
   {
    "duration": 16,
    "start_time": "2024-08-27T14:06:33.086Z"
   },
   {
    "duration": 10,
    "start_time": "2024-08-27T14:06:33.103Z"
   },
   {
    "duration": 148,
    "start_time": "2024-08-27T14:06:33.126Z"
   },
   {
    "duration": 0,
    "start_time": "2024-08-27T14:06:33.276Z"
   },
   {
    "duration": 2344,
    "start_time": "2024-08-27T14:09:54.589Z"
   },
   {
    "duration": 1397,
    "start_time": "2024-08-27T14:09:56.935Z"
   },
   {
    "duration": 498,
    "start_time": "2024-08-27T14:09:58.334Z"
   },
   {
    "duration": 13,
    "start_time": "2024-08-27T14:09:58.834Z"
   },
   {
    "duration": 9,
    "start_time": "2024-08-27T14:09:58.848Z"
   },
   {
    "duration": 8,
    "start_time": "2024-08-27T14:09:58.859Z"
   },
   {
    "duration": 15,
    "start_time": "2024-08-27T14:09:58.868Z"
   },
   {
    "duration": 43,
    "start_time": "2024-08-27T14:09:58.884Z"
   },
   {
    "duration": 14,
    "start_time": "2024-08-27T14:09:58.929Z"
   },
   {
    "duration": 133,
    "start_time": "2024-08-27T14:09:58.947Z"
   },
   {
    "duration": 50,
    "start_time": "2024-08-27T14:09:59.082Z"
   },
   {
    "duration": 36,
    "start_time": "2024-08-27T14:09:59.134Z"
   },
   {
    "duration": 54,
    "start_time": "2024-08-27T14:09:59.173Z"
   },
   {
    "duration": 36,
    "start_time": "2024-08-27T14:09:59.229Z"
   },
   {
    "duration": 6,
    "start_time": "2024-08-27T14:09:59.267Z"
   },
   {
    "duration": 673,
    "start_time": "2024-08-27T14:09:59.274Z"
   },
   {
    "duration": 850,
    "start_time": "2024-08-27T14:09:59.948Z"
   },
   {
    "duration": 10,
    "start_time": "2024-08-27T14:10:00.799Z"
   },
   {
    "duration": 22,
    "start_time": "2024-08-27T14:10:00.811Z"
   },
   {
    "duration": 12,
    "start_time": "2024-08-27T14:10:00.834Z"
   },
   {
    "duration": 20,
    "start_time": "2024-08-27T14:10:00.847Z"
   },
   {
    "duration": 24,
    "start_time": "2024-08-27T14:10:00.869Z"
   },
   {
    "duration": 339,
    "start_time": "2024-08-27T14:10:00.895Z"
   },
   {
    "duration": 8,
    "start_time": "2024-08-27T14:10:01.236Z"
   },
   {
    "duration": 20,
    "start_time": "2024-08-27T14:10:01.246Z"
   },
   {
    "duration": 310,
    "start_time": "2024-08-27T14:10:01.267Z"
   },
   {
    "duration": 7,
    "start_time": "2024-08-27T14:10:01.579Z"
   },
   {
    "duration": 29,
    "start_time": "2024-08-27T14:10:01.589Z"
   },
   {
    "duration": 317,
    "start_time": "2024-08-27T14:10:01.620Z"
   },
   {
    "duration": 3,
    "start_time": "2024-08-27T14:10:01.939Z"
   },
   {
    "duration": 691,
    "start_time": "2024-08-27T14:10:01.943Z"
   },
   {
    "duration": 8,
    "start_time": "2024-08-27T14:10:02.635Z"
   },
   {
    "duration": 30,
    "start_time": "2024-08-27T14:10:02.645Z"
   },
   {
    "duration": 20,
    "start_time": "2024-08-27T14:10:02.677Z"
   },
   {
    "duration": 26,
    "start_time": "2024-08-27T14:10:02.699Z"
   },
   {
    "duration": 7,
    "start_time": "2024-08-27T14:10:02.726Z"
   },
   {
    "duration": 93,
    "start_time": "2024-08-27T14:10:02.735Z"
   },
   {
    "duration": 0,
    "start_time": "2024-08-27T14:10:02.830Z"
   },
   {
    "duration": 0,
    "start_time": "2024-08-27T14:10:02.831Z"
   },
   {
    "duration": 0,
    "start_time": "2024-08-27T14:10:02.832Z"
   },
   {
    "duration": 0,
    "start_time": "2024-08-27T14:10:02.833Z"
   },
   {
    "duration": 128,
    "start_time": "2024-08-27T14:15:39.863Z"
   },
   {
    "duration": 3,
    "start_time": "2024-08-27T14:15:40.443Z"
   },
   {
    "duration": 4,
    "start_time": "2024-08-27T14:16:03.070Z"
   },
   {
    "duration": 8,
    "start_time": "2024-08-27T14:16:07.520Z"
   },
   {
    "duration": 6,
    "start_time": "2024-08-27T14:16:08.670Z"
   },
   {
    "duration": 37,
    "start_time": "2024-08-27T14:16:10.476Z"
   },
   {
    "duration": 2492,
    "start_time": "2024-08-27T14:21:06.829Z"
   },
   {
    "duration": 1560,
    "start_time": "2024-08-27T14:21:09.323Z"
   },
   {
    "duration": 621,
    "start_time": "2024-08-27T14:21:10.884Z"
   },
   {
    "duration": 13,
    "start_time": "2024-08-27T14:21:11.507Z"
   },
   {
    "duration": 58,
    "start_time": "2024-08-27T14:21:11.526Z"
   },
   {
    "duration": 32,
    "start_time": "2024-08-27T14:21:11.586Z"
   },
   {
    "duration": 35,
    "start_time": "2024-08-27T14:21:11.620Z"
   },
   {
    "duration": 25,
    "start_time": "2024-08-27T14:21:11.657Z"
   },
   {
    "duration": 49,
    "start_time": "2024-08-27T14:21:11.683Z"
   },
   {
    "duration": 176,
    "start_time": "2024-08-27T14:21:11.736Z"
   },
   {
    "duration": 69,
    "start_time": "2024-08-27T14:21:11.914Z"
   },
   {
    "duration": 54,
    "start_time": "2024-08-27T14:21:11.985Z"
   },
   {
    "duration": 35,
    "start_time": "2024-08-27T14:21:12.041Z"
   },
   {
    "duration": 55,
    "start_time": "2024-08-27T14:21:12.078Z"
   },
   {
    "duration": 7,
    "start_time": "2024-08-27T14:21:12.135Z"
   },
   {
    "duration": 667,
    "start_time": "2024-08-27T14:21:12.143Z"
   },
   {
    "duration": 851,
    "start_time": "2024-08-27T14:21:12.811Z"
   },
   {
    "duration": 10,
    "start_time": "2024-08-27T14:21:13.664Z"
   },
   {
    "duration": 11,
    "start_time": "2024-08-27T14:21:13.675Z"
   },
   {
    "duration": 22,
    "start_time": "2024-08-27T14:21:13.687Z"
   },
   {
    "duration": 32,
    "start_time": "2024-08-27T14:21:13.710Z"
   },
   {
    "duration": 18,
    "start_time": "2024-08-27T14:21:13.744Z"
   },
   {
    "duration": 309,
    "start_time": "2024-08-27T14:21:13.763Z"
   },
   {
    "duration": 7,
    "start_time": "2024-08-27T14:21:14.073Z"
   },
   {
    "duration": 15,
    "start_time": "2024-08-27T14:21:14.082Z"
   },
   {
    "duration": 371,
    "start_time": "2024-08-27T14:21:14.098Z"
   },
   {
    "duration": 6,
    "start_time": "2024-08-27T14:21:14.470Z"
   },
   {
    "duration": 15,
    "start_time": "2024-08-27T14:21:14.479Z"
   },
   {
    "duration": 376,
    "start_time": "2024-08-27T14:21:14.495Z"
   },
   {
    "duration": 4,
    "start_time": "2024-08-27T14:21:14.873Z"
   },
   {
    "duration": 764,
    "start_time": "2024-08-27T14:21:14.878Z"
   },
   {
    "duration": 95,
    "start_time": "2024-08-27T14:21:15.645Z"
   },
   {
    "duration": 24,
    "start_time": "2024-08-27T14:21:15.741Z"
   },
   {
    "duration": 36,
    "start_time": "2024-08-27T14:21:15.766Z"
   },
   {
    "duration": 10,
    "start_time": "2024-08-27T14:21:15.804Z"
   },
   {
    "duration": 23,
    "start_time": "2024-08-27T14:21:15.815Z"
   },
   {
    "duration": 12,
    "start_time": "2024-08-27T14:21:15.842Z"
   },
   {
    "duration": 11,
    "start_time": "2024-08-27T14:21:15.855Z"
   },
   {
    "duration": 16,
    "start_time": "2024-08-27T14:21:15.868Z"
   },
   {
    "duration": 167,
    "start_time": "2024-08-27T14:21:15.885Z"
   },
   {
    "duration": 0,
    "start_time": "2024-08-27T14:21:16.053Z"
   },
   {
    "duration": 2430,
    "start_time": "2024-08-27T14:23:22.320Z"
   },
   {
    "duration": 1520,
    "start_time": "2024-08-27T14:23:24.753Z"
   },
   {
    "duration": 511,
    "start_time": "2024-08-27T14:23:26.275Z"
   },
   {
    "duration": 11,
    "start_time": "2024-08-27T14:23:26.789Z"
   },
   {
    "duration": 22,
    "start_time": "2024-08-27T14:23:26.801Z"
   },
   {
    "duration": 21,
    "start_time": "2024-08-27T14:23:26.825Z"
   },
   {
    "duration": 24,
    "start_time": "2024-08-27T14:23:26.847Z"
   },
   {
    "duration": 14,
    "start_time": "2024-08-27T14:23:26.872Z"
   },
   {
    "duration": 13,
    "start_time": "2024-08-27T14:23:26.888Z"
   },
   {
    "duration": 138,
    "start_time": "2024-08-27T14:23:26.904Z"
   },
   {
    "duration": 40,
    "start_time": "2024-08-27T14:23:27.043Z"
   },
   {
    "duration": 46,
    "start_time": "2024-08-27T14:23:27.085Z"
   },
   {
    "duration": 34,
    "start_time": "2024-08-27T14:23:27.132Z"
   },
   {
    "duration": 34,
    "start_time": "2024-08-27T14:23:27.167Z"
   },
   {
    "duration": 26,
    "start_time": "2024-08-27T14:23:27.203Z"
   },
   {
    "duration": 649,
    "start_time": "2024-08-27T14:23:27.230Z"
   },
   {
    "duration": 833,
    "start_time": "2024-08-27T14:23:27.880Z"
   },
   {
    "duration": 20,
    "start_time": "2024-08-27T14:23:28.714Z"
   },
   {
    "duration": 10,
    "start_time": "2024-08-27T14:23:28.735Z"
   },
   {
    "duration": 12,
    "start_time": "2024-08-27T14:23:28.747Z"
   },
   {
    "duration": 8,
    "start_time": "2024-08-27T14:23:28.761Z"
   },
   {
    "duration": 14,
    "start_time": "2024-08-27T14:23:28.771Z"
   },
   {
    "duration": 351,
    "start_time": "2024-08-27T14:23:28.787Z"
   },
   {
    "duration": 8,
    "start_time": "2024-08-27T14:23:29.140Z"
   },
   {
    "duration": 17,
    "start_time": "2024-08-27T14:23:29.149Z"
   },
   {
    "duration": 312,
    "start_time": "2024-08-27T14:23:29.167Z"
   },
   {
    "duration": 7,
    "start_time": "2024-08-27T14:23:29.480Z"
   },
   {
    "duration": 13,
    "start_time": "2024-08-27T14:23:29.490Z"
   },
   {
    "duration": 419,
    "start_time": "2024-08-27T14:23:29.504Z"
   },
   {
    "duration": 14,
    "start_time": "2024-08-27T14:23:29.924Z"
   },
   {
    "duration": 604,
    "start_time": "2024-08-27T14:23:29.940Z"
   },
   {
    "duration": 89,
    "start_time": "2024-08-27T14:23:30.547Z"
   },
   {
    "duration": 6,
    "start_time": "2024-08-27T14:23:30.639Z"
   },
   {
    "duration": 3,
    "start_time": "2024-08-27T14:23:30.646Z"
   },
   {
    "duration": 5,
    "start_time": "2024-08-27T14:23:30.651Z"
   },
   {
    "duration": 4,
    "start_time": "2024-08-27T14:23:30.657Z"
   },
   {
    "duration": 78,
    "start_time": "2024-08-27T14:23:30.662Z"
   },
   {
    "duration": 0,
    "start_time": "2024-08-27T14:23:30.742Z"
   },
   {
    "duration": 0,
    "start_time": "2024-08-27T14:23:30.743Z"
   },
   {
    "duration": 0,
    "start_time": "2024-08-27T14:23:30.744Z"
   },
   {
    "duration": 0,
    "start_time": "2024-08-27T14:23:30.745Z"
   },
   {
    "duration": 76,
    "start_time": "2024-08-27T14:23:54.719Z"
   },
   {
    "duration": 5,
    "start_time": "2024-08-27T14:24:04.220Z"
   },
   {
    "duration": 4761,
    "start_time": "2024-08-27T14:24:10.568Z"
   },
   {
    "duration": 5,
    "start_time": "2024-08-27T14:24:15.331Z"
   },
   {
    "duration": 4,
    "start_time": "2024-08-27T14:28:58.309Z"
   },
   {
    "duration": 5,
    "start_time": "2024-08-27T14:29:24.172Z"
   },
   {
    "duration": 8,
    "start_time": "2024-08-27T14:29:26.853Z"
   },
   {
    "duration": 6,
    "start_time": "2024-08-27T14:29:27.691Z"
   },
   {
    "duration": 9403,
    "start_time": "2024-08-27T14:29:29.125Z"
   },
   {
    "duration": 2384,
    "start_time": "2024-08-27T14:30:35.420Z"
   },
   {
    "duration": 2110,
    "start_time": "2024-08-27T14:30:37.806Z"
   },
   {
    "duration": 528,
    "start_time": "2024-08-27T14:30:39.917Z"
   },
   {
    "duration": 12,
    "start_time": "2024-08-27T14:30:40.447Z"
   },
   {
    "duration": 8,
    "start_time": "2024-08-27T14:30:40.461Z"
   },
   {
    "duration": 13,
    "start_time": "2024-08-27T14:30:40.470Z"
   },
   {
    "duration": 23,
    "start_time": "2024-08-27T14:30:40.484Z"
   },
   {
    "duration": 26,
    "start_time": "2024-08-27T14:30:40.508Z"
   },
   {
    "duration": 32,
    "start_time": "2024-08-27T14:30:40.536Z"
   },
   {
    "duration": 121,
    "start_time": "2024-08-27T14:30:40.570Z"
   },
   {
    "duration": 49,
    "start_time": "2024-08-27T14:30:40.692Z"
   },
   {
    "duration": 37,
    "start_time": "2024-08-27T14:30:40.742Z"
   },
   {
    "duration": 49,
    "start_time": "2024-08-27T14:30:40.781Z"
   },
   {
    "duration": 32,
    "start_time": "2024-08-27T14:30:40.831Z"
   },
   {
    "duration": 6,
    "start_time": "2024-08-27T14:30:40.864Z"
   },
   {
    "duration": 659,
    "start_time": "2024-08-27T14:30:40.871Z"
   },
   {
    "duration": 825,
    "start_time": "2024-08-27T14:30:41.532Z"
   },
   {
    "duration": 10,
    "start_time": "2024-08-27T14:30:42.358Z"
   },
   {
    "duration": 10,
    "start_time": "2024-08-27T14:30:42.369Z"
   },
   {
    "duration": 12,
    "start_time": "2024-08-27T14:30:42.380Z"
   },
   {
    "duration": 33,
    "start_time": "2024-08-27T14:30:42.393Z"
   },
   {
    "duration": 14,
    "start_time": "2024-08-27T14:30:42.427Z"
   },
   {
    "duration": 301,
    "start_time": "2024-08-27T14:30:42.442Z"
   },
   {
    "duration": 8,
    "start_time": "2024-08-27T14:30:42.744Z"
   },
   {
    "duration": 14,
    "start_time": "2024-08-27T14:30:42.753Z"
   },
   {
    "duration": 303,
    "start_time": "2024-08-27T14:30:42.768Z"
   },
   {
    "duration": 6,
    "start_time": "2024-08-27T14:30:43.073Z"
   },
   {
    "duration": 13,
    "start_time": "2024-08-27T14:30:43.082Z"
   },
   {
    "duration": 334,
    "start_time": "2024-08-27T14:30:43.097Z"
   },
   {
    "duration": 4,
    "start_time": "2024-08-27T14:30:43.432Z"
   },
   {
    "duration": 693,
    "start_time": "2024-08-27T14:30:43.437Z"
   },
   {
    "duration": 8,
    "start_time": "2024-08-27T14:30:44.131Z"
   },
   {
    "duration": 6,
    "start_time": "2024-08-27T14:30:44.140Z"
   },
   {
    "duration": 10,
    "start_time": "2024-08-27T14:30:44.148Z"
   },
   {
    "duration": 5,
    "start_time": "2024-08-27T14:30:44.160Z"
   },
   {
    "duration": 3,
    "start_time": "2024-08-27T14:30:44.166Z"
   },
   {
    "duration": 4,
    "start_time": "2024-08-27T14:30:44.171Z"
   },
   {
    "duration": 7,
    "start_time": "2024-08-27T14:30:44.177Z"
   },
   {
    "duration": 7,
    "start_time": "2024-08-27T14:30:44.186Z"
   },
   {
    "duration": 9911,
    "start_time": "2024-08-27T14:30:44.194Z"
   },
   {
    "duration": 5,
    "start_time": "2024-08-27T14:30:54.106Z"
   },
   {
    "duration": 2337,
    "start_time": "2024-08-27T14:32:15.730Z"
   },
   {
    "duration": 1348,
    "start_time": "2024-08-27T14:32:18.069Z"
   },
   {
    "duration": 515,
    "start_time": "2024-08-27T14:32:19.419Z"
   },
   {
    "duration": 12,
    "start_time": "2024-08-27T14:32:19.936Z"
   },
   {
    "duration": 8,
    "start_time": "2024-08-27T14:32:19.949Z"
   },
   {
    "duration": 8,
    "start_time": "2024-08-27T14:32:19.958Z"
   },
   {
    "duration": 14,
    "start_time": "2024-08-27T14:32:19.968Z"
   },
   {
    "duration": 41,
    "start_time": "2024-08-27T14:32:19.984Z"
   },
   {
    "duration": 14,
    "start_time": "2024-08-27T14:32:20.027Z"
   },
   {
    "duration": 141,
    "start_time": "2024-08-27T14:32:20.043Z"
   },
   {
    "duration": 65,
    "start_time": "2024-08-27T14:32:20.186Z"
   },
   {
    "duration": 35,
    "start_time": "2024-08-27T14:32:20.253Z"
   },
   {
    "duration": 50,
    "start_time": "2024-08-27T14:32:20.290Z"
   },
   {
    "duration": 32,
    "start_time": "2024-08-27T14:32:20.341Z"
   },
   {
    "duration": 6,
    "start_time": "2024-08-27T14:32:20.375Z"
   },
   {
    "duration": 627,
    "start_time": "2024-08-27T14:32:20.382Z"
   },
   {
    "duration": 791,
    "start_time": "2024-08-27T14:32:21.011Z"
   },
   {
    "duration": 10,
    "start_time": "2024-08-27T14:32:21.803Z"
   },
   {
    "duration": 15,
    "start_time": "2024-08-27T14:32:21.825Z"
   },
   {
    "duration": 11,
    "start_time": "2024-08-27T14:32:21.842Z"
   },
   {
    "duration": 10,
    "start_time": "2024-08-27T14:32:21.854Z"
   },
   {
    "duration": 16,
    "start_time": "2024-08-27T14:32:21.866Z"
   },
   {
    "duration": 342,
    "start_time": "2024-08-27T14:32:21.884Z"
   },
   {
    "duration": 9,
    "start_time": "2024-08-27T14:32:22.228Z"
   },
   {
    "duration": 15,
    "start_time": "2024-08-27T14:32:22.239Z"
   },
   {
    "duration": 291,
    "start_time": "2024-08-27T14:32:22.256Z"
   },
   {
    "duration": 7,
    "start_time": "2024-08-27T14:32:22.549Z"
   },
   {
    "duration": 20,
    "start_time": "2024-08-27T14:32:22.560Z"
   },
   {
    "duration": 346,
    "start_time": "2024-08-27T14:32:22.581Z"
   },
   {
    "duration": 3,
    "start_time": "2024-08-27T14:32:22.929Z"
   },
   {
    "duration": 695,
    "start_time": "2024-08-27T14:32:22.934Z"
   },
   {
    "duration": 7,
    "start_time": "2024-08-27T14:32:23.631Z"
   },
   {
    "duration": 23,
    "start_time": "2024-08-27T14:32:23.640Z"
   },
   {
    "duration": 2,
    "start_time": "2024-08-27T14:32:23.664Z"
   },
   {
    "duration": 4,
    "start_time": "2024-08-27T14:32:23.668Z"
   },
   {
    "duration": 5,
    "start_time": "2024-08-27T14:32:23.673Z"
   },
   {
    "duration": 4,
    "start_time": "2024-08-27T14:32:23.679Z"
   },
   {
    "duration": 13,
    "start_time": "2024-08-27T14:32:23.684Z"
   },
   {
    "duration": 6,
    "start_time": "2024-08-27T14:32:23.698Z"
   },
   {
    "duration": 305,
    "start_time": "2024-08-27T14:32:23.705Z"
   },
   {
    "duration": 0,
    "start_time": "2024-08-27T14:32:24.012Z"
   },
   {
    "duration": 2323,
    "start_time": "2024-08-27T14:34:02.523Z"
   },
   {
    "duration": 1393,
    "start_time": "2024-08-27T14:34:04.848Z"
   },
   {
    "duration": 500,
    "start_time": "2024-08-27T14:34:06.242Z"
   },
   {
    "duration": 12,
    "start_time": "2024-08-27T14:34:06.744Z"
   },
   {
    "duration": 13,
    "start_time": "2024-08-27T14:34:06.758Z"
   },
   {
    "duration": 9,
    "start_time": "2024-08-27T14:34:06.773Z"
   },
   {
    "duration": 16,
    "start_time": "2024-08-27T14:34:06.783Z"
   },
   {
    "duration": 30,
    "start_time": "2024-08-27T14:34:06.801Z"
   },
   {
    "duration": 13,
    "start_time": "2024-08-27T14:34:06.832Z"
   },
   {
    "duration": 127,
    "start_time": "2024-08-27T14:34:06.847Z"
   },
   {
    "duration": 37,
    "start_time": "2024-08-27T14:34:06.975Z"
   },
   {
    "duration": 50,
    "start_time": "2024-08-27T14:34:07.013Z"
   },
   {
    "duration": 34,
    "start_time": "2024-08-27T14:34:07.065Z"
   },
   {
    "duration": 44,
    "start_time": "2024-08-27T14:34:07.102Z"
   },
   {
    "duration": 6,
    "start_time": "2024-08-27T14:34:07.147Z"
   },
   {
    "duration": 639,
    "start_time": "2024-08-27T14:34:07.155Z"
   },
   {
    "duration": 806,
    "start_time": "2024-08-27T14:34:07.795Z"
   },
   {
    "duration": 11,
    "start_time": "2024-08-27T14:34:08.602Z"
   },
   {
    "duration": 20,
    "start_time": "2024-08-27T14:34:08.614Z"
   },
   {
    "duration": 12,
    "start_time": "2024-08-27T14:34:08.635Z"
   },
   {
    "duration": 8,
    "start_time": "2024-08-27T14:34:08.648Z"
   },
   {
    "duration": 14,
    "start_time": "2024-08-27T14:34:08.658Z"
   },
   {
    "duration": 366,
    "start_time": "2024-08-27T14:34:08.673Z"
   },
   {
    "duration": 7,
    "start_time": "2024-08-27T14:34:09.041Z"
   },
   {
    "duration": 14,
    "start_time": "2024-08-27T14:34:09.049Z"
   },
   {
    "duration": 299,
    "start_time": "2024-08-27T14:34:09.064Z"
   },
   {
    "duration": 6,
    "start_time": "2024-08-27T14:34:09.364Z"
   },
   {
    "duration": 31,
    "start_time": "2024-08-27T14:34:09.372Z"
   },
   {
    "duration": 328,
    "start_time": "2024-08-27T14:34:09.405Z"
   },
   {
    "duration": 3,
    "start_time": "2024-08-27T14:34:09.734Z"
   },
   {
    "duration": 690,
    "start_time": "2024-08-27T14:34:09.738Z"
   },
   {
    "duration": 8,
    "start_time": "2024-08-27T14:34:10.430Z"
   },
   {
    "duration": 5,
    "start_time": "2024-08-27T14:34:10.439Z"
   },
   {
    "duration": 5,
    "start_time": "2024-08-27T14:34:10.446Z"
   },
   {
    "duration": 12,
    "start_time": "2024-08-27T14:34:10.452Z"
   },
   {
    "duration": 6,
    "start_time": "2024-08-27T14:34:10.465Z"
   },
   {
    "duration": 7,
    "start_time": "2024-08-27T14:34:10.472Z"
   },
   {
    "duration": 13,
    "start_time": "2024-08-27T14:34:10.480Z"
   },
   {
    "duration": 10,
    "start_time": "2024-08-27T14:34:10.495Z"
   },
   {
    "duration": 308,
    "start_time": "2024-08-27T14:34:10.526Z"
   },
   {
    "duration": 0,
    "start_time": "2024-08-27T14:34:10.836Z"
   },
   {
    "duration": 5,
    "start_time": "2024-08-27T14:37:40.976Z"
   },
   {
    "duration": 7,
    "start_time": "2024-08-27T14:37:42.378Z"
   },
   {
    "duration": 5,
    "start_time": "2024-08-27T14:37:43.726Z"
   },
   {
    "duration": 206,
    "start_time": "2024-08-27T14:37:46.177Z"
   },
   {
    "duration": 5,
    "start_time": "2024-08-27T14:52:49.547Z"
   },
   {
    "duration": 8,
    "start_time": "2024-08-27T14:52:51.409Z"
   },
   {
    "duration": 6,
    "start_time": "2024-08-27T14:52:52.459Z"
   },
   {
    "duration": 214,
    "start_time": "2024-08-27T14:52:54.148Z"
   },
   {
    "duration": 2420,
    "start_time": "2024-08-27T15:05:52.987Z"
   },
   {
    "duration": 1430,
    "start_time": "2024-08-27T15:05:55.409Z"
   },
   {
    "duration": 506,
    "start_time": "2024-08-27T15:05:56.840Z"
   },
   {
    "duration": 13,
    "start_time": "2024-08-27T15:05:57.347Z"
   },
   {
    "duration": 28,
    "start_time": "2024-08-27T15:05:57.362Z"
   },
   {
    "duration": 9,
    "start_time": "2024-08-27T15:05:57.392Z"
   },
   {
    "duration": 14,
    "start_time": "2024-08-27T15:05:57.403Z"
   },
   {
    "duration": 18,
    "start_time": "2024-08-27T15:05:57.418Z"
   },
   {
    "duration": 14,
    "start_time": "2024-08-27T15:05:57.438Z"
   },
   {
    "duration": 139,
    "start_time": "2024-08-27T15:05:57.453Z"
   },
   {
    "duration": 48,
    "start_time": "2024-08-27T15:05:57.594Z"
   },
   {
    "duration": 109,
    "start_time": "2024-08-27T15:05:57.643Z"
   },
   {
    "duration": 33,
    "start_time": "2024-08-27T15:05:57.754Z"
   },
   {
    "duration": 48,
    "start_time": "2024-08-27T15:05:57.790Z"
   },
   {
    "duration": 6,
    "start_time": "2024-08-27T15:05:57.839Z"
   },
   {
    "duration": 683,
    "start_time": "2024-08-27T15:05:57.847Z"
   },
   {
    "duration": 872,
    "start_time": "2024-08-27T15:05:58.532Z"
   },
   {
    "duration": 20,
    "start_time": "2024-08-27T15:05:59.405Z"
   },
   {
    "duration": 10,
    "start_time": "2024-08-27T15:05:59.427Z"
   },
   {
    "duration": 12,
    "start_time": "2024-08-27T15:05:59.439Z"
   },
   {
    "duration": 8,
    "start_time": "2024-08-27T15:05:59.452Z"
   },
   {
    "duration": 16,
    "start_time": "2024-08-27T15:05:59.462Z"
   },
   {
    "duration": 370,
    "start_time": "2024-08-27T15:05:59.479Z"
   },
   {
    "duration": 7,
    "start_time": "2024-08-27T15:05:59.851Z"
   },
   {
    "duration": 19,
    "start_time": "2024-08-27T15:05:59.860Z"
   },
   {
    "duration": 405,
    "start_time": "2024-08-27T15:05:59.880Z"
   },
   {
    "duration": 7,
    "start_time": "2024-08-27T15:06:00.287Z"
   },
   {
    "duration": 22,
    "start_time": "2024-08-27T15:06:00.295Z"
   },
   {
    "duration": 344,
    "start_time": "2024-08-27T15:06:00.319Z"
   },
   {
    "duration": 3,
    "start_time": "2024-08-27T15:06:00.665Z"
   },
   {
    "duration": 663,
    "start_time": "2024-08-27T15:06:00.669Z"
   },
   {
    "duration": 8,
    "start_time": "2024-08-27T15:06:01.425Z"
   },
   {
    "duration": 9,
    "start_time": "2024-08-27T15:06:01.435Z"
   },
   {
    "duration": 2,
    "start_time": "2024-08-27T15:06:01.446Z"
   },
   {
    "duration": 5,
    "start_time": "2024-08-27T15:06:01.450Z"
   },
   {
    "duration": 4,
    "start_time": "2024-08-27T15:06:01.457Z"
   },
   {
    "duration": 71,
    "start_time": "2024-08-27T15:06:01.462Z"
   },
   {
    "duration": 0,
    "start_time": "2024-08-27T15:06:01.534Z"
   },
   {
    "duration": 0,
    "start_time": "2024-08-27T15:06:01.535Z"
   },
   {
    "duration": 0,
    "start_time": "2024-08-27T15:06:01.536Z"
   },
   {
    "duration": 0,
    "start_time": "2024-08-27T15:06:01.537Z"
   },
   {
    "duration": 4,
    "start_time": "2024-08-27T15:06:17.727Z"
   },
   {
    "duration": 7,
    "start_time": "2024-08-27T15:06:21.350Z"
   },
   {
    "duration": 6,
    "start_time": "2024-08-27T15:06:23.163Z"
   },
   {
    "duration": 140,
    "start_time": "2024-08-27T15:06:25.181Z"
   },
   {
    "duration": 5,
    "start_time": "2024-08-27T15:19:11.089Z"
   },
   {
    "duration": 8,
    "start_time": "2024-08-27T15:19:12.772Z"
   },
   {
    "duration": 7,
    "start_time": "2024-08-27T15:19:13.607Z"
   },
   {
    "duration": 191,
    "start_time": "2024-08-27T15:19:15.012Z"
   },
   {
    "duration": 2460,
    "start_time": "2024-08-27T15:21:20.230Z"
   },
   {
    "duration": 1442,
    "start_time": "2024-08-27T15:21:22.693Z"
   },
   {
    "duration": 524,
    "start_time": "2024-08-27T15:21:24.136Z"
   },
   {
    "duration": 13,
    "start_time": "2024-08-27T15:21:24.662Z"
   },
   {
    "duration": 9,
    "start_time": "2024-08-27T15:21:24.676Z"
   },
   {
    "duration": 14,
    "start_time": "2024-08-27T15:21:24.686Z"
   },
   {
    "duration": 31,
    "start_time": "2024-08-27T15:21:24.701Z"
   },
   {
    "duration": 14,
    "start_time": "2024-08-27T15:21:24.734Z"
   },
   {
    "duration": 14,
    "start_time": "2024-08-27T15:21:24.749Z"
   },
   {
    "duration": 149,
    "start_time": "2024-08-27T15:21:24.766Z"
   },
   {
    "duration": 42,
    "start_time": "2024-08-27T15:21:24.916Z"
   },
   {
    "duration": 36,
    "start_time": "2024-08-27T15:21:24.959Z"
   },
   {
    "duration": 54,
    "start_time": "2024-08-27T15:21:24.996Z"
   },
   {
    "duration": 33,
    "start_time": "2024-08-27T15:21:25.052Z"
   },
   {
    "duration": 7,
    "start_time": "2024-08-27T15:21:25.086Z"
   },
   {
    "duration": 692,
    "start_time": "2024-08-27T15:21:25.095Z"
   },
   {
    "duration": 847,
    "start_time": "2024-08-27T15:21:25.789Z"
   },
   {
    "duration": 11,
    "start_time": "2024-08-27T15:21:26.638Z"
   },
   {
    "duration": 11,
    "start_time": "2024-08-27T15:21:26.650Z"
   },
   {
    "duration": 13,
    "start_time": "2024-08-27T15:21:26.662Z"
   },
   {
    "duration": 9,
    "start_time": "2024-08-27T15:21:26.676Z"
   },
   {
    "duration": 45,
    "start_time": "2024-08-27T15:21:26.687Z"
   },
   {
    "duration": 311,
    "start_time": "2024-08-27T15:21:26.734Z"
   },
   {
    "duration": 8,
    "start_time": "2024-08-27T15:21:27.046Z"
   },
   {
    "duration": 15,
    "start_time": "2024-08-27T15:21:27.056Z"
   },
   {
    "duration": 363,
    "start_time": "2024-08-27T15:21:27.072Z"
   },
   {
    "duration": 7,
    "start_time": "2024-08-27T15:21:27.436Z"
   },
   {
    "duration": 19,
    "start_time": "2024-08-27T15:21:27.446Z"
   },
   {
    "duration": 311,
    "start_time": "2024-08-27T15:21:27.467Z"
   },
   {
    "duration": 4,
    "start_time": "2024-08-27T15:21:27.780Z"
   },
   {
    "duration": 743,
    "start_time": "2024-08-27T15:21:27.785Z"
   },
   {
    "duration": 9,
    "start_time": "2024-08-27T15:21:28.530Z"
   },
   {
    "duration": 5,
    "start_time": "2024-08-27T15:21:28.540Z"
   },
   {
    "duration": 3,
    "start_time": "2024-08-27T15:21:28.546Z"
   },
   {
    "duration": 6,
    "start_time": "2024-08-27T15:21:28.551Z"
   },
   {
    "duration": 6,
    "start_time": "2024-08-27T15:21:28.559Z"
   },
   {
    "duration": 7,
    "start_time": "2024-08-27T15:21:28.567Z"
   },
   {
    "duration": 7,
    "start_time": "2024-08-27T15:21:28.575Z"
   },
   {
    "duration": 43,
    "start_time": "2024-08-27T15:21:28.584Z"
   },
   {
    "duration": 162,
    "start_time": "2024-08-27T15:21:28.629Z"
   },
   {
    "duration": 0,
    "start_time": "2024-08-27T15:21:28.792Z"
   },
   {
    "duration": 4,
    "start_time": "2024-08-27T15:22:00.646Z"
   },
   {
    "duration": 8,
    "start_time": "2024-08-27T15:22:03.395Z"
   },
   {
    "duration": 6,
    "start_time": "2024-08-27T15:22:04.295Z"
   },
   {
    "duration": 34,
    "start_time": "2024-08-27T15:22:05.914Z"
   },
   {
    "duration": 5,
    "start_time": "2024-08-27T15:25:18.777Z"
   },
   {
    "duration": 8,
    "start_time": "2024-08-27T15:25:21.513Z"
   },
   {
    "duration": 6,
    "start_time": "2024-08-27T15:25:22.387Z"
   },
   {
    "duration": 182,
    "start_time": "2024-08-27T15:25:24.294Z"
   },
   {
    "duration": 73,
    "start_time": "2024-08-27T15:26:36.889Z"
   },
   {
    "duration": 5,
    "start_time": "2024-08-27T15:26:52.748Z"
   },
   {
    "duration": 9,
    "start_time": "2024-08-27T15:26:55.335Z"
   },
   {
    "duration": 6,
    "start_time": "2024-08-27T15:26:56.496Z"
   },
   {
    "duration": 39,
    "start_time": "2024-08-27T15:26:58.029Z"
   },
   {
    "duration": 4,
    "start_time": "2024-08-27T15:27:37.053Z"
   },
   {
    "duration": 8,
    "start_time": "2024-08-27T15:27:39.202Z"
   },
   {
    "duration": 6,
    "start_time": "2024-08-27T15:27:40.270Z"
   },
   {
    "duration": 9290,
    "start_time": "2024-08-27T15:27:41.845Z"
   },
   {
    "duration": 4,
    "start_time": "2024-08-27T15:33:45.486Z"
   },
   {
    "duration": 3267,
    "start_time": "2024-08-28T17:51:40.872Z"
   },
   {
    "duration": 1617,
    "start_time": "2024-08-28T17:51:44.141Z"
   },
   {
    "duration": 1901,
    "start_time": "2024-08-28T17:51:45.759Z"
   },
   {
    "duration": 13,
    "start_time": "2024-08-28T17:51:47.663Z"
   },
   {
    "duration": 9,
    "start_time": "2024-08-28T17:51:47.678Z"
   },
   {
    "duration": 9,
    "start_time": "2024-08-28T17:51:47.689Z"
   },
   {
    "duration": 38,
    "start_time": "2024-08-28T17:51:47.700Z"
   },
   {
    "duration": 17,
    "start_time": "2024-08-28T17:51:47.740Z"
   },
   {
    "duration": 17,
    "start_time": "2024-08-28T17:51:47.759Z"
   },
   {
    "duration": 164,
    "start_time": "2024-08-28T17:51:47.779Z"
   },
   {
    "duration": 43,
    "start_time": "2024-08-28T17:51:47.944Z"
   },
   {
    "duration": 55,
    "start_time": "2024-08-28T17:51:47.989Z"
   },
   {
    "duration": 39,
    "start_time": "2024-08-28T17:51:48.045Z"
   },
   {
    "duration": 57,
    "start_time": "2024-08-28T17:51:48.087Z"
   },
   {
    "duration": 8,
    "start_time": "2024-08-28T17:51:48.146Z"
   },
   {
    "duration": 687,
    "start_time": "2024-08-28T17:51:48.156Z"
   },
   {
    "duration": 848,
    "start_time": "2024-08-28T17:51:48.844Z"
   },
   {
    "duration": 11,
    "start_time": "2024-08-28T17:51:49.695Z"
   },
   {
    "duration": 26,
    "start_time": "2024-08-28T17:51:49.708Z"
   },
   {
    "duration": 12,
    "start_time": "2024-08-28T17:51:49.736Z"
   },
   {
    "duration": 9,
    "start_time": "2024-08-28T17:51:49.749Z"
   },
   {
    "duration": 16,
    "start_time": "2024-08-28T17:51:49.759Z"
   },
   {
    "duration": 414,
    "start_time": "2024-08-28T17:51:49.777Z"
   },
   {
    "duration": 9,
    "start_time": "2024-08-28T17:51:50.194Z"
   },
   {
    "duration": 34,
    "start_time": "2024-08-28T17:51:50.206Z"
   },
   {
    "duration": 316,
    "start_time": "2024-08-28T17:51:50.242Z"
   },
   {
    "duration": 7,
    "start_time": "2024-08-28T17:51:50.560Z"
   },
   {
    "duration": 18,
    "start_time": "2024-08-28T17:51:50.570Z"
   },
   {
    "duration": 355,
    "start_time": "2024-08-28T17:51:50.589Z"
   },
   {
    "duration": 4,
    "start_time": "2024-08-28T17:51:50.946Z"
   },
   {
    "duration": 674,
    "start_time": "2024-08-28T17:51:50.951Z"
   },
   {
    "duration": 8,
    "start_time": "2024-08-28T17:51:51.627Z"
   },
   {
    "duration": 7,
    "start_time": "2024-08-28T17:51:51.637Z"
   },
   {
    "duration": 4,
    "start_time": "2024-08-28T17:51:51.646Z"
   },
   {
    "duration": 6,
    "start_time": "2024-08-28T17:51:51.652Z"
   },
   {
    "duration": 5,
    "start_time": "2024-08-28T17:51:51.660Z"
   },
   {
    "duration": 4,
    "start_time": "2024-08-28T17:51:51.667Z"
   },
   {
    "duration": 10,
    "start_time": "2024-08-28T17:51:51.672Z"
   },
   {
    "duration": 44,
    "start_time": "2024-08-28T17:51:51.683Z"
   },
   {
    "duration": 155,
    "start_time": "2024-08-28T17:51:51.729Z"
   },
   {
    "duration": 0,
    "start_time": "2024-08-28T17:51:51.885Z"
   },
   {
    "duration": 2349,
    "start_time": "2024-08-28T18:00:50.765Z"
   },
   {
    "duration": 1397,
    "start_time": "2024-08-28T18:00:53.116Z"
   },
   {
    "duration": 500,
    "start_time": "2024-08-28T18:00:54.515Z"
   },
   {
    "duration": 12,
    "start_time": "2024-08-28T18:00:55.017Z"
   },
   {
    "duration": 65,
    "start_time": "2024-08-28T18:00:55.031Z"
   },
   {
    "duration": 15,
    "start_time": "2024-08-28T18:00:55.098Z"
   },
   {
    "duration": 16,
    "start_time": "2024-08-28T18:00:55.114Z"
   },
   {
    "duration": 15,
    "start_time": "2024-08-28T18:00:55.131Z"
   },
   {
    "duration": 90,
    "start_time": "2024-08-28T18:00:55.148Z"
   },
   {
    "duration": 142,
    "start_time": "2024-08-28T18:00:55.241Z"
   },
   {
    "duration": 53,
    "start_time": "2024-08-28T18:00:55.385Z"
   },
   {
    "duration": 39,
    "start_time": "2024-08-28T18:00:55.439Z"
   },
   {
    "duration": 46,
    "start_time": "2024-08-28T18:00:55.480Z"
   },
   {
    "duration": 34,
    "start_time": "2024-08-28T18:00:55.527Z"
   },
   {
    "duration": 7,
    "start_time": "2024-08-28T18:00:55.562Z"
   },
   {
    "duration": 687,
    "start_time": "2024-08-28T18:00:55.570Z"
   },
   {
    "duration": 840,
    "start_time": "2024-08-28T18:00:56.259Z"
   },
   {
    "duration": 9,
    "start_time": "2024-08-28T18:00:57.101Z"
   },
   {
    "duration": 10,
    "start_time": "2024-08-28T18:00:57.125Z"
   },
   {
    "duration": 84,
    "start_time": "2024-08-28T18:00:57.136Z"
   },
   {
    "duration": 18,
    "start_time": "2024-08-28T18:00:57.221Z"
   },
   {
    "duration": 14,
    "start_time": "2024-08-28T18:00:57.240Z"
   },
   {
    "duration": 300,
    "start_time": "2024-08-28T18:00:57.256Z"
   },
   {
    "duration": 7,
    "start_time": "2024-08-28T18:00:57.558Z"
   },
   {
    "duration": 14,
    "start_time": "2024-08-28T18:00:57.567Z"
   },
   {
    "duration": 346,
    "start_time": "2024-08-28T18:00:57.583Z"
   },
   {
    "duration": 7,
    "start_time": "2024-08-28T18:00:57.930Z"
   },
   {
    "duration": 23,
    "start_time": "2024-08-28T18:00:57.940Z"
   },
   {
    "duration": 316,
    "start_time": "2024-08-28T18:00:57.964Z"
   },
   {
    "duration": 3,
    "start_time": "2024-08-28T18:00:58.281Z"
   },
   {
    "duration": 742,
    "start_time": "2024-08-28T18:00:58.286Z"
   },
   {
    "duration": 8,
    "start_time": "2024-08-28T18:00:59.030Z"
   },
   {
    "duration": 51,
    "start_time": "2024-08-28T18:00:59.040Z"
   },
   {
    "duration": 5,
    "start_time": "2024-08-28T18:00:59.093Z"
   },
   {
    "duration": 13,
    "start_time": "2024-08-28T18:00:59.099Z"
   },
   {
    "duration": 3,
    "start_time": "2024-08-28T18:00:59.114Z"
   },
   {
    "duration": 5,
    "start_time": "2024-08-28T18:00:59.119Z"
   },
   {
    "duration": 7,
    "start_time": "2024-08-28T18:00:59.125Z"
   },
   {
    "duration": 90,
    "start_time": "2024-08-28T18:00:59.134Z"
   },
   {
    "duration": 153,
    "start_time": "2024-08-28T18:00:59.226Z"
   },
   {
    "duration": 0,
    "start_time": "2024-08-28T18:00:59.381Z"
   },
   {
    "duration": 5,
    "start_time": "2024-08-28T18:01:14.575Z"
   },
   {
    "duration": 7,
    "start_time": "2024-08-28T18:01:19.214Z"
   },
   {
    "duration": 6,
    "start_time": "2024-08-28T18:01:20.809Z"
   },
   {
    "duration": 39,
    "start_time": "2024-08-28T18:01:24.205Z"
   },
   {
    "duration": 2401,
    "start_time": "2024-08-28T18:04:14.337Z"
   },
   {
    "duration": 1392,
    "start_time": "2024-08-28T18:04:16.740Z"
   },
   {
    "duration": 493,
    "start_time": "2024-08-28T18:04:18.134Z"
   },
   {
    "duration": 13,
    "start_time": "2024-08-28T18:04:18.629Z"
   },
   {
    "duration": 8,
    "start_time": "2024-08-28T18:04:18.643Z"
   },
   {
    "duration": 8,
    "start_time": "2024-08-28T18:04:18.652Z"
   },
   {
    "duration": 16,
    "start_time": "2024-08-28T18:04:18.662Z"
   },
   {
    "duration": 14,
    "start_time": "2024-08-28T18:04:18.680Z"
   },
   {
    "duration": 14,
    "start_time": "2024-08-28T18:04:18.725Z"
   },
   {
    "duration": 137,
    "start_time": "2024-08-28T18:04:18.742Z"
   },
   {
    "duration": 50,
    "start_time": "2024-08-28T18:04:18.881Z"
   },
   {
    "duration": 34,
    "start_time": "2024-08-28T18:04:18.933Z"
   },
   {
    "duration": 33,
    "start_time": "2024-08-28T18:04:18.969Z"
   },
   {
    "duration": 49,
    "start_time": "2024-08-28T18:04:19.003Z"
   },
   {
    "duration": 6,
    "start_time": "2024-08-28T18:04:19.054Z"
   },
   {
    "duration": 693,
    "start_time": "2024-08-28T18:04:19.061Z"
   },
   {
    "duration": 859,
    "start_time": "2024-08-28T18:04:19.756Z"
   },
   {
    "duration": 16,
    "start_time": "2024-08-28T18:04:20.616Z"
   },
   {
    "duration": 10,
    "start_time": "2024-08-28T18:04:20.634Z"
   },
   {
    "duration": 11,
    "start_time": "2024-08-28T18:04:20.646Z"
   },
   {
    "duration": 8,
    "start_time": "2024-08-28T18:04:20.659Z"
   },
   {
    "duration": 16,
    "start_time": "2024-08-28T18:04:20.669Z"
   },
   {
    "duration": 361,
    "start_time": "2024-08-28T18:04:20.687Z"
   },
   {
    "duration": 8,
    "start_time": "2024-08-28T18:04:21.049Z"
   },
   {
    "duration": 16,
    "start_time": "2024-08-28T18:04:21.058Z"
   },
   {
    "duration": 352,
    "start_time": "2024-08-28T18:04:21.076Z"
   },
   {
    "duration": 7,
    "start_time": "2024-08-28T18:04:21.429Z"
   },
   {
    "duration": 15,
    "start_time": "2024-08-28T18:04:21.439Z"
   },
   {
    "duration": 300,
    "start_time": "2024-08-28T18:04:21.456Z"
   },
   {
    "duration": 3,
    "start_time": "2024-08-28T18:04:21.758Z"
   },
   {
    "duration": 768,
    "start_time": "2024-08-28T18:04:21.762Z"
   },
   {
    "duration": 8,
    "start_time": "2024-08-28T18:04:22.532Z"
   },
   {
    "duration": 4,
    "start_time": "2024-08-28T18:04:22.542Z"
   },
   {
    "duration": 7,
    "start_time": "2024-08-28T18:04:22.548Z"
   },
   {
    "duration": 8,
    "start_time": "2024-08-28T18:04:22.556Z"
   },
   {
    "duration": 22,
    "start_time": "2024-08-28T18:04:22.565Z"
   },
   {
    "duration": 10,
    "start_time": "2024-08-28T18:04:22.589Z"
   },
   {
    "duration": 22,
    "start_time": "2024-08-28T18:04:22.601Z"
   },
   {
    "duration": 6,
    "start_time": "2024-08-28T18:04:22.625Z"
   },
   {
    "duration": 406,
    "start_time": "2024-08-28T18:04:22.632Z"
   },
   {
    "duration": 0,
    "start_time": "2024-08-28T18:04:23.039Z"
   },
   {
    "duration": 11,
    "start_time": "2024-08-28T18:07:49.528Z"
   },
   {
    "duration": 14,
    "start_time": "2024-08-28T18:08:10.046Z"
   },
   {
    "duration": 11,
    "start_time": "2024-08-28T18:08:20.662Z"
   },
   {
    "duration": 8,
    "start_time": "2024-08-28T18:09:43.489Z"
   },
   {
    "duration": 7,
    "start_time": "2024-08-28T18:09:56.829Z"
   },
   {
    "duration": 8,
    "start_time": "2024-08-28T18:10:09.108Z"
   },
   {
    "duration": 4,
    "start_time": "2024-08-28T18:10:11.490Z"
   },
   {
    "duration": 7,
    "start_time": "2024-08-28T18:10:13.388Z"
   },
   {
    "duration": 7,
    "start_time": "2024-08-28T18:10:14.665Z"
   },
   {
    "duration": 12,
    "start_time": "2024-08-28T18:10:16.786Z"
   },
   {
    "duration": 8,
    "start_time": "2024-08-28T18:10:49.769Z"
   },
   {
    "duration": 8,
    "start_time": "2024-08-28T18:10:54.277Z"
   },
   {
    "duration": 4,
    "start_time": "2024-08-28T18:11:27.190Z"
   },
   {
    "duration": 2379,
    "start_time": "2024-08-28T18:12:06.960Z"
   },
   {
    "duration": 1485,
    "start_time": "2024-08-28T18:12:09.341Z"
   },
   {
    "duration": 498,
    "start_time": "2024-08-28T18:12:10.828Z"
   },
   {
    "duration": 12,
    "start_time": "2024-08-28T18:12:11.328Z"
   },
   {
    "duration": 10,
    "start_time": "2024-08-28T18:12:11.342Z"
   },
   {
    "duration": 8,
    "start_time": "2024-08-28T18:12:11.354Z"
   },
   {
    "duration": 18,
    "start_time": "2024-08-28T18:12:11.364Z"
   },
   {
    "duration": 42,
    "start_time": "2024-08-28T18:12:11.384Z"
   },
   {
    "duration": 15,
    "start_time": "2024-08-28T18:12:11.428Z"
   },
   {
    "duration": 136,
    "start_time": "2024-08-28T18:12:11.445Z"
   },
   {
    "duration": 54,
    "start_time": "2024-08-28T18:12:11.583Z"
   },
   {
    "duration": 38,
    "start_time": "2024-08-28T18:12:11.638Z"
   },
   {
    "duration": 51,
    "start_time": "2024-08-28T18:12:11.677Z"
   },
   {
    "duration": 33,
    "start_time": "2024-08-28T18:12:11.730Z"
   },
   {
    "duration": 6,
    "start_time": "2024-08-28T18:12:11.765Z"
   },
   {
    "duration": 680,
    "start_time": "2024-08-28T18:12:11.772Z"
   },
   {
    "duration": 840,
    "start_time": "2024-08-28T18:12:12.454Z"
   },
   {
    "duration": 11,
    "start_time": "2024-08-28T18:12:13.296Z"
   },
   {
    "duration": 23,
    "start_time": "2024-08-28T18:12:13.308Z"
   },
   {
    "duration": 12,
    "start_time": "2024-08-28T18:12:13.332Z"
   },
   {
    "duration": 9,
    "start_time": "2024-08-28T18:12:13.346Z"
   },
   {
    "duration": 17,
    "start_time": "2024-08-28T18:12:13.357Z"
   },
   {
    "duration": 382,
    "start_time": "2024-08-28T18:12:13.376Z"
   },
   {
    "duration": 7,
    "start_time": "2024-08-28T18:12:13.760Z"
   },
   {
    "duration": 35,
    "start_time": "2024-08-28T18:12:13.769Z"
   },
   {
    "duration": 328,
    "start_time": "2024-08-28T18:12:13.805Z"
   },
   {
    "duration": 6,
    "start_time": "2024-08-28T18:12:14.135Z"
   },
   {
    "duration": 16,
    "start_time": "2024-08-28T18:12:14.144Z"
   },
   {
    "duration": 301,
    "start_time": "2024-08-28T18:12:14.161Z"
   },
   {
    "duration": 3,
    "start_time": "2024-08-28T18:12:14.463Z"
   },
   {
    "duration": 761,
    "start_time": "2024-08-28T18:12:14.468Z"
   },
   {
    "duration": 9,
    "start_time": "2024-08-28T18:12:15.231Z"
   },
   {
    "duration": 37,
    "start_time": "2024-08-28T18:12:15.241Z"
   },
   {
    "duration": 6,
    "start_time": "2024-08-28T18:12:15.279Z"
   },
   {
    "duration": 17,
    "start_time": "2024-08-28T18:12:15.287Z"
   },
   {
    "duration": 6,
    "start_time": "2024-08-28T18:12:15.306Z"
   },
   {
    "duration": 21,
    "start_time": "2024-08-28T18:12:15.313Z"
   },
   {
    "duration": 5,
    "start_time": "2024-08-28T18:12:15.335Z"
   },
   {
    "duration": 23,
    "start_time": "2024-08-28T18:12:15.342Z"
   },
   {
    "duration": 10,
    "start_time": "2024-08-28T18:12:15.366Z"
   },
   {
    "duration": 141,
    "start_time": "2024-08-28T18:12:15.378Z"
   },
   {
    "duration": 0,
    "start_time": "2024-08-28T18:12:15.525Z"
   },
   {
    "duration": 2465,
    "start_time": "2024-08-28T18:20:18.291Z"
   },
   {
    "duration": 1402,
    "start_time": "2024-08-28T18:20:20.759Z"
   },
   {
    "duration": 630,
    "start_time": "2024-08-28T18:20:22.163Z"
   },
   {
    "duration": 12,
    "start_time": "2024-08-28T18:20:22.795Z"
   },
   {
    "duration": 20,
    "start_time": "2024-08-28T18:20:22.809Z"
   },
   {
    "duration": 15,
    "start_time": "2024-08-28T18:20:22.831Z"
   },
   {
    "duration": 20,
    "start_time": "2024-08-28T18:20:22.848Z"
   },
   {
    "duration": 13,
    "start_time": "2024-08-28T18:20:22.870Z"
   },
   {
    "duration": 31,
    "start_time": "2024-08-28T18:20:22.885Z"
   },
   {
    "duration": 124,
    "start_time": "2024-08-28T18:20:22.919Z"
   },
   {
    "duration": 43,
    "start_time": "2024-08-28T18:20:23.045Z"
   },
   {
    "duration": 60,
    "start_time": "2024-08-28T18:20:23.089Z"
   },
   {
    "duration": 42,
    "start_time": "2024-08-28T18:20:23.151Z"
   },
   {
    "duration": 37,
    "start_time": "2024-08-28T18:20:23.195Z"
   },
   {
    "duration": 58,
    "start_time": "2024-08-28T18:20:23.234Z"
   },
   {
    "duration": 645,
    "start_time": "2024-08-28T18:20:23.294Z"
   },
   {
    "duration": 817,
    "start_time": "2024-08-28T18:20:23.940Z"
   },
   {
    "duration": 10,
    "start_time": "2024-08-28T18:20:24.759Z"
   },
   {
    "duration": 10,
    "start_time": "2024-08-28T18:20:24.771Z"
   },
   {
    "duration": 12,
    "start_time": "2024-08-28T18:20:24.782Z"
   },
   {
    "duration": 33,
    "start_time": "2024-08-28T18:20:24.796Z"
   },
   {
    "duration": 16,
    "start_time": "2024-08-28T18:20:24.831Z"
   },
   {
    "duration": 313,
    "start_time": "2024-08-28T18:20:24.848Z"
   },
   {
    "duration": 9,
    "start_time": "2024-08-28T18:20:25.162Z"
   },
   {
    "duration": 16,
    "start_time": "2024-08-28T18:20:25.172Z"
   },
   {
    "duration": 354,
    "start_time": "2024-08-28T18:20:25.190Z"
   },
   {
    "duration": 7,
    "start_time": "2024-08-28T18:20:25.545Z"
   },
   {
    "duration": 14,
    "start_time": "2024-08-28T18:20:25.555Z"
   },
   {
    "duration": 360,
    "start_time": "2024-08-28T18:20:25.571Z"
   },
   {
    "duration": 3,
    "start_time": "2024-08-28T18:20:25.933Z"
   },
   {
    "duration": 588,
    "start_time": "2024-08-28T18:20:25.938Z"
   },
   {
    "duration": 99,
    "start_time": "2024-08-28T18:20:26.528Z"
   },
   {
    "duration": 7,
    "start_time": "2024-08-28T18:20:26.629Z"
   },
   {
    "duration": 3,
    "start_time": "2024-08-28T18:20:26.637Z"
   },
   {
    "duration": 8,
    "start_time": "2024-08-28T18:20:26.641Z"
   },
   {
    "duration": 34,
    "start_time": "2024-08-28T18:20:26.650Z"
   },
   {
    "duration": 15,
    "start_time": "2024-08-28T18:20:26.686Z"
   },
   {
    "duration": 74,
    "start_time": "2024-08-28T18:20:26.703Z"
   },
   {
    "duration": 0,
    "start_time": "2024-08-28T18:20:26.778Z"
   },
   {
    "duration": 0,
    "start_time": "2024-08-28T18:20:26.779Z"
   },
   {
    "duration": 0,
    "start_time": "2024-08-28T18:20:26.781Z"
   },
   {
    "duration": 0,
    "start_time": "2024-08-28T18:20:26.782Z"
   },
   {
    "duration": 2429,
    "start_time": "2024-08-28T18:21:12.947Z"
   },
   {
    "duration": 1354,
    "start_time": "2024-08-28T18:21:15.380Z"
   },
   {
    "duration": 506,
    "start_time": "2024-08-28T18:21:16.735Z"
   },
   {
    "duration": 13,
    "start_time": "2024-08-28T18:21:17.242Z"
   },
   {
    "duration": 38,
    "start_time": "2024-08-28T18:21:17.257Z"
   },
   {
    "duration": 9,
    "start_time": "2024-08-28T18:21:17.296Z"
   },
   {
    "duration": 15,
    "start_time": "2024-08-28T18:21:17.306Z"
   },
   {
    "duration": 13,
    "start_time": "2024-08-28T18:21:17.323Z"
   },
   {
    "duration": 14,
    "start_time": "2024-08-28T18:21:17.337Z"
   },
   {
    "duration": 130,
    "start_time": "2024-08-28T18:21:17.352Z"
   },
   {
    "duration": 52,
    "start_time": "2024-08-28T18:21:17.484Z"
   },
   {
    "duration": 37,
    "start_time": "2024-08-28T18:21:17.538Z"
   },
   {
    "duration": 55,
    "start_time": "2024-08-28T18:21:17.577Z"
   },
   {
    "duration": 33,
    "start_time": "2024-08-28T18:21:17.635Z"
   },
   {
    "duration": 6,
    "start_time": "2024-08-28T18:21:17.670Z"
   },
   {
    "duration": 665,
    "start_time": "2024-08-28T18:21:17.678Z"
   },
   {
    "duration": 832,
    "start_time": "2024-08-28T18:21:18.345Z"
   },
   {
    "duration": 10,
    "start_time": "2024-08-28T18:21:19.178Z"
   },
   {
    "duration": 10,
    "start_time": "2024-08-28T18:21:19.190Z"
   },
   {
    "duration": 96,
    "start_time": "2024-08-28T18:21:19.201Z"
   },
   {
    "duration": 8,
    "start_time": "2024-08-28T18:21:19.298Z"
   },
   {
    "duration": 14,
    "start_time": "2024-08-28T18:21:19.308Z"
   },
   {
    "duration": 338,
    "start_time": "2024-08-28T18:21:19.323Z"
   },
   {
    "duration": 9,
    "start_time": "2024-08-28T18:21:19.663Z"
   },
   {
    "duration": 21,
    "start_time": "2024-08-28T18:21:19.673Z"
   },
   {
    "duration": 334,
    "start_time": "2024-08-28T18:21:19.695Z"
   },
   {
    "duration": 7,
    "start_time": "2024-08-28T18:21:20.030Z"
   },
   {
    "duration": 13,
    "start_time": "2024-08-28T18:21:20.038Z"
   },
   {
    "duration": 317,
    "start_time": "2024-08-28T18:21:20.053Z"
   },
   {
    "duration": 4,
    "start_time": "2024-08-28T18:21:20.371Z"
   },
   {
    "duration": 753,
    "start_time": "2024-08-28T18:21:20.376Z"
   },
   {
    "duration": 8,
    "start_time": "2024-08-28T18:21:21.130Z"
   },
   {
    "duration": 42,
    "start_time": "2024-08-28T18:21:21.139Z"
   },
   {
    "duration": 105,
    "start_time": "2024-08-28T18:21:21.182Z"
   },
   {
    "duration": 7,
    "start_time": "2024-08-28T18:21:21.288Z"
   },
   {
    "duration": 5,
    "start_time": "2024-08-28T18:21:21.296Z"
   },
   {
    "duration": 14,
    "start_time": "2024-08-28T18:21:21.302Z"
   },
   {
    "duration": 68,
    "start_time": "2024-08-28T18:21:21.318Z"
   },
   {
    "duration": 0,
    "start_time": "2024-08-28T18:21:21.388Z"
   },
   {
    "duration": 0,
    "start_time": "2024-08-28T18:21:21.389Z"
   },
   {
    "duration": 0,
    "start_time": "2024-08-28T18:21:21.390Z"
   },
   {
    "duration": 0,
    "start_time": "2024-08-28T18:21:21.391Z"
   },
   {
    "duration": 78,
    "start_time": "2024-08-28T18:22:16.950Z"
   },
   {
    "duration": 4,
    "start_time": "2024-08-28T18:22:26.913Z"
   },
   {
    "duration": 968,
    "start_time": "2024-08-28T18:22:34.031Z"
   },
   {
    "duration": 2387,
    "start_time": "2024-08-28T18:25:32.915Z"
   },
   {
    "duration": 1418,
    "start_time": "2024-08-28T18:25:35.304Z"
   },
   {
    "duration": 485,
    "start_time": "2024-08-28T18:25:36.723Z"
   },
   {
    "duration": 12,
    "start_time": "2024-08-28T18:25:37.210Z"
   },
   {
    "duration": 16,
    "start_time": "2024-08-28T18:25:37.225Z"
   },
   {
    "duration": 15,
    "start_time": "2024-08-28T18:25:37.242Z"
   },
   {
    "duration": 60,
    "start_time": "2024-08-28T18:25:37.258Z"
   },
   {
    "duration": 14,
    "start_time": "2024-08-28T18:25:37.319Z"
   },
   {
    "duration": 14,
    "start_time": "2024-08-28T18:25:37.334Z"
   },
   {
    "duration": 135,
    "start_time": "2024-08-28T18:25:37.351Z"
   },
   {
    "duration": 47,
    "start_time": "2024-08-28T18:25:37.488Z"
   },
   {
    "duration": 36,
    "start_time": "2024-08-28T18:25:37.536Z"
   },
   {
    "duration": 55,
    "start_time": "2024-08-28T18:25:37.573Z"
   },
   {
    "duration": 33,
    "start_time": "2024-08-28T18:25:37.630Z"
   },
   {
    "duration": 6,
    "start_time": "2024-08-28T18:25:37.665Z"
   },
   {
    "duration": 692,
    "start_time": "2024-08-28T18:25:37.673Z"
   },
   {
    "duration": 838,
    "start_time": "2024-08-28T18:25:38.367Z"
   },
   {
    "duration": 23,
    "start_time": "2024-08-28T18:25:39.206Z"
   },
   {
    "duration": 59,
    "start_time": "2024-08-28T18:25:39.230Z"
   },
   {
    "duration": 24,
    "start_time": "2024-08-28T18:25:39.290Z"
   },
   {
    "duration": 9,
    "start_time": "2024-08-28T18:25:39.315Z"
   },
   {
    "duration": 16,
    "start_time": "2024-08-28T18:25:39.326Z"
   },
   {
    "duration": 323,
    "start_time": "2024-08-28T18:25:39.343Z"
   },
   {
    "duration": 9,
    "start_time": "2024-08-28T18:25:39.667Z"
   },
   {
    "duration": 23,
    "start_time": "2024-08-28T18:25:39.677Z"
   },
   {
    "duration": 333,
    "start_time": "2024-08-28T18:25:39.702Z"
   },
   {
    "duration": 7,
    "start_time": "2024-08-28T18:25:40.036Z"
   },
   {
    "duration": 16,
    "start_time": "2024-08-28T18:25:40.046Z"
   },
   {
    "duration": 321,
    "start_time": "2024-08-28T18:25:40.063Z"
   },
   {
    "duration": 3,
    "start_time": "2024-08-28T18:25:40.386Z"
   },
   {
    "duration": 739,
    "start_time": "2024-08-28T18:25:40.391Z"
   },
   {
    "duration": 7,
    "start_time": "2024-08-28T18:25:41.132Z"
   },
   {
    "duration": 64,
    "start_time": "2024-08-28T18:25:41.141Z"
   },
   {
    "duration": 101,
    "start_time": "2024-08-28T18:25:41.206Z"
   },
   {
    "duration": 5,
    "start_time": "2024-08-28T18:25:41.309Z"
   },
   {
    "duration": 4,
    "start_time": "2024-08-28T18:25:41.315Z"
   },
   {
    "duration": 14,
    "start_time": "2024-08-28T18:25:41.321Z"
   },
   {
    "duration": 5,
    "start_time": "2024-08-28T18:25:41.337Z"
   },
   {
    "duration": 9,
    "start_time": "2024-08-28T18:25:41.343Z"
   },
   {
    "duration": 6,
    "start_time": "2024-08-28T18:25:41.354Z"
   },
   {
    "duration": 2886,
    "start_time": "2024-08-28T18:25:41.361Z"
   },
   {
    "duration": 4,
    "start_time": "2024-08-28T18:25:44.249Z"
   },
   {
    "duration": 2354,
    "start_time": "2024-08-28T18:34:20.909Z"
   },
   {
    "duration": 1356,
    "start_time": "2024-08-28T18:34:23.266Z"
   },
   {
    "duration": 485,
    "start_time": "2024-08-28T18:34:24.624Z"
   },
   {
    "duration": 19,
    "start_time": "2024-08-28T18:34:25.111Z"
   },
   {
    "duration": 9,
    "start_time": "2024-08-28T18:34:25.131Z"
   },
   {
    "duration": 9,
    "start_time": "2024-08-28T18:34:25.142Z"
   },
   {
    "duration": 17,
    "start_time": "2024-08-28T18:34:25.153Z"
   },
   {
    "duration": 52,
    "start_time": "2024-08-28T18:34:25.172Z"
   },
   {
    "duration": 16,
    "start_time": "2024-08-28T18:34:25.226Z"
   },
   {
    "duration": 209,
    "start_time": "2024-08-28T18:34:25.245Z"
   },
   {
    "duration": 40,
    "start_time": "2024-08-28T18:34:25.456Z"
   },
   {
    "duration": 54,
    "start_time": "2024-08-28T18:34:25.498Z"
   },
   {
    "duration": 33,
    "start_time": "2024-08-28T18:34:25.554Z"
   },
   {
    "duration": 49,
    "start_time": "2024-08-28T18:34:25.589Z"
   },
   {
    "duration": 6,
    "start_time": "2024-08-28T18:34:25.640Z"
   },
   {
    "duration": 649,
    "start_time": "2024-08-28T18:34:25.647Z"
   },
   {
    "duration": 799,
    "start_time": "2024-08-28T18:34:26.297Z"
   },
   {
    "duration": 11,
    "start_time": "2024-08-28T18:34:27.097Z"
   },
   {
    "duration": 22,
    "start_time": "2024-08-28T18:34:27.110Z"
   },
   {
    "duration": 12,
    "start_time": "2024-08-28T18:34:27.134Z"
   },
   {
    "duration": 9,
    "start_time": "2024-08-28T18:34:27.147Z"
   },
   {
    "duration": 14,
    "start_time": "2024-08-28T18:34:27.157Z"
   },
   {
    "duration": 360,
    "start_time": "2024-08-28T18:34:27.172Z"
   },
   {
    "duration": 8,
    "start_time": "2024-08-28T18:34:27.534Z"
   },
   {
    "duration": 21,
    "start_time": "2024-08-28T18:34:27.543Z"
   },
   {
    "duration": 291,
    "start_time": "2024-08-28T18:34:27.566Z"
   },
   {
    "duration": 6,
    "start_time": "2024-08-28T18:34:27.859Z"
   },
   {
    "duration": 13,
    "start_time": "2024-08-28T18:34:27.869Z"
   },
   {
    "duration": 348,
    "start_time": "2024-08-28T18:34:27.884Z"
   },
   {
    "duration": 2,
    "start_time": "2024-08-28T18:34:28.234Z"
   },
   {
    "duration": 691,
    "start_time": "2024-08-28T18:34:28.238Z"
   },
   {
    "duration": 7,
    "start_time": "2024-08-28T18:34:28.931Z"
   },
   {
    "duration": 6,
    "start_time": "2024-08-28T18:34:28.939Z"
   },
   {
    "duration": 2,
    "start_time": "2024-08-28T18:34:28.946Z"
   },
   {
    "duration": 17,
    "start_time": "2024-08-28T18:34:28.949Z"
   },
   {
    "duration": 9,
    "start_time": "2024-08-28T18:34:28.967Z"
   },
   {
    "duration": 15,
    "start_time": "2024-08-28T18:34:28.977Z"
   },
   {
    "duration": 4,
    "start_time": "2024-08-28T18:34:28.994Z"
   },
   {
    "duration": 32,
    "start_time": "2024-08-28T18:34:29.000Z"
   },
   {
    "duration": 7,
    "start_time": "2024-08-28T18:34:29.034Z"
   },
   {
    "duration": 157,
    "start_time": "2024-08-28T18:34:29.043Z"
   },
   {
    "duration": 0,
    "start_time": "2024-08-28T18:34:29.201Z"
   },
   {
    "duration": 2637,
    "start_time": "2024-08-28T18:41:29.640Z"
   },
   {
    "duration": 1458,
    "start_time": "2024-08-28T18:41:32.279Z"
   },
   {
    "duration": 506,
    "start_time": "2024-08-28T18:41:33.738Z"
   },
   {
    "duration": 12,
    "start_time": "2024-08-28T18:41:34.246Z"
   },
   {
    "duration": 13,
    "start_time": "2024-08-28T18:41:34.260Z"
   },
   {
    "duration": 11,
    "start_time": "2024-08-28T18:41:34.275Z"
   },
   {
    "duration": 19,
    "start_time": "2024-08-28T18:41:34.287Z"
   },
   {
    "duration": 34,
    "start_time": "2024-08-28T18:41:34.307Z"
   },
   {
    "duration": 15,
    "start_time": "2024-08-28T18:41:34.343Z"
   },
   {
    "duration": 145,
    "start_time": "2024-08-28T18:41:34.361Z"
   },
   {
    "duration": 58,
    "start_time": "2024-08-28T18:41:34.508Z"
   },
   {
    "duration": 35,
    "start_time": "2024-08-28T18:41:34.568Z"
   },
   {
    "duration": 61,
    "start_time": "2024-08-28T18:41:34.604Z"
   },
   {
    "duration": 34,
    "start_time": "2024-08-28T18:41:34.667Z"
   },
   {
    "duration": 25,
    "start_time": "2024-08-28T18:41:34.702Z"
   },
   {
    "duration": 728,
    "start_time": "2024-08-28T18:41:34.729Z"
   },
   {
    "duration": 905,
    "start_time": "2024-08-28T18:41:35.458Z"
   },
   {
    "duration": 10,
    "start_time": "2024-08-28T18:41:36.364Z"
   },
   {
    "duration": 10,
    "start_time": "2024-08-28T18:41:36.376Z"
   },
   {
    "duration": 45,
    "start_time": "2024-08-28T18:41:36.387Z"
   },
   {
    "duration": 10,
    "start_time": "2024-08-28T18:41:36.436Z"
   },
   {
    "duration": 16,
    "start_time": "2024-08-28T18:41:36.447Z"
   },
   {
    "duration": 309,
    "start_time": "2024-08-28T18:41:36.464Z"
   },
   {
    "duration": 7,
    "start_time": "2024-08-28T18:41:36.775Z"
   },
   {
    "duration": 15,
    "start_time": "2024-08-28T18:41:36.784Z"
   },
   {
    "duration": 349,
    "start_time": "2024-08-28T18:41:36.801Z"
   },
   {
    "duration": 6,
    "start_time": "2024-08-28T18:41:37.151Z"
   },
   {
    "duration": 18,
    "start_time": "2024-08-28T18:41:37.160Z"
   },
   {
    "duration": 360,
    "start_time": "2024-08-28T18:41:37.180Z"
   },
   {
    "duration": 3,
    "start_time": "2024-08-28T18:41:37.542Z"
   },
   {
    "duration": 591,
    "start_time": "2024-08-28T18:41:37.546Z"
   },
   {
    "duration": 97,
    "start_time": "2024-08-28T18:41:38.142Z"
   },
   {
    "duration": 5,
    "start_time": "2024-08-28T18:41:38.241Z"
   },
   {
    "duration": 6,
    "start_time": "2024-08-28T18:41:38.248Z"
   },
   {
    "duration": 4,
    "start_time": "2024-08-28T18:41:38.255Z"
   },
   {
    "duration": 4,
    "start_time": "2024-08-28T18:41:38.261Z"
   },
   {
    "duration": 15,
    "start_time": "2024-08-28T18:41:38.267Z"
   },
   {
    "duration": 5,
    "start_time": "2024-08-28T18:41:38.284Z"
   },
   {
    "duration": 45,
    "start_time": "2024-08-28T18:41:38.291Z"
   },
   {
    "duration": 6,
    "start_time": "2024-08-28T18:41:38.340Z"
   },
   {
    "duration": 4531,
    "start_time": "2024-08-28T18:41:38.348Z"
   },
   {
    "duration": 5,
    "start_time": "2024-08-28T18:41:42.881Z"
   },
   {
    "duration": 3,
    "start_time": "2024-08-28T18:45:19.979Z"
   },
   {
    "duration": 4,
    "start_time": "2024-08-28T18:45:46.769Z"
   },
   {
    "duration": 9,
    "start_time": "2024-08-28T18:45:53.606Z"
   },
   {
    "duration": 3489,
    "start_time": "2024-08-29T08:14:25.431Z"
   },
   {
    "duration": 1718,
    "start_time": "2024-08-29T08:14:28.922Z"
   },
   {
    "duration": 1055,
    "start_time": "2024-08-29T08:14:30.642Z"
   },
   {
    "duration": 13,
    "start_time": "2024-08-29T08:14:31.700Z"
   },
   {
    "duration": 18,
    "start_time": "2024-08-29T08:14:31.715Z"
   },
   {
    "duration": 18,
    "start_time": "2024-08-29T08:14:31.735Z"
   },
   {
    "duration": 26,
    "start_time": "2024-08-29T08:14:31.755Z"
   },
   {
    "duration": 15,
    "start_time": "2024-08-29T08:14:31.783Z"
   },
   {
    "duration": 22,
    "start_time": "2024-08-29T08:14:31.800Z"
   },
   {
    "duration": 150,
    "start_time": "2024-08-29T08:14:31.845Z"
   },
   {
    "duration": 56,
    "start_time": "2024-08-29T08:14:31.997Z"
   },
   {
    "duration": 39,
    "start_time": "2024-08-29T08:14:32.054Z"
   },
   {
    "duration": 57,
    "start_time": "2024-08-29T08:14:32.095Z"
   },
   {
    "duration": 91,
    "start_time": "2024-08-29T08:14:32.154Z"
   },
   {
    "duration": 23,
    "start_time": "2024-08-29T08:14:32.246Z"
   },
   {
    "duration": 705,
    "start_time": "2024-08-29T08:14:32.270Z"
   },
   {
    "duration": 945,
    "start_time": "2024-08-29T08:14:32.977Z"
   },
   {
    "duration": 22,
    "start_time": "2024-08-29T08:14:33.925Z"
   },
   {
    "duration": 12,
    "start_time": "2024-08-29T08:14:33.949Z"
   },
   {
    "duration": 14,
    "start_time": "2024-08-29T08:14:33.964Z"
   },
   {
    "duration": 10,
    "start_time": "2024-08-29T08:14:33.980Z"
   },
   {
    "duration": 23,
    "start_time": "2024-08-29T08:14:33.992Z"
   },
   {
    "duration": 390,
    "start_time": "2024-08-29T08:14:34.017Z"
   },
   {
    "duration": 9,
    "start_time": "2024-08-29T08:14:34.409Z"
   },
   {
    "duration": 55,
    "start_time": "2024-08-29T08:14:34.419Z"
   },
   {
    "duration": 487,
    "start_time": "2024-08-29T08:14:34.476Z"
   },
   {
    "duration": 9,
    "start_time": "2024-08-29T08:14:34.966Z"
   },
   {
    "duration": 20,
    "start_time": "2024-08-29T08:14:34.980Z"
   },
   {
    "duration": 385,
    "start_time": "2024-08-29T08:14:35.002Z"
   },
   {
    "duration": 4,
    "start_time": "2024-08-29T08:14:35.389Z"
   },
   {
    "duration": 560,
    "start_time": "2024-08-29T08:14:35.395Z"
   },
   {
    "duration": 93,
    "start_time": "2024-08-29T08:14:35.957Z"
   },
   {
    "duration": 21,
    "start_time": "2024-08-29T08:14:36.052Z"
   },
   {
    "duration": 2,
    "start_time": "2024-08-29T08:14:36.075Z"
   },
   {
    "duration": 27,
    "start_time": "2024-08-29T08:14:36.079Z"
   },
   {
    "duration": 13,
    "start_time": "2024-08-29T08:14:36.107Z"
   },
   {
    "duration": 44,
    "start_time": "2024-08-29T08:14:36.121Z"
   },
   {
    "duration": 9,
    "start_time": "2024-08-29T08:14:36.166Z"
   },
   {
    "duration": 18,
    "start_time": "2024-08-29T08:14:36.176Z"
   },
   {
    "duration": 45,
    "start_time": "2024-08-29T08:14:36.195Z"
   },
   {
    "duration": 3246,
    "start_time": "2024-08-29T08:14:36.241Z"
   },
   {
    "duration": 6,
    "start_time": "2024-08-29T08:14:39.488Z"
   },
   {
    "duration": 24,
    "start_time": "2024-08-29T08:14:39.496Z"
   },
   {
    "duration": 16,
    "start_time": "2024-08-29T08:15:31.547Z"
   },
   {
    "duration": 6,
    "start_time": "2024-08-29T08:16:13.356Z"
   },
   {
    "duration": 60,
    "start_time": "2024-08-31T06:57:42.864Z"
   },
   {
    "duration": 69,
    "start_time": "2024-08-31T06:57:50.246Z"
   },
   {
    "duration": 56,
    "start_time": "2024-08-31T06:58:18.578Z"
   },
   {
    "duration": 78,
    "start_time": "2024-08-31T06:58:56.862Z"
   },
   {
    "duration": 59,
    "start_time": "2024-08-31T06:59:50.316Z"
   },
   {
    "duration": 1204,
    "start_time": "2024-08-31T07:00:05.730Z"
   },
   {
    "duration": 1189,
    "start_time": "2024-08-31T07:00:27.340Z"
   },
   {
    "duration": 74,
    "start_time": "2024-08-31T07:00:52.347Z"
   },
   {
    "duration": 1125,
    "start_time": "2024-08-31T07:01:32.478Z"
   },
   {
    "duration": 1412,
    "start_time": "2024-08-31T07:02:35.368Z"
   },
   {
    "duration": 1621,
    "start_time": "2024-08-31T07:03:05.538Z"
   },
   {
    "duration": 8,
    "start_time": "2024-08-31T07:05:01.795Z"
   },
   {
    "duration": 1605,
    "start_time": "2024-08-31T07:06:48.736Z"
   },
   {
    "duration": 3097,
    "start_time": "2024-08-31T10:06:35.377Z"
   },
   {
    "duration": 5,
    "start_time": "2024-08-31T10:06:41.495Z"
   },
   {
    "duration": 14,
    "start_time": "2024-08-31T10:06:43.045Z"
   },
   {
    "duration": 52,
    "start_time": "2024-08-31T10:06:44.025Z"
   },
   {
    "duration": 3116,
    "start_time": "2024-08-31T10:07:29.899Z"
   },
   {
    "duration": 5,
    "start_time": "2024-08-31T10:07:33.017Z"
   },
   {
    "duration": 14,
    "start_time": "2024-08-31T10:07:33.024Z"
   },
   {
    "duration": 52,
    "start_time": "2024-08-31T10:08:04.245Z"
   },
   {
    "duration": 882,
    "start_time": "2024-08-31T10:08:25.873Z"
   },
   {
    "duration": 1000,
    "start_time": "2024-08-31T10:08:45.909Z"
   },
   {
    "duration": 983,
    "start_time": "2024-08-31T10:09:17.059Z"
   },
   {
    "duration": 1014,
    "start_time": "2024-08-31T10:11:07.275Z"
   },
   {
    "duration": 2489,
    "start_time": "2024-08-31T10:15:31.175Z"
   },
   {
    "duration": 1550,
    "start_time": "2024-08-31T10:15:33.667Z"
   },
   {
    "duration": 520,
    "start_time": "2024-08-31T10:15:35.219Z"
   },
   {
    "duration": 12,
    "start_time": "2024-08-31T10:15:35.742Z"
   },
   {
    "duration": 37,
    "start_time": "2024-08-31T10:15:35.756Z"
   },
   {
    "duration": 35,
    "start_time": "2024-08-31T10:15:35.794Z"
   },
   {
    "duration": 29,
    "start_time": "2024-08-31T10:15:35.831Z"
   },
   {
    "duration": 14,
    "start_time": "2024-08-31T10:15:35.862Z"
   },
   {
    "duration": 20,
    "start_time": "2024-08-31T10:15:35.878Z"
   },
   {
    "duration": 145,
    "start_time": "2024-08-31T10:15:35.901Z"
   },
   {
    "duration": 43,
    "start_time": "2024-08-31T10:15:36.048Z"
   },
   {
    "duration": 54,
    "start_time": "2024-08-31T10:15:36.093Z"
   },
   {
    "duration": 41,
    "start_time": "2024-08-31T10:15:36.148Z"
   },
   {
    "duration": 38,
    "start_time": "2024-08-31T10:15:36.191Z"
   },
   {
    "duration": 19,
    "start_time": "2024-08-31T10:15:36.231Z"
   },
   {
    "duration": 696,
    "start_time": "2024-08-31T10:15:36.252Z"
   },
   {
    "duration": 864,
    "start_time": "2024-08-31T10:15:36.950Z"
   },
   {
    "duration": 11,
    "start_time": "2024-08-31T10:15:37.815Z"
   },
   {
    "duration": 46,
    "start_time": "2024-08-31T10:15:37.828Z"
   },
   {
    "duration": 14,
    "start_time": "2024-08-31T10:15:37.875Z"
   },
   {
    "duration": 37,
    "start_time": "2024-08-31T10:15:37.891Z"
   },
   {
    "duration": 19,
    "start_time": "2024-08-31T10:15:37.930Z"
   },
   {
    "duration": 331,
    "start_time": "2024-08-31T10:15:37.951Z"
   },
   {
    "duration": 8,
    "start_time": "2024-08-31T10:15:38.283Z"
   },
   {
    "duration": 38,
    "start_time": "2024-08-31T10:15:38.293Z"
   },
   {
    "duration": 392,
    "start_time": "2024-08-31T10:15:38.332Z"
   },
   {
    "duration": 6,
    "start_time": "2024-08-31T10:15:38.726Z"
   },
   {
    "duration": 50,
    "start_time": "2024-08-31T10:15:38.745Z"
   },
   {
    "duration": 335,
    "start_time": "2024-08-31T10:15:38.796Z"
   },
   {
    "duration": 4,
    "start_time": "2024-08-31T10:15:39.132Z"
   },
   {
    "duration": 612,
    "start_time": "2024-08-31T10:15:39.137Z"
   },
   {
    "duration": 100,
    "start_time": "2024-08-31T10:15:39.752Z"
   },
   {
    "duration": 8,
    "start_time": "2024-08-31T10:15:39.853Z"
   },
   {
    "duration": 8,
    "start_time": "2024-08-31T10:15:39.862Z"
   },
   {
    "duration": 15,
    "start_time": "2024-08-31T10:15:39.872Z"
   },
   {
    "duration": 16,
    "start_time": "2024-08-31T10:15:39.888Z"
   },
   {
    "duration": 12,
    "start_time": "2024-08-31T10:15:39.905Z"
   },
   {
    "duration": 11,
    "start_time": "2024-08-31T10:15:39.918Z"
   },
   {
    "duration": 21,
    "start_time": "2024-08-31T10:15:39.930Z"
   },
   {
    "duration": 14,
    "start_time": "2024-08-31T10:15:39.952Z"
   },
   {
    "duration": 3833,
    "start_time": "2024-08-31T10:15:39.967Z"
   },
   {
    "duration": 5,
    "start_time": "2024-08-31T10:15:43.802Z"
   },
   {
    "duration": 975,
    "start_time": "2024-08-31T10:15:43.809Z"
   },
   {
    "duration": 48,
    "start_time": "2024-09-01T17:32:57.475Z"
   },
   {
    "duration": 2986,
    "start_time": "2024-09-01T17:33:28.786Z"
   },
   {
    "duration": 1504,
    "start_time": "2024-09-01T17:33:31.774Z"
   },
   {
    "duration": 1754,
    "start_time": "2024-09-01T17:33:33.280Z"
   },
   {
    "duration": 11,
    "start_time": "2024-09-01T17:33:35.035Z"
   },
   {
    "duration": 16,
    "start_time": "2024-09-01T17:33:35.048Z"
   },
   {
    "duration": 9,
    "start_time": "2024-09-01T17:33:35.066Z"
   },
   {
    "duration": 18,
    "start_time": "2024-09-01T17:33:35.076Z"
   },
   {
    "duration": 12,
    "start_time": "2024-09-01T17:33:35.095Z"
   },
   {
    "duration": 23,
    "start_time": "2024-09-01T17:33:35.108Z"
   },
   {
    "duration": 112,
    "start_time": "2024-09-01T17:33:35.133Z"
   },
   {
    "duration": 41,
    "start_time": "2024-09-01T17:33:35.246Z"
   },
   {
    "duration": 49,
    "start_time": "2024-09-01T17:33:35.288Z"
   },
   {
    "duration": 32,
    "start_time": "2024-09-01T17:33:35.339Z"
   },
   {
    "duration": 30,
    "start_time": "2024-09-01T17:33:35.372Z"
   },
   {
    "duration": 23,
    "start_time": "2024-09-01T17:33:35.404Z"
   },
   {
    "duration": 586,
    "start_time": "2024-09-01T17:33:35.428Z"
   },
   {
    "duration": 731,
    "start_time": "2024-09-01T17:33:36.016Z"
   },
   {
    "duration": 9,
    "start_time": "2024-09-01T17:33:36.748Z"
   },
   {
    "duration": 10,
    "start_time": "2024-09-01T17:33:36.758Z"
   },
   {
    "duration": 11,
    "start_time": "2024-09-01T17:33:36.769Z"
   },
   {
    "duration": 8,
    "start_time": "2024-09-01T17:33:36.781Z"
   },
   {
    "duration": 39,
    "start_time": "2024-09-01T17:33:36.791Z"
   },
   {
    "duration": 329,
    "start_time": "2024-09-01T17:33:36.831Z"
   },
   {
    "duration": 7,
    "start_time": "2024-09-01T17:33:37.162Z"
   },
   {
    "duration": 52,
    "start_time": "2024-09-01T17:33:37.170Z"
   },
   {
    "duration": 291,
    "start_time": "2024-09-01T17:33:37.224Z"
   },
   {
    "duration": 7,
    "start_time": "2024-09-01T17:33:37.525Z"
   },
   {
    "duration": 14,
    "start_time": "2024-09-01T17:33:37.535Z"
   },
   {
    "duration": 290,
    "start_time": "2024-09-01T17:33:37.551Z"
   },
   {
    "duration": 3,
    "start_time": "2024-09-01T17:33:37.843Z"
   },
   {
    "duration": 579,
    "start_time": "2024-09-01T17:33:37.847Z"
   },
   {
    "duration": 97,
    "start_time": "2024-09-01T17:33:38.429Z"
   },
   {
    "duration": 5,
    "start_time": "2024-09-01T17:33:38.528Z"
   },
   {
    "duration": 2,
    "start_time": "2024-09-01T17:33:38.534Z"
   },
   {
    "duration": 3,
    "start_time": "2024-09-01T17:33:38.538Z"
   },
   {
    "duration": 3,
    "start_time": "2024-09-01T17:33:38.542Z"
   },
   {
    "duration": 9,
    "start_time": "2024-09-01T17:33:38.547Z"
   },
   {
    "duration": 4,
    "start_time": "2024-09-01T17:33:38.557Z"
   },
   {
    "duration": 8,
    "start_time": "2024-09-01T17:33:38.563Z"
   },
   {
    "duration": 5,
    "start_time": "2024-09-01T17:33:38.573Z"
   },
   {
    "duration": 2723,
    "start_time": "2024-09-01T17:33:38.579Z"
   },
   {
    "duration": 4,
    "start_time": "2024-09-01T17:33:41.303Z"
   },
   {
    "duration": 881,
    "start_time": "2024-09-01T17:33:41.309Z"
   }
  ],
  "kernelspec": {
   "display_name": "Python 3 (ipykernel)",
   "language": "python",
   "name": "python3"
  },
  "language_info": {
   "codemirror_mode": {
    "name": "ipython",
    "version": 3
   },
   "file_extension": ".py",
   "mimetype": "text/x-python",
   "name": "python",
   "nbconvert_exporter": "python",
   "pygments_lexer": "ipython3",
   "version": "3.11.7"
  },
  "toc": {
   "base_numbering": 1,
   "nav_menu": {},
   "number_sections": true,
   "sideBar": true,
   "skip_h1_title": true,
   "title_cell": "Table of Contents",
   "title_sidebar": "Contents",
   "toc_cell": false,
   "toc_position": {},
   "toc_section_display": true,
   "toc_window_display": true
  }
 },
 "nbformat": 4,
 "nbformat_minor": 4
}
